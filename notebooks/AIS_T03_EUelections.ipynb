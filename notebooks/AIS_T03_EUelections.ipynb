{
 "cells": [
  {
   "cell_type": "markdown",
   "metadata": {
    "cell_style": "center",
    "slideshow": {
     "slide_type": "slide"
    }
   },
   "source": [
    "*Analytical Information Systems*\n",
    "\n",
    "# European Parliament Election 2019\n",
    "\n",
    "Matthias Griebel<br>\n",
    "Lehrstuhl für Wirtschaftsinformatik und Informationsmanagement\n",
    "\n",
    "SS 2019"
   ]
  },
  {
   "cell_type": "markdown",
   "metadata": {
    "slideshow": {
     "slide_type": "subslide"
    },
    "toc": true
   },
   "source": [
    "<h1>Agenda<span class=\"tocSkip\"></span></h1>\n",
    "<div class=\"toc\"><ul class=\"toc-item\"><li><span><a href=\"#Visualizing-the-European-Parliament-Election-2019\" data-toc-modified-id=\"Visualizing-the-European-Parliament-Election-2019-1\">Visualizing the European Parliament Election 2019</a></span><ul class=\"toc-item\"><li><span><a href=\"#Download-the-data\" data-toc-modified-id=\"Download-the-data-1.1\">Download the data</a></span></li><li><span><a href=\"#Filter-and-prepare-the-data\" data-toc-modified-id=\"Filter-and-prepare-the-data-1.2\">Filter and prepare the data</a></span></li><li><span><a href=\"#Vote-shares---rebuilding-the-graph\" data-toc-modified-id=\"Vote-shares---rebuilding-the-graph-1.3\">Vote shares - rebuilding the graph</a></span></li><li><span><a href=\"#Vote-count\" data-toc-modified-id=\"Vote-count-1.4\">Vote count</a></span></li><li><span><a href=\"#Comparing-two-parties\" data-toc-modified-id=\"Comparing-two-parties-1.5\">Comparing two parties</a></span></li><li><span><a href=\"#Relationship\" data-toc-modified-id=\"Relationship-1.6\">Relationship</a></span></li></ul></li></ul></div>"
   ]
  },
  {
   "cell_type": "markdown",
   "metadata": {
    "slideshow": {
     "slide_type": "subslide"
    }
   },
   "source": [
    "## Visualizing the European Parliament Election 2019"
   ]
  },
  {
   "cell_type": "markdown",
   "metadata": {},
   "source": [
    "The ninth elections to the European Parliament in Germany was held on 26 May 2019, electing members of the national Germany constituency to the European Parliament. The results are available [here](https://www.bundeswahlleiter.de/europawahlen/2019/ergebnisse.html)."
   ]
  },
  {
   "cell_type": "markdown",
   "metadata": {
    "cell_style": "center"
   },
   "source": [
    "<img src=\"images/03/Stimmenanteile.png\" style=\"width:100%\">"
   ]
  },
  {
   "cell_type": "markdown",
   "metadata": {
    "slideshow": {
     "slide_type": "subslide"
    }
   },
   "source": [
    "### Download the data"
   ]
  },
  {
   "cell_type": "code",
   "execution_count": null,
   "metadata": {
    "scrolled": true
   },
   "outputs": [],
   "source": [
    "library(tidyverse)\n",
    "'https://www.bundeswahlleiter.de/dam/jcr/5441f564-1f29-4971-9ae2-b8860c1724d1/ew19_kerg2.csv' %>% \n",
    "    read_csv2(skip = 9) -> eu_elections"
   ]
  },
  {
   "cell_type": "markdown",
   "metadata": {
    "slideshow": {
     "slide_type": "subslide"
    }
   },
   "source": [
    "Get an impression of the dataset"
   ]
  },
  {
   "cell_type": "code",
   "execution_count": null,
   "metadata": {},
   "outputs": [],
   "source": [
    "glimpse(eu_elections)\n",
    "eu_elections$Gebietsart %>% unique()\n",
    "eu_elections$Gruppenart %>% unique()"
   ]
  },
  {
   "cell_type": "markdown",
   "metadata": {
    "slideshow": {
     "slide_type": "subslide"
    }
   },
   "source": [
    "### Filter and prepare the data"
   ]
  },
  {
   "cell_type": "code",
   "execution_count": null,
   "metadata": {},
   "outputs": [],
   "source": [
    "eu_elections %>%\n",
    "    filter(Gebietsart == 'Bund', Gruppenart == 'Partei') %>%\n",
    "    mutate(Gruppenname = fct_reorder(Gruppenname, -VorpProzent), \n",
    "           Gruppenname = fct_lump(Gruppenname, prop=0.0065, w = Prozent, other_level = \"Sonstige\")) %>%\n",
    "    group_by(Gruppenname) %>%\n",
    "    summarise(Prozent = sum(Prozent),\n",
    "              VorpProzent =  sum(VorpProzent),\n",
    "              Anzahl =  sum(Anzahl),\n",
    "              VorpAnzahl =  sum(Anzahl)) -> share_data\n",
    "share_data "
   ]
  },
  {
   "cell_type": "markdown",
   "metadata": {
    "slideshow": {
     "slide_type": "subslide"
    }
   },
   "source": [
    "How would you solve this using the `if_else()` function? You may need `fct_relevel()` to reorder the factor levels."
   ]
  },
  {
   "cell_type": "markdown",
   "metadata": {
    "slideshow": {
     "slide_type": "-"
    }
   },
   "source": [
    "```R\n",
    "    mutate(Gruppenname = if_else(Prozent < 0.65, 'Sonstige', Gruppenname),\n",
    "           Gruppenname = fct_reorder(Gruppenname, -VorpProzent),\n",
    "           Gruppenname = fct_relevel(Gruppenname, \"Sonstige\" , after = Inf))\n",
    "```"
   ]
  },
  {
   "cell_type": "markdown",
   "metadata": {
    "slideshow": {
     "slide_type": "subslide"
    }
   },
   "source": [
    "Colors have a special meaning in our democracy. There is no universal standard to map the parties to their respective colors, so we have to do it manually (here, in a named vector)"
   ]
  },
  {
   "cell_type": "code",
   "execution_count": null,
   "metadata": {},
   "outputs": [],
   "source": [
    "party_colors <- c(\n",
    "    'AfD'= 'turquoise',\n",
    "    'CDU'= 'darkblue',\n",
    "    'CSU'='blue',\n",
    "    'DIE LINKE'='purple',\n",
    "    'Die PARTEI'= 'darkred',\n",
    "    'FAMILIE'='pink',\n",
    "    'FDP'='yellow',\n",
    "    'FREIE WÄHLER'='lightblue',\n",
    "    'GRÜNE'='seagreen',\n",
    "    'PIRATEN'= 'orange',\n",
    "    'SPD'='red',\n",
    "    'Tierschutzpartei'='lightgreen',\n",
    "    'Volt'='blue',\n",
    "    'ÖDP'= 'orange2',\n",
    "    'Sonstige'= 'gray')"
   ]
  },
  {
   "cell_type": "markdown",
   "metadata": {
    "slideshow": {
     "slide_type": "subslide"
    }
   },
   "source": [
    "### Vote shares - rebuilding the graph"
   ]
  },
  {
   "cell_type": "code",
   "execution_count": null,
   "metadata": {},
   "outputs": [],
   "source": [
    "options(repr.plot.width=8, repr.plot.height=3)\n",
    "share_data %>% \n",
    "    ggplot(aes(x = fct_reorder(Gruppenname, -VorpProzent), y = Prozent, fill=Gruppenname)) + \n",
    "    geom_col(width=0.5) + \n",
    "    geom_col(aes(y = VorpProzent), alpha=0.5, position= position_nudge(x = 0.25), width=0.5) +\n",
    "    geom_text(aes(label=format(round(Prozent, 1), nsmall = 1)), size= 3, vjust = -0.5) +\n",
    "    scale_fill_manual(values= party_colors) + \n",
    "    theme_minimal() +\n",
    "    theme(axis.text.x = element_text(angle = 45, vjust = 1, hjust = 0.95)) +\n",
    "    xlab(label = element_blank()) +\n",
    "    guides(fill=FALSE)"
   ]
  },
  {
   "cell_type": "markdown",
   "metadata": {
    "slideshow": {
     "slide_type": "subslide"
    }
   },
   "source": [
    "### Vote count"
   ]
  },
  {
   "cell_type": "code",
   "execution_count": null,
   "metadata": {},
   "outputs": [],
   "source": [
    "share_data %>%\n",
    "    mutate(Gruppenname = fct_reorder(Gruppenname, Anzahl),\n",
    "           Gruppenname = fct_relevel(Gruppenname, \"Sonstige\")) %>%\n",
    "    ggplot(aes(x=Gruppenname, y=Anzahl/1000000, fill=Gruppenname)) + \n",
    "    geom_col(width=0.7) + \n",
    "    geom_text(aes(label=format(round(Anzahl/1000000, 2), nsmall = 2)), size= 3, hjust = -0.1) +\n",
    "    scale_fill_manual(values= party_colors) + \n",
    "    theme_minimal() +\n",
    "    xlab(label = element_blank()) +\n",
    "    ylab(label = 'Stimmen in Mio.') +\n",
    "    guides(fill=FALSE) +\n",
    "    coord_flip()"
   ]
  },
  {
   "cell_type": "markdown",
   "metadata": {
    "slideshow": {
     "slide_type": "subslide"
    }
   },
   "source": [
    "### Comparing two parties   \n",
    "\n",
    "What is the distribution of shares in the different constituencies of each federal state?"
   ]
  },
  {
   "cell_type": "markdown",
   "metadata": {
    "slideshow": {
     "slide_type": "fragment"
    }
   },
   "source": [
    "First, we need to get map the federal state codes to their respective names:"
   ]
  },
  {
   "cell_type": "code",
   "execution_count": null,
   "metadata": {},
   "outputs": [],
   "source": [
    "eu_elections %>%\n",
    "    filter(Gebietsart == 'Land') %>%\n",
    "    select(Gebietsnummer, Gebietsname) %>%\n",
    "    rename(Land = Gebietsname) %>%\n",
    "    distinct() -> lookUpLand\n",
    "lookUpLand"
   ]
  },
  {
   "cell_type": "markdown",
   "metadata": {
    "slideshow": {
     "slide_type": "subslide"
    }
   },
   "source": [
    "__Plot the comparison:__ distribution of shares in the different constituencies of each federal state of the parties \"AfD\" and \"GRÜNE\"."
   ]
  },
  {
   "cell_type": "code",
   "execution_count": null,
   "metadata": {},
   "outputs": [],
   "source": [
    "eu_elections %>%\n",
    "    filter(Gebietsart == 'Kreis', Gruppenart == 'Partei') %>%\n",
    "    filter(Gruppenname %in% c(\"AfD\", \"GRÜNE\")) %>%\n",
    "    left_join(lookUpLand, by=c(\"UegGebietsnummer\" = \"Gebietsnummer\")) %>%\n",
    "    ggplot(aes(x=Prozent, fill=Gruppenname)) + \n",
    "    geom_density(alpha=0.5) + \n",
    "    scale_fill_manual(values= party_colors) + \n",
    "    theme_minimal() +\n",
    "    facet_wrap(~Land)"
   ]
  },
  {
   "cell_type": "markdown",
   "metadata": {
    "slideshow": {
     "slide_type": "subslide"
    }
   },
   "source": [
    "### Relationship\n",
    "\n",
    "Is there any relationship beweeen the shares of two parties at constituency level?"
   ]
  },
  {
   "cell_type": "markdown",
   "metadata": {
    "slideshow": {
     "slide_type": "fragment"
    }
   },
   "source": [
    "Filter and preprocess the data"
   ]
  },
  {
   "cell_type": "code",
   "execution_count": null,
   "metadata": {},
   "outputs": [],
   "source": [
    "eu_elections %>%\n",
    "    filter(Gebietsart == 'Kreis', Gruppenart == 'Partei') %>%\n",
    "    select(Gebietsname, Gruppenname, Prozent) %>%\n",
    "    spread(Gruppenname, Prozent) -> kreis_data\n",
    "kreis_data %>% head()"
   ]
  },
  {
   "cell_type": "markdown",
   "metadata": {
    "slideshow": {
     "slide_type": "subslide"
    }
   },
   "source": [
    "Plot the relationship beweeen the shares of 'GRÜNE' and 'CSU' at constituency level."
   ]
  },
  {
   "cell_type": "code",
   "execution_count": null,
   "metadata": {},
   "outputs": [],
   "source": [
    "set.seed(0)\n",
    "kreis_data %>% \n",
    "    ggplot(aes(x=CSU,y=GRÜNE, label=Gebietsname)) + \n",
    "    geom_point() + \n",
    "    ggrepel::geom_text_repel(data=sample_frac(kreis_data, 0.15),alpha=0.8) +\n",
    "    theme_minimal()"
   ]
  }
 ],
 "metadata": {
  "kernelspec": {
   "display_name": "R",
   "language": "R",
   "name": "ir"
  },
  "language_info": {
   "codemirror_mode": "r",
   "file_extension": ".r",
   "mimetype": "text/x-r-source",
   "name": "R",
   "pygments_lexer": "r",
   "version": "3.6.0"
  },
  "rise": {
   "enable_chalkboard": false,
   "overlay": "<div class='logo'><img src='images/uniwue4c.png'></div>",
   "scroll": true
  },
  "toc": {
   "base_numbering": 1,
   "nav_menu": {},
   "number_sections": false,
   "sideBar": true,
   "skip_h1_title": true,
   "title_cell": "Agenda",
   "title_sidebar": "Contents",
   "toc_cell": true,
   "toc_position": {},
   "toc_section_display": true,
   "toc_window_display": false
  }
 },
 "nbformat": 4,
 "nbformat_minor": 2
}
