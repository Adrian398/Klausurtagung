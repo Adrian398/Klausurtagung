{
 "cells": [
  {
   "cell_type": "markdown",
   "metadata": {
    "slideshow": {
     "slide_type": "slide"
    }
   },
   "source": [
    "*Analytical Information Systems*\n",
    "\n",
    "# Descriptive Analytics in R - Baseball Salaries\n",
    "\n",
    "Prof. Christoph M. Flath<br>\n",
    "Lehrstuhl für Wirtschaftsinformatik und Informationsmanagement\n",
    "\n",
    "SS 2019"
   ]
  },
  {
   "cell_type": "markdown",
   "metadata": {
    "slideshow": {
     "slide_type": "subslide"
    },
    "toc": true
   },
   "source": [
    "<h1>Agenda<span class=\"tocSkip\"></span></h1>\n",
    "<div class=\"toc\"><ul class=\"toc-item\"><li><span><a href=\"#Download-and-preprocess-data\" data-toc-modified-id=\"Download-and-preprocess-data-1\"><span class=\"toc-item-num\">1&nbsp;&nbsp;</span>Download and preprocess data</a></span></li><li><span><a href=\"#Descriptive-Statistics\" data-toc-modified-id=\"Descriptive-Statistics-2\"><span class=\"toc-item-num\">2&nbsp;&nbsp;</span>Descriptive Statistics</a></span><ul class=\"toc-item\"><li><span><a href=\"#Central-Tendency\" data-toc-modified-id=\"Central-Tendency-2.1\"><span class=\"toc-item-num\">2.1&nbsp;&nbsp;</span>Central Tendency</a></span></li><li><span><a href=\"#Variability\" data-toc-modified-id=\"Variability-2.2\"><span class=\"toc-item-num\">2.2&nbsp;&nbsp;</span>Variability</a></span></li><li><span><a href=\"#Shape\" data-toc-modified-id=\"Shape-2.3\"><span class=\"toc-item-num\">2.3&nbsp;&nbsp;</span>Shape</a></span></li></ul></li><li><span><a href=\"#Visualization\" data-toc-modified-id=\"Visualization-3\"><span class=\"toc-item-num\">3&nbsp;&nbsp;</span>Visualization</a></span><ul class=\"toc-item\"><li><span><a href=\"#Histogram\" data-toc-modified-id=\"Histogram-3.1\"><span class=\"toc-item-num\">3.1&nbsp;&nbsp;</span>Histogram</a></span></li><li><span><a href=\"#Faceting\" data-toc-modified-id=\"Faceting-3.2\"><span class=\"toc-item-num\">3.2&nbsp;&nbsp;</span>Faceting</a></span></li><li><span><a href=\"#Dot-Plot-Histogram\" data-toc-modified-id=\"Dot-Plot-Histogram-3.3\"><span class=\"toc-item-num\">3.3&nbsp;&nbsp;</span>Dot Plot Histogram</a></span></li><li><span><a href=\"#Boxplot\" data-toc-modified-id=\"Boxplot-3.4\"><span class=\"toc-item-num\">3.4&nbsp;&nbsp;</span>Boxplot</a></span></li></ul></li></ul></div>"
   ]
  },
  {
   "cell_type": "markdown",
   "metadata": {
    "slideshow": {
     "slide_type": "subslide"
    }
   },
   "source": [
    "## Download and preprocess data"
   ]
  },
  {
   "cell_type": "code",
   "execution_count": null,
   "metadata": {},
   "outputs": [],
   "source": [
    "library(tidyverse)\n",
    "file_url <- \"https://www.dropbox.com/s/ysd0zljicq5yqfo/baseball.csv?dl=1\"\n",
    "\n",
    "file_url %>%\n",
    "    read_csv2() %>%\n",
    "    mutate(Salary = str_replace_all(Salary,\"\\\\$\",\"\")) %>%\n",
    "    mutate(Salary = str_replace_all(Salary,\",\",\"\")) %>%\n",
    "    mutate(Salary = as.numeric(Salary) / 1000000) -> salaries"
   ]
  },
  {
   "cell_type": "markdown",
   "metadata": {
    "slideshow": {
     "slide_type": "subslide"
    }
   },
   "source": [
    "Have a quick look at the data"
   ]
  },
  {
   "cell_type": "code",
   "execution_count": null,
   "metadata": {},
   "outputs": [],
   "source": [
    "glimpse(salaries)"
   ]
  },
  {
   "cell_type": "markdown",
   "metadata": {
    "slideshow": {
     "slide_type": "slide"
    }
   },
   "source": [
    "## Descriptive Statistics"
   ]
  },
  {
   "cell_type": "markdown",
   "metadata": {
    "slideshow": {
     "slide_type": "subslide"
    }
   },
   "source": [
    "### Central Tendency"
   ]
  },
  {
   "cell_type": "code",
   "execution_count": null,
   "metadata": {},
   "outputs": [],
   "source": [
    "salaries %>%\n",
    "  summarise(mean=mean(Salary),\n",
    "            median=median(Salary))"
   ]
  },
  {
   "cell_type": "markdown",
   "metadata": {
    "slideshow": {
     "slide_type": "subslide"
    }
   },
   "source": [
    "no direct function for mode"
   ]
  },
  {
   "cell_type": "code",
   "execution_count": null,
   "metadata": {},
   "outputs": [],
   "source": [
    "salaries %>%\n",
    "  group_by(Salary) %>%\n",
    "  summarize(count = n()) %>%\n",
    "  arrange(-count) %>%\n",
    "  head(5)"
   ]
  },
  {
   "cell_type": "markdown",
   "metadata": {
    "slideshow": {
     "slide_type": "slide"
    }
   },
   "source": [
    "### Variability"
   ]
  },
  {
   "cell_type": "code",
   "execution_count": null,
   "metadata": {
    "slideshow": {
     "slide_type": "fragment"
    }
   },
   "outputs": [],
   "source": [
    "salaries %>%\n",
    "  summarise(range=max(Salary)-min(Salary),\n",
    "            var=var(Salary),\n",
    "            CoV=sd(Salary)/mean(Salary))"
   ]
  },
  {
   "cell_type": "markdown",
   "metadata": {
    "slideshow": {
     "slide_type": "subslide"
    }
   },
   "source": [
    "Tukey's five number summary (minimum, lower-hinge, median, upper-hinge, maximum)"
   ]
  },
  {
   "cell_type": "code",
   "execution_count": null,
   "metadata": {},
   "outputs": [],
   "source": [
    "fivenum(salaries$Salary)"
   ]
  },
  {
   "cell_type": "markdown",
   "metadata": {
    "slideshow": {
     "slide_type": "fragment"
    }
   },
   "source": [
    "Summary function"
   ]
  },
  {
   "cell_type": "code",
   "execution_count": null,
   "metadata": {},
   "outputs": [],
   "source": [
    "summary(salaries$Salary)"
   ]
  },
  {
   "cell_type": "markdown",
   "metadata": {
    "slideshow": {
     "slide_type": "subslide"
    }
   },
   "source": [
    "#### not meaningful without comparisons - let's do on team level\n",
    "\n",
    "- range"
   ]
  },
  {
   "cell_type": "code",
   "execution_count": null,
   "metadata": {
    "scrolled": true
   },
   "outputs": [],
   "source": [
    "salaries %>%\n",
    "  group_by(Team) %>%\n",
    "  summarize(range = diff(range(Salary))) %>%\n",
    "  arrange(range)"
   ]
  },
  {
   "cell_type": "markdown",
   "metadata": {
    "slideshow": {
     "slide_type": "subslide"
    }
   },
   "source": [
    "- covariance"
   ]
  },
  {
   "cell_type": "code",
   "execution_count": null,
   "metadata": {
    "scrolled": true
   },
   "outputs": [],
   "source": [
    "salaries %>%\n",
    "  group_by(Team) %>%\n",
    "  summarize(cov = sd(Salary)/mean(Salary)) %>%\n",
    "  arrange(cov)"
   ]
  },
  {
   "cell_type": "markdown",
   "metadata": {
    "slideshow": {
     "slide_type": "slide"
    }
   },
   "source": [
    "###  Shape"
   ]
  },
  {
   "cell_type": "code",
   "execution_count": null,
   "metadata": {},
   "outputs": [],
   "source": [
    "salaries %>%\n",
    "  summarise(skew=psych::skew(Salary),\n",
    "            kurt=psych::kurtosi(Salary))"
   ]
  },
  {
   "cell_type": "code",
   "execution_count": null,
   "metadata": {
    "scrolled": true,
    "slideshow": {
     "slide_type": "subslide"
    }
   },
   "outputs": [],
   "source": [
    "salaries %>%\n",
    "  group_by(Team) %>%\n",
    "  summarize(skew = psych::skew(Salary)) %>%\n",
    "  arrange(-skew)"
   ]
  },
  {
   "cell_type": "code",
   "execution_count": null,
   "metadata": {
    "scrolled": true,
    "slideshow": {
     "slide_type": "subslide"
    }
   },
   "outputs": [],
   "source": [
    "salaries %>%\n",
    "  group_by(Team) %>%\n",
    "  summarize(skew = psych::skew(Salary)) %>%\n",
    "  arrange(skew)"
   ]
  },
  {
   "cell_type": "code",
   "execution_count": null,
   "metadata": {
    "scrolled": true,
    "slideshow": {
     "slide_type": "subslide"
    }
   },
   "outputs": [],
   "source": [
    "salaries %>%\n",
    "  group_by(Team) %>%\n",
    "  summarize(kurt = psych::kurtosi(Salary)) %>%\n",
    "  arrange(-kurt)"
   ]
  },
  {
   "cell_type": "code",
   "execution_count": null,
   "metadata": {
    "scrolled": true,
    "slideshow": {
     "slide_type": "subslide"
    }
   },
   "outputs": [],
   "source": [
    "salaries %>%\n",
    "  group_by(Team) %>%\n",
    "  summarize(kurt = psych::kurtosi(Salary)) %>%\n",
    "  arrange(kurt)"
   ]
  },
  {
   "cell_type": "markdown",
   "metadata": {
    "slideshow": {
     "slide_type": "slide"
    }
   },
   "source": [
    "## Visualization"
   ]
  },
  {
   "cell_type": "markdown",
   "metadata": {
    "slideshow": {
     "slide_type": "subslide"
    }
   },
   "source": [
    "### Histogram"
   ]
  },
  {
   "cell_type": "code",
   "execution_count": null,
   "metadata": {},
   "outputs": [],
   "source": [
    "options(repr.plot.width=4, repr.plot.height=4) \n",
    "salaries %>%\n",
    "  ggplot(aes(x=Salary)) +\n",
    "  geom_histogram(fill=\"white\", color=\"black\")"
   ]
  },
  {
   "cell_type": "markdown",
   "metadata": {
    "slideshow": {
     "slide_type": "subslide"
    }
   },
   "source": [
    "__Log scaled histogram__"
   ]
  },
  {
   "cell_type": "code",
   "execution_count": null,
   "metadata": {
    "slideshow": {
     "slide_type": "-"
    }
   },
   "outputs": [],
   "source": [
    "salaries %>%\n",
    "  ggplot(aes(x=Salary)) +\n",
    "  geom_histogram(fill=\"white\", color=\"black\") +\n",
    "  scale_x_log10()"
   ]
  },
  {
   "cell_type": "markdown",
   "metadata": {
    "slideshow": {
     "slide_type": "subslide"
    }
   },
   "source": [
    "### Faceting\n",
    "__Small multiples Team with log scale__"
   ]
  },
  {
   "cell_type": "code",
   "execution_count": null,
   "metadata": {
    "slideshow": {
     "slide_type": "-"
    }
   },
   "outputs": [],
   "source": [
    "salaries %>%\n",
    "  ggplot(aes(x=Salary)) +\n",
    "  geom_histogram(fill=\"white\", color=\"black\") +\n",
    "  facet_wrap(~Team) +\n",
    "  scale_x_log10()"
   ]
  },
  {
   "cell_type": "markdown",
   "metadata": {
    "slideshow": {
     "slide_type": "subslide"
    }
   },
   "source": [
    "__Small multiples Position with log scale__"
   ]
  },
  {
   "cell_type": "code",
   "execution_count": null,
   "metadata": {
    "slideshow": {
     "slide_type": "-"
    }
   },
   "outputs": [],
   "source": [
    "salaries %>%\n",
    "  ggplot(aes(x=Salary)) + \n",
    "  geom_histogram(fill=\"white\", color=\"black\") + \n",
    "  facet_wrap(~Position) + \n",
    "  scale_x_log10()"
   ]
  },
  {
   "cell_type": "markdown",
   "metadata": {
    "slideshow": {
     "slide_type": "subslide"
    }
   },
   "source": [
    "### Dot Plot Histogram"
   ]
  },
  {
   "cell_type": "code",
   "execution_count": null,
   "metadata": {
    "slideshow": {
     "slide_type": "-"
    }
   },
   "outputs": [],
   "source": [
    "salaries %>%\n",
    "  ggplot(aes(x=Salary)) + \n",
    "  geom_dotplot(binwidth = 0.5)"
   ]
  },
  {
   "cell_type": "markdown",
   "metadata": {
    "slideshow": {
     "slide_type": "subslide"
    }
   },
   "source": [
    "### Boxplot"
   ]
  },
  {
   "cell_type": "code",
   "execution_count": null,
   "metadata": {
    "slideshow": {
     "slide_type": "-"
    }
   },
   "outputs": [],
   "source": [
    "salaries %>%\n",
    "  ggplot(aes(x=Position,y=Salary)) + \n",
    "  xlab(\"\") + \n",
    "  geom_boxplot() + \n",
    "    coord_flip()"
   ]
  }
 ],
 "metadata": {
  "kernelspec": {
   "display_name": "R",
   "language": "R",
   "name": "ir"
  },
  "language_info": {
   "codemirror_mode": "r",
   "file_extension": ".r",
   "mimetype": "text/x-r-source",
   "name": "R",
   "pygments_lexer": "r",
   "version": "3.6.0"
  },
  "rise": {
   "enable_chalkboard": false,
   "overlay": "<div class='logo'><img src='images/uniwue4c.png'></div>",
   "scroll": true
  },
  "toc": {
   "base_numbering": 1,
   "nav_menu": {},
   "number_sections": true,
   "sideBar": true,
   "skip_h1_title": true,
   "title_cell": "Agenda",
   "title_sidebar": "Contents",
   "toc_cell": true,
   "toc_position": {},
   "toc_section_display": true,
   "toc_window_display": false
  }
 },
 "nbformat": 4,
 "nbformat_minor": 2
}
