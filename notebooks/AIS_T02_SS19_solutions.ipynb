{
 "cells": [
  {
   "cell_type": "markdown",
   "metadata": {
    "slideshow": {
     "slide_type": "slide"
    }
   },
   "source": [
    "*Analytical Information Systems*\n",
    "\n",
    "# Tutorial 2 - Data Integration\n",
    "\n",
    "Matthias Griebel<br>\n",
    "Lehrstuhl für Wirtschaftsinformatik und Informationsmanagement\n",
    "\n",
    "SS 2019"
   ]
  },
  {
   "cell_type": "markdown",
   "metadata": {
    "slideshow": {
     "slide_type": "subslide"
    },
    "toc": true
   },
   "source": [
    "<h1>Agenda<span class=\"tocSkip\"></span></h1>\n",
    "<div class=\"toc\"><ul class=\"toc-item\"><li><span><a href=\"#1-Recap-of-Data-Integration\" data-toc-modified-id=\"1-Recap-of-Data-Integration-1\">1 Recap of Data Integration</a></span></li><li><span><a href=\"#2-Data-Extraction\" data-toc-modified-id=\"2-Data-Extraction-2\">2 Data Extraction</a></span></li><li><span><a href=\"#3-Data-Transformation\" data-toc-modified-id=\"3-Data-Transformation-3\">3 Data Transformation</a></span><ul class=\"toc-item\"><li><span><a href=\"#3.1-Data-Cleansing\" data-toc-modified-id=\"3.1-Data-Cleansing-3.1\">3.1 Data Cleansing</a></span></li><li><span><a href=\"#3.2-Data-Harmonization\" data-toc-modified-id=\"3.2-Data-Harmonization-3.2\">3.2 Data Harmonization</a></span></li><li><span><a href=\"#3.3-Data-Combination\" data-toc-modified-id=\"3.3-Data-Combination-3.3\">3.3 Data Combination</a></span></li><li><span><a href=\"#3.4-Enrich-the-data\" data-toc-modified-id=\"3.4-Enrich-the-data-3.4\">3.4 Enrich the data</a></span></li></ul></li><li><span><a href=\"#4-Data-Loading\" data-toc-modified-id=\"4-Data-Loading-4\">4 Data Loading</a></span></li><li><span><a href=\"#5-Exam-Questions\" data-toc-modified-id=\"5-Exam-Questions-5\">5 Exam Questions</a></span><ul class=\"toc-item\"><li><span><a href=\"#5.1-Exam-AIS-SS-2018,-Question-1\" data-toc-modified-id=\"5.1-Exam-AIS-SS-2018,-Question-1-5.1\">5.1 Exam AIS SS 2018, Question 1</a></span></li></ul></li></ul></div>"
   ]
  },
  {
   "cell_type": "markdown",
   "metadata": {
    "slideshow": {
     "slide_type": "subslide"
    }
   },
   "source": [
    "## 1 Recap of Data Integration"
   ]
  },
  {
   "cell_type": "markdown",
   "metadata": {
    "slideshow": {
     "slide_type": "fragment"
    }
   },
   "source": [
    "__Definition [Gartner IT Glossary](https://www.gartner.com/it-glossary/data-integration-tools/)__\n",
    "\n",
    "*'[...] __data integration__ comprises the practices, architectural techniques and tools for achieving the __consistent access and delivery__ of data across the spectrum of data subject areas and data structure types in the enterprise to meet the data consumption requirements of all applications and business processes.'*"
   ]
  },
  {
   "cell_type": "markdown",
   "metadata": {
    "slideshow": {
     "slide_type": "subslide"
    }
   },
   "source": [
    "__Identify relevant databases__\n",
    "\n",
    "\n",
    "- First step of data integration\n",
    "- External and internal data sources comprise \n",
    "    - relational and non-relational databases, \n",
    "    - XML, JSON\n",
    "    - flat files (e.g., .csv)\n",
    "    - and many more<br>\n",
    "\n",
    "- Two types of heterogeneity will inevitably emerge: Schema and data-level<br>\n",
    "\n",
    "__How do get the data ready for analysis?__\n",
    "\n",
    "<img src=\"https://github.com/matjesg/AIS_2019/raw/master/notebooks/images/02/BIStack_ds.png\" style=\"width:80%\">"
   ]
  },
  {
   "cell_type": "markdown",
   "metadata": {
    "slideshow": {
     "slide_type": "subslide"
    }
   },
   "source": [
    "__Data Warehousing: ETL__\n",
    "\n",
    "*from [Wikipedia](https://en.wikipedia.org/wiki/Extract,_transform,_load)*:\n",
    "\n",
    "\"[...] extract, transform, load (ETL) is the general procedure of copying data from one or more sources into a destination system which represents the data differently from the source(s).\"\n",
    "- __Data extraction__ involves extracting data from homogeneous or heterogeneous sources\n",
    "- __Data transformation__ processes data by data cleansing and transforming them into a proper storage format/structure for the purposes of querying and analysis\n",
    "- __Data loading__ describes the insertion of data into the final target database such as an operational data store, a data mart, or a data warehouse.\n",
    "\n",
    "<img src=\"https://github.com/matjesg/AIS_2019/raw/master/notebooks/images/02/BIStack_etl.png\" style=\"width:80%\">"
   ]
  },
  {
   "cell_type": "markdown",
   "metadata": {
    "cell_style": "center",
    "slideshow": {
     "slide_type": "subslide"
    }
   },
   "source": [
    "__Today's Focus__\n",
    "\n",
    "We will learn how to...\n",
    "- read data from different sources\n",
    "- cleanse and transform the data sets\n",
    "- combine the data sets\n",
    "- enrich the data sets\n",
    "- load the data into a database management system\n",
    "- perform queries on a database "
   ]
  },
  {
   "cell_type": "markdown",
   "metadata": {
    "cell_style": "center",
    "slideshow": {
     "slide_type": "slide"
    }
   },
   "source": [
    "## 2 Data Extraction\n",
    "\n",
    "<img src=\"https://readr.tidyverse.org/logo.png\" style=\"width:15%; float:right\">\n",
    "\n",
    "- The **readr** package provides a fast and friendly way <br> for reading rectangular data \n",
    "    - File formats: .csv, .tsv, and .fwf\n",
    "    - Part of the core tidyverse\n",
    "```R\n",
    "# Example\n",
    "read_csv(\"file.csv\")\n",
    "```\n"
   ]
  },
  {
   "cell_type": "markdown",
   "metadata": {
    "slideshow": {
     "slide_type": "fragment"
    }
   },
   "source": [
    "- **Packages for other file formats**\n",
    "    - haven - SPSS, Stata, and SAS files \n",
    "    - readxl - excel files (.xls and .xlsx) \n",
    "    - DBI - databases\n",
    "    - jsonlite - json\n",
    "    - xml2 - XML\n",
    "    - httr - Web APIs\n",
    "    - rvest - HTML (Web Scraping)"
   ]
  },
  {
   "cell_type": "markdown",
   "metadata": {
    "slideshow": {
     "slide_type": "subslide"
    }
   },
   "source": [
    "__Data Import Cheat Sheet__\n",
    "\n",
    "- How to read in flat files \n",
    "- Work with the results as tibbles\n",
    "- Reshape messy data\n",
    "\n",
    "[Download here](https://github.com/rstudio/cheatsheets/raw/master/data-import.pdf)\n",
    "<img src=\"https://www.rstudio.com/wp-content/uploads/2018/08/data-import-600x464.png\" style=\"width:50%; float:right\">\n",
    "\n"
   ]
  },
  {
   "cell_type": "markdown",
   "metadata": {
    "slideshow": {
     "slide_type": "subslide"
    }
   },
   "source": [
    "__*Up to you - Read the data*__\n",
    "\n",
    "You are provided with a set of operational data from a retail company. \n",
    "\n",
    "- Transaction data (Comma Delimited Files): \n",
    "    - *'transactions_eng.csv'*\n",
    "    - *'transactions_ger.csv'*\n",
    "   \n",
    "- Customer data (Semi-colon Delimited Files)\n",
    "    - *'customers.csv*\n",
    "    - *'customers_usa.csv*\n",
    "\n",
    "- Product data (Excel Files)\n",
    "    - *'products_convenience.xlsx'*\n",
    "    - *'products.xlsx*\n",
    "    \n",
    "Load the provided files. All files are stored in the folder *'data/T02/'*\n",
    "- you can use `setwd()` to change your working directory to 'data/T02'"
   ]
  },
  {
   "cell_type": "markdown",
   "metadata": {
    "slideshow": {
     "slide_type": "subslide"
    }
   },
   "source": [
    "- Load the required packages"
   ]
  },
  {
   "cell_type": "code",
   "execution_count": 1,
   "metadata": {
    "slideshow": {
     "slide_type": "-"
    }
   },
   "outputs": [
    {
     "name": "stderr",
     "output_type": "stream",
     "text": [
      "Registered S3 methods overwritten by 'ggplot2':\n",
      "  method         from \n",
      "  [.quosures     rlang\n",
      "  c.quosures     rlang\n",
      "  print.quosures rlang\n",
      "── \u001b[1mAttaching packages\u001b[22m ─────────────────────────────────────── tidyverse 1.2.1 ──\n",
      "\u001b[32m✔\u001b[39m \u001b[34mggplot2\u001b[39m 3.1.1     \u001b[32m✔\u001b[39m \u001b[34mpurrr  \u001b[39m 0.3.2\n",
      "\u001b[32m✔\u001b[39m \u001b[34mtibble \u001b[39m 2.1.1     \u001b[32m✔\u001b[39m \u001b[34mdplyr  \u001b[39m 0.8.1\n",
      "\u001b[32m✔\u001b[39m \u001b[34mtidyr  \u001b[39m 0.8.3     \u001b[32m✔\u001b[39m \u001b[34mstringr\u001b[39m 1.4.0\n",
      "\u001b[32m✔\u001b[39m \u001b[34mreadr  \u001b[39m 1.3.1     \u001b[32m✔\u001b[39m \u001b[34mforcats\u001b[39m 0.4.0\n",
      "── \u001b[1mConflicts\u001b[22m ────────────────────────────────────────── tidyverse_conflicts() ──\n",
      "\u001b[31m✖\u001b[39m \u001b[34mdplyr\u001b[39m::\u001b[32mfilter()\u001b[39m  masks \u001b[34mstats\u001b[39m::filter()\n",
      "\u001b[31m✖\u001b[39m \u001b[34mpurrr\u001b[39m::\u001b[32mflatten()\u001b[39m masks \u001b[34mjsonlite\u001b[39m::flatten()\n",
      "\u001b[31m✖\u001b[39m \u001b[34mdplyr\u001b[39m::\u001b[32mlag()\u001b[39m     masks \u001b[34mstats\u001b[39m::lag()\n"
     ]
    }
   ],
   "source": [
    "library(tidyverse) # includes the readr package\n",
    "library(readxl) # excel files"
   ]
  },
  {
   "cell_type": "markdown",
   "metadata": {
    "slideshow": {
     "slide_type": "fragment"
    }
   },
   "source": [
    "- Change the working directory"
   ]
  },
  {
   "cell_type": "code",
   "execution_count": 2,
   "metadata": {
    "slideshow": {
     "slide_type": "-"
    }
   },
   "outputs": [
    {
     "data": {
      "text/html": [
       "<ol class=list-inline>\n",
       "\t<li>'customers.csv'</li>\n",
       "\t<li>'customers_usa.csv'</li>\n",
       "\t<li>'products.xlsx'</li>\n",
       "\t<li>'products_convenience.xlsx'</li>\n",
       "\t<li>'transactions_eng.csv'</li>\n",
       "\t<li>'transactions_ger.csv'</li>\n",
       "</ol>\n"
      ],
      "text/latex": [
       "\\begin{enumerate*}\n",
       "\\item 'customers.csv'\n",
       "\\item 'customers\\_usa.csv'\n",
       "\\item 'products.xlsx'\n",
       "\\item 'products\\_convenience.xlsx'\n",
       "\\item 'transactions\\_eng.csv'\n",
       "\\item 'transactions\\_ger.csv'\n",
       "\\end{enumerate*}\n"
      ],
      "text/markdown": [
       "1. 'customers.csv'\n",
       "2. 'customers_usa.csv'\n",
       "3. 'products.xlsx'\n",
       "4. 'products_convenience.xlsx'\n",
       "5. 'transactions_eng.csv'\n",
       "6. 'transactions_ger.csv'\n",
       "\n",
       "\n"
      ],
      "text/plain": [
       "[1] \"customers.csv\"             \"customers_usa.csv\"        \n",
       "[3] \"products.xlsx\"             \"products_convenience.xlsx\"\n",
       "[5] \"transactions_eng.csv\"      \"transactions_ger.csv\"     "
      ]
     },
     "metadata": {},
     "output_type": "display_data"
    }
   ],
   "source": [
    "setwd('data/T02')\n",
    "list.files()"
   ]
  },
  {
   "cell_type": "markdown",
   "metadata": {
    "slideshow": {
     "slide_type": "subslide"
    }
   },
   "source": [
    "- Read the data using the appropriate functions"
   ]
  },
  {
   "cell_type": "code",
   "execution_count": 3,
   "metadata": {},
   "outputs": [
    {
     "name": "stderr",
     "output_type": "stream",
     "text": [
      "Using ',' as decimal and '.' as grouping mark. Use read_delim() for more control.\n",
      "Parsed with column specification:\n",
      "cols(\n",
      "  customerID = \u001b[32mcol_double()\u001b[39m,\n",
      "  country = \u001b[31mcol_character()\u001b[39m,\n",
      "  gender = \u001b[31mcol_character()\u001b[39m,\n",
      "  firstNames = \u001b[31mcol_character()\u001b[39m,\n",
      "  lastNames = \u001b[31mcol_character()\u001b[39m\n",
      ")\n",
      "Using ',' as decimal and '.' as grouping mark. Use read_delim() for more control.\n",
      "Parsed with column specification:\n",
      "cols(\n",
      "  customerID = \u001b[32mcol_double()\u001b[39m,\n",
      "  country = \u001b[31mcol_character()\u001b[39m,\n",
      "  gender = \u001b[31mcol_character()\u001b[39m,\n",
      "  name = \u001b[31mcol_character()\u001b[39m\n",
      ")\n",
      "Parsed with column specification:\n",
      "cols(\n",
      "  date = \u001b[34mcol_date(format = \"\")\u001b[39m,\n",
      "  customerID = \u001b[32mcol_double()\u001b[39m,\n",
      "  productID = \u001b[32mcol_double()\u001b[39m,\n",
      "  payment = \u001b[31mcol_character()\u001b[39m,\n",
      "  amount = \u001b[32mcol_double()\u001b[39m\n",
      ")\n",
      "Parsed with column specification:\n",
      "cols(\n",
      "  Datum = \u001b[34mcol_date(format = \"\")\u001b[39m,\n",
      "  Kundennummer = \u001b[32mcol_double()\u001b[39m,\n",
      "  Produkt = \u001b[32mcol_double()\u001b[39m,\n",
      "  Zahlungsmethode = \u001b[31mcol_character()\u001b[39m,\n",
      "  Stückzahl = \u001b[32mcol_double()\u001b[39m\n",
      ")\n"
     ]
    }
   ],
   "source": [
    "customers <- read_csv2('customers.csv')\n",
    "customers_usa <- read_csv2('customers_usa.csv')\n",
    "\n",
    "products <- read_xlsx('products.xlsx')\n",
    "products_convenience <- read_xlsx('products_convenience.xlsx')\n",
    "\n",
    "transactions_eng <- read_csv('transactions_eng.csv')\n",
    "transactions_ger <- read_csv('transactions_ger.csv')"
   ]
  },
  {
   "cell_type": "markdown",
   "metadata": {
    "slideshow": {
     "slide_type": "subslide"
    }
   },
   "source": [
    "- Take a look at the data \n",
    "```R\n",
    "head()\n",
    "sample_n()\n",
    "```\n",
    "- Check that all data is read in correctly\n",
    "```R\n",
    "nrow(), ncol(), colnames()\n",
    "```\n",
    "- Understand the rows and columns (observations and variables)\n",
    "```R\n",
    "glimpse()\n",
    "summary()\n",
    "```"
   ]
  },
  {
   "cell_type": "code",
   "execution_count": 4,
   "metadata": {},
   "outputs": [],
   "source": [
    "# try out the different functions"
   ]
  },
  {
   "cell_type": "markdown",
   "metadata": {
    "slideshow": {
     "slide_type": "slide"
    }
   },
   "source": [
    "## 3 Data Transformation"
   ]
  },
  {
   "cell_type": "markdown",
   "metadata": {},
   "source": [
    "Data transformation converts the data into a proper storage format/structure for the purposes of querying and analysis\n",
    "- Data cleansing \n",
    "    - Correct syntactical or semantical defects\n",
    "- Data harmonization\n",
    "    - Solving schema heterogeneity \n",
    "    - Solving data-level heterogeneity\n",
    "- Data combination\n",
    "    - Combine the harmonized data sets\n",
    "- Data enrichment\n",
    "    - Calculate frequently required (business) key figures as separate attributes"
   ]
  },
  {
   "cell_type": "markdown",
   "metadata": {
    "cell_style": "center",
    "slideshow": {
     "slide_type": "subslide"
    }
   },
   "source": [
    "### 3.1 Data Cleansing \n",
    "\n",
    "__Correction of syntactical or semantical defects__\n",
    "\n",
    "Depending on the degree of automation in the defect detection and defect correction we distinguish between three classes of defects.<br>\n",
    "\n",
    "\\begin{array}{|c|c|c|}\n",
    "  \\hline\n",
    " & Automated\\ Correction & Manual\\  Correction \\\\ \n",
    "  \\hline\n",
    "Automated\\  Detection &1^{st} class\\ defects & 2^{nd} class\\ defects\\\\ \\hline\n",
    "Manual\\  Detection & - & 3^{rd} class\\ defects \\\\  \\hline\n",
    "\\end{array}"
   ]
  },
  {
   "cell_type": "markdown",
   "metadata": {
    "slideshow": {
     "slide_type": "subslide"
    }
   },
   "source": [
    "__1<sup>st</sup> class deficiencies__\n",
    "\n",
    "Syntactic and semantic deficiencies that are known in advance or can be anticipated.\n",
    "- Syntactic: format, special characters, …\n",
    "- Semantic: missing values in operating systems due to planned maintenance, …\n",
    "\n",
    "→ Deficiencies can be automatically resolved by implementing transformation rules"
   ]
  },
  {
   "cell_type": "markdown",
   "metadata": {
    "slideshow": {
     "slide_type": "subslide"
    }
   },
   "source": [
    "__*Up to you - 1<sup>st</sup> class deficiencies*__\n",
    "\n",
    "1. Find the syntactic 1st class deficiencies in the products convenience data sets\n",
    "    - `products_convenience`: look at price and costs\n",
    "    - `customers_usa`: look at the names"
   ]
  },
  {
   "cell_type": "code",
   "execution_count": 5,
   "metadata": {},
   "outputs": [
    {
     "data": {
      "text/html": [
       "<table>\n",
       "<caption>A tibble: 6 × 4</caption>\n",
       "<thead>\n",
       "\t<tr><th scope=col>productID</th><th scope=col>price</th><th scope=col>cost</th><th scope=col>category</th></tr>\n",
       "\t<tr><th scope=col>&lt;dbl&gt;</th><th scope=col>&lt;chr&gt;</th><th scope=col>&lt;chr&gt;</th><th scope=col>&lt;chr&gt;</th></tr>\n",
       "</thead>\n",
       "<tbody>\n",
       "\t<tr><td>87000</td><td>347.52 €</td><td>121.77 €</td><td>convenience</td></tr>\n",
       "\t<tr><td>32128</td><td>66.56 € </td><td>27.97 € </td><td>convenience</td></tr>\n",
       "\t<tr><td>38582</td><td>634.24 €</td><td>252.61 €</td><td>convenience</td></tr>\n",
       "\t<tr><td>43107</td><td>475.24 €</td><td>236.64 €</td><td>convenience</td></tr>\n",
       "\t<tr><td>15915</td><td>972.52 €</td><td>400.57 €</td><td>convenience</td></tr>\n",
       "\t<tr><td>88744</td><td>815.39 €</td><td>488.68 €</td><td>convenience</td></tr>\n",
       "</tbody>\n",
       "</table>\n"
      ],
      "text/latex": [
       "A tibble: 6 × 4\n",
       "\\begin{tabular}{r|llll}\n",
       " productID & price & cost & category\\\\\n",
       " <dbl> & <chr> & <chr> & <chr>\\\\\n",
       "\\hline\n",
       "\t 87000 & 347.52 € & 121.77 € & convenience\\\\\n",
       "\t 32128 & 66.56 €  & 27.97 €  & convenience\\\\\n",
       "\t 38582 & 634.24 € & 252.61 € & convenience\\\\\n",
       "\t 43107 & 475.24 € & 236.64 € & convenience\\\\\n",
       "\t 15915 & 972.52 € & 400.57 € & convenience\\\\\n",
       "\t 88744 & 815.39 € & 488.68 € & convenience\\\\\n",
       "\\end{tabular}\n"
      ],
      "text/markdown": [
       "\n",
       "A tibble: 6 × 4\n",
       "\n",
       "| productID &lt;dbl&gt; | price &lt;chr&gt; | cost &lt;chr&gt; | category &lt;chr&gt; |\n",
       "|---|---|---|---|\n",
       "| 87000 | 347.52 € | 121.77 € | convenience |\n",
       "| 32128 | 66.56 €  | 27.97 €  | convenience |\n",
       "| 38582 | 634.24 € | 252.61 € | convenience |\n",
       "| 43107 | 475.24 € | 236.64 € | convenience |\n",
       "| 15915 | 972.52 € | 400.57 € | convenience |\n",
       "| 88744 | 815.39 € | 488.68 € | convenience |\n",
       "\n"
      ],
      "text/plain": [
       "  productID price    cost     category   \n",
       "1 87000     347.52 € 121.77 € convenience\n",
       "2 32128     66.56 €  27.97 €  convenience\n",
       "3 38582     634.24 € 252.61 € convenience\n",
       "4 43107     475.24 € 236.64 € convenience\n",
       "5 15915     972.52 € 400.57 € convenience\n",
       "6 88744     815.39 € 488.68 € convenience"
      ]
     },
     "metadata": {},
     "output_type": "display_data"
    }
   ],
   "source": [
    "products_convenience %>% head()"
   ]
  },
  {
   "cell_type": "code",
   "execution_count": 6,
   "metadata": {},
   "outputs": [
    {
     "data": {
      "text/html": [
       "<table>\n",
       "<caption>A tibble: 6 × 4</caption>\n",
       "<thead>\n",
       "\t<tr><th scope=col>customerID</th><th scope=col>country</th><th scope=col>gender</th><th scope=col>name</th></tr>\n",
       "\t<tr><th scope=col>&lt;dbl&gt;</th><th scope=col>&lt;chr&gt;</th><th scope=col>&lt;chr&gt;</th><th scope=col>&lt;chr&gt;</th></tr>\n",
       "</thead>\n",
       "<tbody>\n",
       "\t<tr><td>97218</td><td>usa</td><td>m</td><td>Daleel, el-Sinai</td></tr>\n",
       "\t<tr><td>71221</td><td>usa</td><td>m</td><td>Waseef, Sharma  </td></tr>\n",
       "\t<tr><td>39248</td><td>usa</td><td>f</td><td>Jessica, el-Taha</td></tr>\n",
       "\t<tr><td>41419</td><td>usa</td><td>f</td><td>Hannah, Cung    </td></tr>\n",
       "\t<tr><td>55495</td><td>usa</td><td>f</td><td>Chelsea, Vang   </td></tr>\n",
       "\t<tr><td>17358</td><td>usa</td><td>f</td><td>Ashley, Marler  </td></tr>\n",
       "</tbody>\n",
       "</table>\n"
      ],
      "text/latex": [
       "A tibble: 6 × 4\n",
       "\\begin{tabular}{r|llll}\n",
       " customerID & country & gender & name\\\\\n",
       " <dbl> & <chr> & <chr> & <chr>\\\\\n",
       "\\hline\n",
       "\t 97218 & usa & m & Daleel, el-Sinai\\\\\n",
       "\t 71221 & usa & m & Waseef, Sharma  \\\\\n",
       "\t 39248 & usa & f & Jessica, el-Taha\\\\\n",
       "\t 41419 & usa & f & Hannah, Cung    \\\\\n",
       "\t 55495 & usa & f & Chelsea, Vang   \\\\\n",
       "\t 17358 & usa & f & Ashley, Marler  \\\\\n",
       "\\end{tabular}\n"
      ],
      "text/markdown": [
       "\n",
       "A tibble: 6 × 4\n",
       "\n",
       "| customerID &lt;dbl&gt; | country &lt;chr&gt; | gender &lt;chr&gt; | name &lt;chr&gt; |\n",
       "|---|---|---|---|\n",
       "| 97218 | usa | m | Daleel, el-Sinai |\n",
       "| 71221 | usa | m | Waseef, Sharma   |\n",
       "| 39248 | usa | f | Jessica, el-Taha |\n",
       "| 41419 | usa | f | Hannah, Cung     |\n",
       "| 55495 | usa | f | Chelsea, Vang    |\n",
       "| 17358 | usa | f | Ashley, Marler   |\n",
       "\n"
      ],
      "text/plain": [
       "  customerID country gender name            \n",
       "1 97218      usa     m      Daleel, el-Sinai\n",
       "2 71221      usa     m      Waseef, Sharma  \n",
       "3 39248      usa     f      Jessica, el-Taha\n",
       "4 41419      usa     f      Hannah, Cung    \n",
       "5 55495      usa     f      Chelsea, Vang   \n",
       "6 17358      usa     f      Ashley, Marler  "
      ]
     },
     "metadata": {},
     "output_type": "display_data"
    }
   ],
   "source": [
    "customers_usa %>% head()"
   ]
  },
  {
   "cell_type": "markdown",
   "metadata": {
    "slideshow": {
     "slide_type": "subslide"
    }
   },
   "source": [
    "__*Up to you - 1<sup>st</sup> class deficiencies*__\n",
    "\n",
    "2. Implement transformation rules to resolve the deficiencies\n",
    "    - Transformation rules can be implemented as pipes\n",
    "    - You will have to use mutate() in combination with *str_replace()* and/or *str_split()*"
   ]
  },
  {
   "cell_type": "code",
   "execution_count": 7,
   "metadata": {},
   "outputs": [],
   "source": [
    "products_convenience %>%\n",
    "    mutate(price = as.numeric(str_replace(price,' €', \"\")),\n",
    "           cost = as.numeric(str_replace(cost, ' €', \"\"))) -> products_convenience"
   ]
  },
  {
   "cell_type": "code",
   "execution_count": 8,
   "metadata": {},
   "outputs": [],
   "source": [
    "customers_usa %>%\n",
    "    mutate(firstNames = str_split(string = name, pattern = ', ', simplify = TRUE)[, 1],\n",
    "           lastNames = str_split(string = name, pattern = ', ', simplify = TRUE)[, 2]) %>%\n",
    "    select(-name) -> customers_usa"
   ]
  },
  {
   "cell_type": "markdown",
   "metadata": {
    "slideshow": {
     "slide_type": "subslide"
    }
   },
   "source": [
    "#### 2<sup>nd</sup> class deficiencies\n",
    "\n",
    "Deficiencies that can be automatically identified but have to be removed manually\n",
    "\n",
    "- Syntactic: prior unknown syntactic error are identified for the first time and transferred into transformation rules\n",
    "- Semantic: deficiencies can be identified by automatic plausibility checks or pattern recognition algorithms\n",
    "\n",
    "→ Deficiencies are usually due to errors in the data source, corrective action must be taken at the operational source."
   ]
  },
  {
   "cell_type": "markdown",
   "metadata": {
    "slideshow": {
     "slide_type": "subslide"
    }
   },
   "source": [
    "#### *Up to you - 2<sup>nd</sup> class deficiencies*\n",
    "\n",
    "1. Perform plausibility checks (min, mean, max, …) to identify deficiencies in the product data \n"
   ]
  },
  {
   "cell_type": "code",
   "execution_count": 9,
   "metadata": {},
   "outputs": [
    {
     "data": {
      "text/plain": [
       "   productID         price            cost          category        \n",
       " Min.   : 2002   Min.   :-99.0   Min.   :-99.00   Length:67         \n",
       " 1st Qu.:25228   1st Qu.:136.0   1st Qu.: 76.45   Class :character  \n",
       " Median :41910   Median :393.7   Median :171.11   Mode  :character  \n",
       " Mean   :47533   Mean   :414.2   Mean   :194.55                     \n",
       " 3rd Qu.:75684   3rd Qu.:675.9   3rd Qu.:325.40                     \n",
       " Max.   :99445   Max.   :942.0   Max.   :543.90                     "
      ]
     },
     "metadata": {},
     "output_type": "display_data"
    }
   ],
   "source": [
    "products %>%\n",
    "    summary()"
   ]
  },
  {
   "cell_type": "code",
   "execution_count": 10,
   "metadata": {},
   "outputs": [
    {
     "data": {
      "text/plain": [
       "   productID         price             cost         category        \n",
       " Min.   : 8081   Min.   : 18.03   Min.   :-99.0   Length:33         \n",
       " 1st Qu.:19920   1st Qu.:246.07   1st Qu.:121.8   Class :character  \n",
       " Median :39369   Median :464.61   Median :217.3   Mode  :character  \n",
       " Mean   :43553   Mean   :456.81   Mean   :207.2                     \n",
       " 3rd Qu.:64983   3rd Qu.:659.98   3rd Qu.:283.4                     \n",
       " Max.   :93187   Max.   :972.52   Max.   :511.9                     "
      ]
     },
     "metadata": {},
     "output_type": "display_data"
    }
   ],
   "source": [
    "products_convenience %>%\n",
    "    summary()"
   ]
  },
  {
   "cell_type": "markdown",
   "metadata": {
    "cell_style": "center",
    "slideshow": {
     "slide_type": "subslide"
    }
   },
   "source": [
    "__*Up to you - 2<sup>nd</sup> class deficiencies*__\n",
    "\n",
    "2. Implement transformation rules to resolve the deficiencies. <br> If you identify errors or missing values you can either:\n",
    "    - Keep the errors / missing values\n",
    "    - Remove the observations\n",
    "    - Impute the values"
   ]
  },
  {
   "cell_type": "code",
   "execution_count": 11,
   "metadata": {
    "cell_style": "center",
    "scrolled": true
   },
   "outputs": [
    {
     "data": {
      "text/html": [
       "<table>\n",
       "<caption>A tibble: 2 × 4</caption>\n",
       "<thead>\n",
       "\t<tr><th scope=col>productID</th><th scope=col>price</th><th scope=col>cost</th><th scope=col>category</th></tr>\n",
       "\t<tr><th scope=col>&lt;dbl&gt;</th><th scope=col>&lt;dbl&gt;</th><th scope=col>&lt;dbl&gt;</th><th scope=col>&lt;chr&gt;</th></tr>\n",
       "</thead>\n",
       "<tbody>\n",
       "\t<tr><td>57590</td><td>-99</td><td>422.85</td><td>specialty</td></tr>\n",
       "\t<tr><td>41910</td><td>-99</td><td> 82.68</td><td>emergency</td></tr>\n",
       "</tbody>\n",
       "</table>\n"
      ],
      "text/latex": [
       "A tibble: 2 × 4\n",
       "\\begin{tabular}{r|llll}\n",
       " productID & price & cost & category\\\\\n",
       " <dbl> & <dbl> & <dbl> & <chr>\\\\\n",
       "\\hline\n",
       "\t 57590 & -99 & 422.85 & specialty\\\\\n",
       "\t 41910 & -99 &  82.68 & emergency\\\\\n",
       "\\end{tabular}\n"
      ],
      "text/markdown": [
       "\n",
       "A tibble: 2 × 4\n",
       "\n",
       "| productID &lt;dbl&gt; | price &lt;dbl&gt; | cost &lt;dbl&gt; | category &lt;chr&gt; |\n",
       "|---|---|---|---|\n",
       "| 57590 | -99 | 422.85 | specialty |\n",
       "| 41910 | -99 |  82.68 | emergency |\n",
       "\n"
      ],
      "text/plain": [
       "  productID price cost   category \n",
       "1 57590     -99   422.85 specialty\n",
       "2 41910     -99    82.68 emergency"
      ]
     },
     "metadata": {},
     "output_type": "display_data"
    },
    {
     "data": {
      "text/html": [
       "<table>\n",
       "<caption>A tibble: 1 × 4</caption>\n",
       "<thead>\n",
       "\t<tr><th scope=col>productID</th><th scope=col>price</th><th scope=col>cost</th><th scope=col>category</th></tr>\n",
       "\t<tr><th scope=col>&lt;dbl&gt;</th><th scope=col>&lt;dbl&gt;</th><th scope=col>&lt;dbl&gt;</th><th scope=col>&lt;chr&gt;</th></tr>\n",
       "</thead>\n",
       "<tbody>\n",
       "\t<tr><td>43446</td><td>879.47</td><td>-99</td><td>emergency</td></tr>\n",
       "</tbody>\n",
       "</table>\n"
      ],
      "text/latex": [
       "A tibble: 1 × 4\n",
       "\\begin{tabular}{r|llll}\n",
       " productID & price & cost & category\\\\\n",
       " <dbl> & <dbl> & <dbl> & <chr>\\\\\n",
       "\\hline\n",
       "\t 43446 & 879.47 & -99 & emergency\\\\\n",
       "\\end{tabular}\n"
      ],
      "text/markdown": [
       "\n",
       "A tibble: 1 × 4\n",
       "\n",
       "| productID &lt;dbl&gt; | price &lt;dbl&gt; | cost &lt;dbl&gt; | category &lt;chr&gt; |\n",
       "|---|---|---|---|\n",
       "| 43446 | 879.47 | -99 | emergency |\n",
       "\n"
      ],
      "text/plain": [
       "  productID price  cost category \n",
       "1 43446     879.47 -99  emergency"
      ]
     },
     "metadata": {},
     "output_type": "display_data"
    },
    {
     "data": {
      "text/html": [
       "<table>\n",
       "<caption>A tibble: 1 × 4</caption>\n",
       "<thead>\n",
       "\t<tr><th scope=col>productID</th><th scope=col>price</th><th scope=col>cost</th><th scope=col>category</th></tr>\n",
       "\t<tr><th scope=col>&lt;dbl&gt;</th><th scope=col>&lt;dbl&gt;</th><th scope=col>&lt;dbl&gt;</th><th scope=col>&lt;chr&gt;</th></tr>\n",
       "</thead>\n",
       "<tbody>\n",
       "\t<tr><td>39548</td><td>214.97</td><td>-99</td><td>convenience</td></tr>\n",
       "</tbody>\n",
       "</table>\n"
      ],
      "text/latex": [
       "A tibble: 1 × 4\n",
       "\\begin{tabular}{r|llll}\n",
       " productID & price & cost & category\\\\\n",
       " <dbl> & <dbl> & <dbl> & <chr>\\\\\n",
       "\\hline\n",
       "\t 39548 & 214.97 & -99 & convenience\\\\\n",
       "\\end{tabular}\n"
      ],
      "text/markdown": [
       "\n",
       "A tibble: 1 × 4\n",
       "\n",
       "| productID &lt;dbl&gt; | price &lt;dbl&gt; | cost &lt;dbl&gt; | category &lt;chr&gt; |\n",
       "|---|---|---|---|\n",
       "| 39548 | 214.97 | -99 | convenience |\n",
       "\n"
      ],
      "text/plain": [
       "  productID price  cost category   \n",
       "1 39548     214.97 -99  convenience"
      ]
     },
     "metadata": {},
     "output_type": "display_data"
    }
   ],
   "source": [
    "products %>%\n",
    "  filter(price <= 0)\n",
    "\n",
    "products %>%\n",
    "  filter(cost <= 0)\n",
    "\n",
    "products_convenience %>%\n",
    "  filter(cost <= 0) "
   ]
  },
  {
   "cell_type": "markdown",
   "metadata": {
    "slideshow": {
     "slide_type": "subslide"
    }
   },
   "source": [
    "- remove"
   ]
  },
  {
   "cell_type": "code",
   "execution_count": 12,
   "metadata": {},
   "outputs": [],
   "source": [
    "products %>%\n",
    "    filter(cost >= 0, price >= 0) -> products_fil\n",
    "products_convenience %>%\n",
    "    filter(cost >= 0, price >= 0) -> products_convenience_fil"
   ]
  },
  {
   "cell_type": "markdown",
   "metadata": {
    "slideshow": {
     "slide_type": "fragment"
    }
   },
   "source": [
    "- impute"
   ]
  },
  {
   "cell_type": "code",
   "execution_count": 13,
   "metadata": {
    "scrolled": true,
    "slideshow": {
     "slide_type": "-"
    }
   },
   "outputs": [],
   "source": [
    "products %>%\n",
    "    mutate(price = if_else(price < 0, mean(price), price)) %>%\n",
    "    mutate(cost = if_else(cost <0, mean(cost), cost)) -> products_imp\n",
    "\n",
    "products_convenience %>%\n",
    "    mutate(cost = if_else(cost <0, mean(cost), cost)) -> products_convenience_imp"
   ]
  },
  {
   "cell_type": "markdown",
   "metadata": {
    "slideshow": {
     "slide_type": "subslide"
    }
   },
   "source": [
    "__3<sup>rd</sup> class deficiencies__\n",
    "\n",
    "Semantic deficiencies that can only be manually identified and resolved.\n",
    "- Errors in the data set that can only be identified by domain experts\n",
    "\n",
    "→ Prompt correction of the deficiencies can be supported by software tools (Workflow-Management-Systems)"
   ]
  },
  {
   "cell_type": "markdown",
   "metadata": {
    "slideshow": {
     "slide_type": "subslide"
    }
   },
   "source": [
    "__*Up to you - 3<sup>rd</sup> class deficiencies*__\n",
    "\n",
    "1. Find the semantic 3<sup>rd</sup> class deficiencies in the customer data\n",
    "    - `customer`: Take a closer look at the countries"
   ]
  },
  {
   "cell_type": "code",
   "execution_count": 14,
   "metadata": {},
   "outputs": [
    {
     "data": {
      "text/html": [
       "<table>\n",
       "<caption>A spec_tbl_df: 3 × 1</caption>\n",
       "<thead>\n",
       "\t<tr><th scope=col>country</th></tr>\n",
       "\t<tr><th scope=col>&lt;chr&gt;</th></tr>\n",
       "</thead>\n",
       "<tbody>\n",
       "\t<tr><td>uk  </td></tr>\n",
       "\t<tr><td>ger </td></tr>\n",
       "\t<tr><td>moon</td></tr>\n",
       "</tbody>\n",
       "</table>\n"
      ],
      "text/latex": [
       "A spec_tbl_df: 3 × 1\n",
       "\\begin{tabular}{r|l}\n",
       " country\\\\\n",
       " <chr>\\\\\n",
       "\\hline\n",
       "\t uk  \\\\\n",
       "\t ger \\\\\n",
       "\t moon\\\\\n",
       "\\end{tabular}\n"
      ],
      "text/markdown": [
       "\n",
       "A spec_tbl_df: 3 × 1\n",
       "\n",
       "| country &lt;chr&gt; |\n",
       "|---|\n",
       "| uk   |\n",
       "| ger  |\n",
       "| moon |\n",
       "\n"
      ],
      "text/plain": [
       "  country\n",
       "1 uk     \n",
       "2 ger    \n",
       "3 moon   "
      ]
     },
     "metadata": {},
     "output_type": "display_data"
    }
   ],
   "source": [
    "customers %>%\n",
    "    distinct(country)"
   ]
  },
  {
   "cell_type": "markdown",
   "metadata": {
    "slideshow": {
     "slide_type": "subslide"
    }
   },
   "source": [
    "__*Up to you - 3<sup>rd</sup> class deficiencies*__\n",
    "\n",
    "2. Resolve the deficiencies"
   ]
  },
  {
   "cell_type": "code",
   "execution_count": 15,
   "metadata": {},
   "outputs": [],
   "source": [
    "customers %>%\n",
    "    filter(country != 'moon') -> customers_filtered"
   ]
  },
  {
   "cell_type": "markdown",
   "metadata": {
    "slideshow": {
     "slide_type": "subslide"
    }
   },
   "source": [
    "### 3.2 Data Harmonization"
   ]
  },
  {
   "cell_type": "markdown",
   "metadata": {
    "slideshow": {
     "slide_type": "-"
    }
   },
   "source": [
    "__Solving Schema Heterogeneity__\n",
    "\n",
    "Schemas are created by different people whose states and styles are different\n",
    "- Same concept, but different names for tables and attributes\n",
    "    - rating vs classification\n",
    "- Multiple attributes in first schema relate to a single attribute in the other\n",
    "    - basePrice and taxRate relate to price\n",
    "- Tabular organization of schemas can be quite different\n",
    "    - One table in DB1 vs three tables in DB2\n",
    "- Coverage and level of details can also differ significantly\n",
    "    - Daily sales data vs. monthly sales data\n",
    "    - High-level information (movie name, playtime) vs. detailed meta data (director, genre, rating)\n"
   ]
  },
  {
   "cell_type": "markdown",
   "metadata": {
    "slideshow": {
     "slide_type": "subslide"
    }
   },
   "source": [
    "__*Up to you - Data Harmonization*__\n",
    "\n",
    "1. Find and harmonize schema heterogeneity in transaction data sets\n",
    "    - Look at the attribute names\n",
    "    - Adjust the transactions_ger to the schema of transactions_eng"
   ]
  },
  {
   "cell_type": "code",
   "execution_count": 16,
   "metadata": {},
   "outputs": [
    {
     "data": {
      "text/html": [
       "<ol class=list-inline>\n",
       "\t<li>'Datum'</li>\n",
       "\t<li>'Kundennummer'</li>\n",
       "\t<li>'Produkt'</li>\n",
       "\t<li>'Zahlungsmethode'</li>\n",
       "\t<li>'Stückzahl'</li>\n",
       "</ol>\n"
      ],
      "text/latex": [
       "\\begin{enumerate*}\n",
       "\\item 'Datum'\n",
       "\\item 'Kundennummer'\n",
       "\\item 'Produkt'\n",
       "\\item 'Zahlungsmethode'\n",
       "\\item 'Stückzahl'\n",
       "\\end{enumerate*}\n"
      ],
      "text/markdown": [
       "1. 'Datum'\n",
       "2. 'Kundennummer'\n",
       "3. 'Produkt'\n",
       "4. 'Zahlungsmethode'\n",
       "5. 'Stückzahl'\n",
       "\n",
       "\n"
      ],
      "text/plain": [
       "[1] \"Datum\"           \"Kundennummer\"    \"Produkt\"         \"Zahlungsmethode\"\n",
       "[5] \"Stückzahl\"      "
      ]
     },
     "metadata": {},
     "output_type": "display_data"
    },
    {
     "data": {
      "text/html": [
       "<ol class=list-inline>\n",
       "\t<li>'date'</li>\n",
       "\t<li>'customerID'</li>\n",
       "\t<li>'productID'</li>\n",
       "\t<li>'payment'</li>\n",
       "\t<li>'amount'</li>\n",
       "</ol>\n"
      ],
      "text/latex": [
       "\\begin{enumerate*}\n",
       "\\item 'date'\n",
       "\\item 'customerID'\n",
       "\\item 'productID'\n",
       "\\item 'payment'\n",
       "\\item 'amount'\n",
       "\\end{enumerate*}\n"
      ],
      "text/markdown": [
       "1. 'date'\n",
       "2. 'customerID'\n",
       "3. 'productID'\n",
       "4. 'payment'\n",
       "5. 'amount'\n",
       "\n",
       "\n"
      ],
      "text/plain": [
       "[1] \"date\"       \"customerID\" \"productID\"  \"payment\"    \"amount\"    "
      ]
     },
     "metadata": {},
     "output_type": "display_data"
    }
   ],
   "source": [
    "colnames(transactions_ger)\n",
    "colnames(transactions_eng)\n",
    "\n",
    "colnames(transactions_ger) <- colnames(transactions_eng)"
   ]
  },
  {
   "cell_type": "markdown",
   "metadata": {
    "slideshow": {
     "slide_type": "subslide"
    }
   },
   "source": [
    "__Solving Data-level  Heterogeneity__\n",
    "\n",
    "Data coming from different sources rarely joins perfectly\n",
    "\n",
    "Typical reasons include\n",
    "- Differently coded data\n",
    "    - identical attribute names and identical meanings but different domains or value ranges (e.g., gender coded as “m / f” or “male / female”)\n",
    "- Synonyms\n",
    "    - Attributes that have different names but the same meaning and domain (e.g., “client” or “customer”)\n",
    "- Homonyms: \n",
    "    - Attributes have the same attribute names, but have different meanings (e.g., “partner” = “customer” or “partner” = “supplier”)"
   ]
  },
  {
   "cell_type": "markdown",
   "metadata": {
    "slideshow": {
     "slide_type": "subslide"
    }
   },
   "source": [
    "__*Up to you - Data Harmonization*__\n",
    "\n",
    "2. Find and harmonize data-level heterogeneity in the customer data sets\n",
    "    - Take a closer look to the variables names as well as the variable values\n",
    "    - Adjust the `customers_usa` to the schema of `customers`"
   ]
  },
  {
   "cell_type": "code",
   "execution_count": 33,
   "metadata": {},
   "outputs": [],
   "source": [
    "customers_usa %>%\n",
    "    mutate(gender = str_replace(gender, \"m\", \"Male\")) %>%\n",
    "    mutate(gender = str_replace(gender, \"f\", \"Female\")) -> customers_usa_harmonized"
   ]
  },
  {
   "cell_type": "markdown",
   "metadata": {
    "slideshow": {
     "slide_type": "subslide"
    }
   },
   "source": [
    "### 3.3 Data Combination\n",
    "\n",
    "Combine the harmonized data sets into an appropriate format/structure for further analysis."
   ]
  },
  {
   "cell_type": "markdown",
   "metadata": {
    "slideshow": {
     "slide_type": "subslide"
    }
   },
   "source": [
    "__*Up to you - Combine the data*__\n",
    "\n",
    "1. Combine the harmonised data sets\n",
    "    - Create three new data sets: `customers`, `transactions`, `products`\n",
    "    - Use *bind_rows()* for binding multiple data frames by row"
   ]
  },
  {
   "cell_type": "code",
   "execution_count": null,
   "metadata": {},
   "outputs": [],
   "source": [
    "transactions_eng %>%\n",
    "    bind_rows(transactions_ger) -> transactions\n",
    "\n",
    "products_fil %>%\n",
    "    bind_rows(products_convenience_fil) -> products\n",
    "\n",
    "customers_filtered %>%\n",
    "    bind_rows(customers_usa_harmonized) -> customers"
   ]
  },
  {
   "cell_type": "markdown",
   "metadata": {
    "slideshow": {
     "slide_type": "subslide"
    }
   },
   "source": [
    "__*Up to you - Combine the data*__\n",
    "\n",
    "2. Join the three data sets into one data final data frame"
   ]
  },
  {
   "cell_type": "code",
   "execution_count": null,
   "metadata": {},
   "outputs": [],
   "source": [
    "transactions %>%\n",
    "    left_join(products) %>%\n",
    "    left_join(customers) -> data_combined"
   ]
  },
  {
   "cell_type": "markdown",
   "metadata": {
    "slideshow": {
     "slide_type": "subslide"
    }
   },
   "source": [
    "### 3.4 Enrich the data\n",
    "\n",
    "- Business key figures are calculated and integrated into the data basis as separate attributes\n",
    "- Example: Calculation of weekly contribution margins at product level and annual contribution margins at store level\n",
    "- Advantages\n",
    "    - Calculable response time behavior for later queries based on the advance calculation\n",
    "    - Guaranteed consistency of the calculated values, since they are only formed once across all applications\n",
    "    - Establishment of coordinated business management instruments"
   ]
  },
  {
   "cell_type": "markdown",
   "metadata": {
    "slideshow": {
     "slide_type": "subslide"
    }
   },
   "source": [
    "__*Up to you - Enrich the data*__\n",
    "\n",
    "2. Create two new variables:\n",
    "    - revenue per transaction\n",
    "    - profit per transaction"
   ]
  },
  {
   "cell_type": "code",
   "execution_count": null,
   "metadata": {},
   "outputs": [],
   "source": [
    "data_combined %>%\n",
    "    mutate(revenue = amount * price,\n",
    "           profit = revenue - amount * cost) -> data_enriched"
   ]
  },
  {
   "cell_type": "markdown",
   "metadata": {
    "slideshow": {
     "slide_type": "slide"
    }
   },
   "source": [
    "## 4 Data Loading"
   ]
  },
  {
   "cell_type": "markdown",
   "metadata": {
    "slideshow": {
     "slide_type": "subslide"
    }
   },
   "source": [
    "__Data loading__ describes the insertion of data into the final target database such as an operational data store, a data mart, or a data warehouse (e.g., AWS Redshift or Apache Hive)\n",
    "\n",
    "- A database is an organized collection of data\n",
    "    - typically cleaned and structured data\n",
    "- A Database management system (DBMS) allows to store, modify, and extract information from a database\n",
    "    - MySQL, ORACLE, MS SQL, SQLite, DB2, MS ACCESS, Informix\n",
    "- A Relational Database Management System (RDBMS) stores data in relational objects called tables\n",
    "    - tables can be joined through keys and indexes"
   ]
  },
  {
   "cell_type": "markdown",
   "metadata": {
    "slideshow": {
     "slide_type": "subslide"
    }
   },
   "source": [
    "__SQL - a language for relational databases__\n",
    "\n",
    "  \n",
    "- A standard language for accessing and manipulating data in databases\n",
    "    - SQL stands for Structured Query Language\n",
    "    - defining data structures \n",
    "    - editing (inserting, changing, deleting) data\n",
    "    - querying data\n",
    "\n",
    "- A typical SQL command\n",
    "```SQL\n",
    "\tSELECT <column names separated by comma>\n",
    "    FROM <database table>\n",
    "\tWHERE <condition>\n",
    "    GROUP BY <column name>\n",
    "    ORDER BY <column name>\n",
    "```"
   ]
  },
  {
   "cell_type": "markdown",
   "metadata": {
    "cell_style": "split",
    "slideshow": {
     "slide_type": "subslide"
    }
   },
   "source": [
    "__Using differnte query languages in R__\n",
    "\n",
    "- The *DBI* (Database Interface) package allows communication between R and relational database management systems\n",
    "    - Using a DBI-compliant interface, the *RSQLite* embeds the SQLite database engine in R\n",
    "    - SQLite is a public-domain, single-user, very light-weight database engine that implements a decent subset of the SQL 92 standard,\n",
    "- The packages *dbplyr* (part of the *tidyverse*) is designed to work with database tables as if they were local data frames"
   ]
  },
  {
   "cell_type": "markdown",
   "metadata": {
    "cell_style": "split",
    "slideshow": {
     "slide_type": "-"
    }
   },
   "source": [
    "<img src=\"https://github.com/matjesg/AIS_2019/raw/master/notebooks/images/01/aris.png\">"
   ]
  },
  {
   "cell_type": "markdown",
   "metadata": {
    "slideshow": {
     "slide_type": "subslide"
    }
   },
   "source": [
    "We’ll first create an in-memory SQLite database"
   ]
  },
  {
   "cell_type": "code",
   "execution_count": null,
   "metadata": {},
   "outputs": [],
   "source": [
    "con <- DBI::dbConnect(RSQLite::SQLite(), \":memory:\")"
   ]
  },
  {
   "cell_type": "markdown",
   "metadata": {
    "slideshow": {
     "slide_type": "fragment"
    }
   },
   "source": [
    "and copy over our dataset"
   ]
  },
  {
   "cell_type": "code",
   "execution_count": null,
   "metadata": {},
   "outputs": [],
   "source": [
    "copy_to(con, data_enriched)"
   ]
  },
  {
   "cell_type": "markdown",
   "metadata": {
    "slideshow": {
     "slide_type": "subslide"
    }
   },
   "source": [
    "Now you can retrieve a table using `tbl()` . Printing it just retrieves the first few rows:"
   ]
  },
  {
   "cell_type": "code",
   "execution_count": null,
   "metadata": {},
   "outputs": [],
   "source": [
    "db <- tbl(con, \"data_enriched\")\n",
    "db"
   ]
  },
  {
   "cell_type": "markdown",
   "metadata": {
    "slideshow": {
     "slide_type": "subslide"
    }
   },
   "source": [
    "- (Lazily) generate query"
   ]
  },
  {
   "cell_type": "code",
   "execution_count": null,
   "metadata": {},
   "outputs": [],
   "source": [
    "db %>%\n",
    "    filter(payment == 'cash') %>%\n",
    "    summarise(MeanAmount = mean(amount, na.rm = TRUE)) -> summary"
   ]
  },
  {
   "cell_type": "markdown",
   "metadata": {
    "slideshow": {
     "slide_type": "fragment"
    }
   },
   "source": [
    "- See query"
   ]
  },
  {
   "cell_type": "code",
   "execution_count": null,
   "metadata": {},
   "outputs": [],
   "source": [
    "summary %>% show_query()"
   ]
  },
  {
   "cell_type": "markdown",
   "metadata": {
    "slideshow": {
     "slide_type": "fragment"
    }
   },
   "source": [
    "- Execute query and retrieve results"
   ]
  },
  {
   "cell_type": "code",
   "execution_count": null,
   "metadata": {},
   "outputs": [],
   "source": [
    "summary %>% collect()"
   ]
  },
  {
   "cell_type": "markdown",
   "metadata": {
    "slideshow": {
     "slide_type": "subslide"
    }
   },
   "source": [
    "__*Up to you - Analyze the data*__\n",
    "\n",
    "How much profit did our company realize in 2017?"
   ]
  },
  {
   "cell_type": "markdown",
   "metadata": {
    "slideshow": {
     "slide_type": "fragment"
    }
   },
   "source": [
    "- Generate query"
   ]
  },
  {
   "cell_type": "code",
   "execution_count": null,
   "metadata": {},
   "outputs": [],
   "source": []
  },
  {
   "cell_type": "markdown",
   "metadata": {
    "slideshow": {
     "slide_type": "fragment"
    }
   },
   "source": [
    "- See query"
   ]
  },
  {
   "cell_type": "code",
   "execution_count": null,
   "metadata": {
    "slideshow": {
     "slide_type": "-"
    }
   },
   "outputs": [],
   "source": []
  },
  {
   "cell_type": "markdown",
   "metadata": {
    "slideshow": {
     "slide_type": "fragment"
    }
   },
   "source": [
    "- Execute query and retrieve results"
   ]
  },
  {
   "cell_type": "code",
   "execution_count": null,
   "metadata": {
    "slideshow": {
     "slide_type": "-"
    }
   },
   "outputs": [],
   "source": []
  },
  {
   "cell_type": "markdown",
   "metadata": {
    "scrolled": true,
    "slideshow": {
     "slide_type": "slide"
    }
   },
   "source": [
    "## 5 Exam Questions"
   ]
  },
  {
   "cell_type": "markdown",
   "metadata": {
    "slideshow": {
     "slide_type": "subslide"
    }
   },
   "source": [
    "### 5.1 Exam AIS SS 2018, Question 1\n",
    "\n",
    "__Data Engineering & Integration (10 points)__"
   ]
  },
  {
   "cell_type": "markdown",
   "metadata": {
    "slideshow": {
     "slide_type": "fragment"
    }
   },
   "source": [
    "(a) __Getting orders in order__: You are working for a major online retailer who is interested in optimizing internal logistics processes. A key problem in this context is the handling of __orders with a single line item__ vs. __orders with multiple line items__.\n",
    "\n",
    "The cornerstone of your analysis is an orders table with the following structure:<br>\n",
    "\n",
    "<left>\n",
    "    \n",
    "\\begin{array}{cccc}  \n",
    "\\hline\n",
    "productID & quantity & orderID  \\\\ \n",
    "  \\hline\n",
    "...&...&...\\\\\n",
    "\\end{array}\n",
    "    \n",
    "</left>"
   ]
  },
  {
   "cell_type": "markdown",
   "metadata": {
    "slideshow": {
     "slide_type": "subslide"
    }
   },
   "source": [
    "i. (1 points) Explain (verbally or in pseudo code) how you would identify the number of orders with a single line item from this data base."
   ]
  },
  {
   "cell_type": "code",
   "execution_count": 34,
   "metadata": {
    "cell_style": "split",
    "slideshow": {
     "slide_type": "fragment"
    }
   },
   "outputs": [],
   "source": [
    "# Toy example for demonstration\n",
    "order_data = tribble(\n",
    "     ~productID, ~quantity, ~orderID,\n",
    "    \"Prod1\",     2,         \"Ord1\",\n",
    "    \"Prod2\",     3,         \"Ord1\",\n",
    "    \"Prod3\",     4,         \"Ord1\",\n",
    "    \"Prod2\",     5,         \"Ord2\",\n",
    "    \"Prod1\",     2,         \"Ord3\",\n",
    "    \"Prod3\",     1,         \"Ord3\",\n",
    "    \"Prod3\",     1,         \"Ord4\")"
   ]
  },
  {
   "cell_type": "code",
   "execution_count": null,
   "metadata": {
    "cell_style": "split",
    "slideshow": {
     "slide_type": "fragment"
    }
   },
   "outputs": [],
   "source": []
  },
  {
   "cell_type": "markdown",
   "metadata": {
    "cell_style": "split",
    "slideshow": {
     "slide_type": "fragment"
    }
   },
   "source": [
    "alternatively, "
   ]
  },
  {
   "cell_type": "code",
   "execution_count": null,
   "metadata": {
    "cell_style": "split"
   },
   "outputs": [],
   "source": []
  },
  {
   "cell_type": "markdown",
   "metadata": {
    "slideshow": {
     "slide_type": "subslide"
    }
   },
   "source": [
    "i. (2 points) The frontend reporting tool used by the logistics department cannot handle data sets with more than 1 million rows. Yet your order table has many more rows. Recognizing that individual product IDs are not crucial for the logistics process analysis (handling times are determined by the number of products in an order) you are approached to provide ___a compact representation which retains the structure (number of line items) of the order invoices___. Explain how this can be achieved by means of clever aggregation."
   ]
  },
  {
   "cell_type": "code",
   "execution_count": null,
   "metadata": {
    "slideshow": {
     "slide_type": "fragment"
    }
   },
   "outputs": [],
   "source": []
  },
  {
   "cell_type": "markdown",
   "metadata": {
    "slideshow": {
     "slide_type": "subslide"
    }
   },
   "source": [
    "(b) (3 Points) __Here comes the sun__: You are working for a local crime investigation unit and your current assignment involves a series of burglary cases. The head of the investigation wants to know __which share of the of the break-ins took place during night-time__ (i.e., between sunset and sunrise). You are provided with a table of the time and date for the burglary events as well as a table of sunrise and sunset times for all dates in the time period under consideration. Provide an analytic pipeline (verbally or in pseudo code) to answer this question.\n",
    "\n",
    "\\begin{array}{ccc}\n",
    "  \\hline\n",
    "date & time & crimeID  \\\\ \n",
    "  \\hline\n",
    "...&...&...\\\\\n",
    "\\end{array}\n",
    "\n",
    "\\begin{array}{ccc}\n",
    "  \\hline\n",
    "date & sunriseTime & sunsetTime  \\\\ \n",
    "  \\hline\n",
    "...&...&...\\\\\n",
    "\\end{array}"
   ]
  },
  {
   "cell_type": "markdown",
   "metadata": {
    "slideshow": {
     "slide_type": "fragment"
    }
   },
   "source": [
    "```R\n",
    "table_crime %>%\n",
    "    left_join(table_sun) %>%\n",
    "    mutate(nT = (time <= sunriseTime) | (time >=  sunsetTime)) %>%\n",
    "    summarize(mean(nT))      \n",
    "```"
   ]
  },
  {
   "cell_type": "markdown",
   "metadata": {
    "slideshow": {
     "slide_type": "subslide"
    }
   },
   "source": [
    "or\n",
    "```R\n",
    "table_crime %>%\n",
    "    left_join(table_sun) %>%\n",
    "    rowwise() %>%\n",
    "    mutate(nT = !(between(time, sunriseTime, sunsetTime)) %>%\n",
    "    summarize(mean(nT))      \n",
    "```"
   ]
  },
  {
   "cell_type": "markdown",
   "metadata": {
    "slideshow": {
     "slide_type": "subslide"
    }
   },
   "source": [
    "(c) (2 points) __Difficulties__ of data integration arise from different perspectives. Discuss the systems-level as well as social reasons which render data integration a hard task."
   ]
  },
  {
   "cell_type": "markdown",
   "metadata": {
    "slideshow": {
     "slide_type": "fragment"
    }
   },
   "source": [
    "> __From Lecture 2, Slide 15:__\n",
    "- Systems-level\n",
    "    - Managing different platforms\n",
    "    - SQL across multiple systems is not so simple\n",
    "- “Social” dimension\n",
    "    - Locating and capturing relevant data in the enterprise.\n",
    "    - Convincing people to share (Security, privacy and performance implications)\n"
   ]
  },
  {
   "cell_type": "markdown",
   "metadata": {
    "slideshow": {
     "slide_type": "subslide"
    }
   },
   "source": [
    "(d) (2 points) __Scalability__ of naively executed string matching operations is problematic for large data sets. Explain why. What is a typical workaround?"
   ]
  },
  {
   "cell_type": "markdown",
   "metadata": {
    "slideshow": {
     "slide_type": "fragment"
    }
   },
   "source": [
    "> __From Lecture 2, Slide 33:__\n",
    "- Applying $s(x,y)$ to all pairs is impractical\n",
    "    - Quadratic in size of data\n",
    "- One Solution: apply $s(x,y)$ to only most promising candidate pairs\n",
    "    - referred to as FindCands method"
   ]
  }
 ],
 "metadata": {
  "kernelspec": {
   "display_name": "R",
   "language": "R",
   "name": "ir"
  },
  "language_info": {
   "codemirror_mode": "r",
   "file_extension": ".r",
   "mimetype": "text/x-r-source",
   "name": "R",
   "pygments_lexer": "r",
   "version": "3.6.0"
  },
  "rise": {
   "enable_chalkboard": false,
   "overlay": "<div class='logo'><img src='images/uniwue4c.png'></div>",
   "scroll": true
  },
  "toc": {
   "base_numbering": 1,
   "nav_menu": {},
   "number_sections": false,
   "sideBar": true,
   "skip_h1_title": true,
   "title_cell": "Agenda",
   "title_sidebar": "Contents",
   "toc_cell": true,
   "toc_position": {},
   "toc_section_display": true,
   "toc_window_display": false
  }
 },
 "nbformat": 4,
 "nbformat_minor": 2
}
