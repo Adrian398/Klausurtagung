{
 "cells": [
  {
   "cell_type": "markdown",
   "metadata": {
    "slideshow": {
     "slide_type": "slide"
    }
   },
   "source": [
    "*Analytical Information Systems*\n",
    "\n",
    "# Tutorial 3 - Descriptive Analytics\n",
    "\n",
    "Matthias Griebel<br>\n",
    "Lehrstuhl für Wirtschaftsinformatik und Informationsmanagement\n",
    "\n",
    "SS 2019"
   ]
  },
  {
   "cell_type": "markdown",
   "metadata": {
    "slideshow": {
     "slide_type": "subslide"
    }
   },
   "source": [
    "__Data Warehousing Analytics__\n",
    "\n",
    "<img src=\"images/03/BIStack_fe.png\" style=\"width:100%\">"
   ]
  },
  {
   "cell_type": "markdown",
   "metadata": {
    "cell_style": "split",
    "slideshow": {
     "slide_type": "subslide"
    }
   },
   "source": [
    "__Exploratory Data Analysis__\n",
    "\n",
    "The objectives of EDA\n",
    "- Suggest hypotheses\n",
    "- Assess assumptions\n",
    "- Support the selection of appropriate statistical techniques\n",
    "- Provide a basis for further data collection"
   ]
  },
  {
   "cell_type": "markdown",
   "metadata": {
    "cell_style": "split"
   },
   "source": [
    "<img src=\"images/03/EDA.png\" style=\"width:100%\">"
   ]
  },
  {
   "cell_type": "markdown",
   "metadata": {
    "slideshow": {
     "slide_type": "subslide"
    },
    "toc": true
   },
   "source": [
    "<h1>Agenda<span class=\"tocSkip\"></span></h1>\n",
    "<div class=\"toc\"><ul class=\"toc-item\"><li><span><a href=\"#1-Descriptive-Statistics\" data-toc-modified-id=\"1-Descriptive-Statistics-1\">1 Descriptive Statistics</a></span><ul class=\"toc-item\"><li><span><a href=\"#Scales-of-Measurement\" data-toc-modified-id=\"Scales-of-Measurement-1.1\">Scales of Measurement</a></span></li><li><span><a href=\"#Summary-Descriptive-Statistics\" data-toc-modified-id=\"Summary-Descriptive-Statistics-1.2\">Summary Descriptive Statistics</a></span></li></ul></li><li><span><a href=\"#2-Data-Visualization\" data-toc-modified-id=\"2-Data-Visualization-2\">2 Data Visualization</a></span><ul class=\"toc-item\"><li><span><a href=\"#Data-Visualization-with-ggplot2\" data-toc-modified-id=\"Data-Visualization-with-ggplot2-2.1\">Data Visualization with ggplot2</a></span></li><li><span><a href=\"#Visualizing-European-Parliament-Election-2019\" data-toc-modified-id=\"Visualizing-European-Parliament-Election-2019-2.2\">Visualizing European Parliament Election 2019</a></span></li></ul></li></ul></div>"
   ]
  },
  {
   "cell_type": "markdown",
   "metadata": {
    "slideshow": {
     "slide_type": "subslide"
    }
   },
   "source": [
    "## 1 Descriptive Statistics"
   ]
  },
  {
   "cell_type": "markdown",
   "metadata": {
    "cell_style": "split",
    "slideshow": {
     "slide_type": "subslide"
    }
   },
   "source": [
    "### Scales of Measurement\n",
    "\n",
    "- Categorical (Qualitative) Data\n",
    "    - Nominal Scale: Identity or category\n",
    "    - Ordinal Scale: Order or rank\n",
    "\n",
    "- Quantitative Data (numeric)\n",
    "    - Interval Scale: Order and quantity\n",
    "        - Differences can be calculated\n",
    "    - Ratio Scale: Interval scale with an absolute zero"
   ]
  },
  {
   "cell_type": "markdown",
   "metadata": {
    "cell_style": "split"
   },
   "source": [
    "<img src=\"images/03/data-categories.png\" style=\"width:100%\">"
   ]
  },
  {
   "cell_type": "markdown",
   "metadata": {
    "slideshow": {
     "slide_type": "subslide"
    }
   },
   "source": [
    "__The diamonds dataset__\n",
    "\n",
    "The diamonds dataset comes with the package `ggplot2` and contains information about ~54,000 diamonds, including the `price`, `carat`, `color`, `clarity`, and `cut` of each diamond."
   ]
  },
  {
   "cell_type": "markdown",
   "metadata": {
    "slideshow": {
     "slide_type": "fragment"
    }
   },
   "source": [
    "Let's have a look at the data. What are the scales of the variables?"
   ]
  },
  {
   "cell_type": "code",
   "execution_count": null,
   "metadata": {},
   "outputs": [],
   "source": [
    "library(tidyverse)\n",
    "diamonds %>% head()\n",
    "?diamonds"
   ]
  },
  {
   "cell_type": "markdown",
   "metadata": {
    "slideshow": {
     "slide_type": "subslide"
    }
   },
   "source": [
    "### Summary Descriptive Statistics"
   ]
  },
  {
   "cell_type": "markdown",
   "metadata": {
    "cell_style": "split",
    "slideshow": {
     "slide_type": "-"
    }
   },
   "source": [
    "In the lecture, we talked about \n",
    "- Central Tendency: What are the most typical values?\n",
    "    - mean, median, mode\n",
    "- Variability: How do the values vary?\n",
    "    - Range\n",
    "    - Percentiles\n",
    "    - Standard Deviation\n",
    "    - Coefficient of variation\n",
    "- Shape: Are the values symmetrically or asymmetrically distributed?\n",
    "    - skewness: symmetry \n",
    "    - kurtosis: how peaky is the distribution"
   ]
  },
  {
   "cell_type": "markdown",
   "metadata": {
    "cell_style": "split"
   },
   "source": [
    "<img src=\"https://upload.wikimedia.org/wikipedia/commons/thumb/d/de/Comparison_mean_median_mode.svg/1280px-Comparison_mean_median_mode.svg.png\">\n",
    "\n",
    "Source: *[Wikipedia](https://en.wikipedia.org/wiki/Skewness)*"
   ]
  },
  {
   "cell_type": "markdown",
   "metadata": {
    "cell_style": "center",
    "slideshow": {
     "slide_type": "subslide"
    }
   },
   "source": [
    "__Skewness__ \n",
    "- negative skew: The left tail is longer (left-skewed, left-tailed)\n",
    "    - mass of the distribution is concentrated on the right of the figure.\n",
    "- positive skew: The right tail is longer (right-skewed, right-tailed)\n",
    "    - mass of the distribution is concentrated on the left of the figure.\n",
    "\n",
    "*from [Wikipedia](https://en.wikipedia.org/wiki/Skewness)*"
   ]
  },
  {
   "cell_type": "markdown",
   "metadata": {
    "slideshow": {
     "slide_type": "subslide"
    }
   },
   "source": [
    "__Kurtosis__\n",
    "\n",
    "Measure of the \"tailedness\" of the probability distribution"
   ]
  },
  {
   "cell_type": "markdown",
   "metadata": {
    "cell_style": "split",
    "slideshow": {
     "slide_type": "-"
    }
   },
   "source": [
    "Excess kurtosis is defined as kurtosis minus 3\n",
    "- Mesokurtic (excess = 0): normal distribution family, regardless of the values of its parameters\n",
    "- Leptokurtic (excess > 0): distribution has fatter tails and a pointed peak, e.g., Laplace distribution, exponential distribution, Poisson distribution and the logistic distribution\n",
    "- Platykurtic (excess < 0): distribution has thinner tails a flat peak, e.g., coin toss is the most platykurtic distribution\n",
    "\n",
    "*from [Wikipedia](https://en.wikipedia.org/wiki/Kurtosis)*"
   ]
  },
  {
   "cell_type": "markdown",
   "metadata": {
    "cell_style": "split"
   },
   "source": [
    "<img src=\"https://upload.wikimedia.org/wikipedia/commons/e/e6/Standard_symmetric_pdfs.png\">"
   ]
  },
  {
   "cell_type": "markdown",
   "metadata": {
    "slideshow": {
     "slide_type": "subslide"
    }
   },
   "source": [
    "___Up to you:  Statistical Measures___\n",
    "\n",
    "(a) On the diamond data set, calculate statistical measures to describe the central tendency, variability and the shape of the `price`:"
   ]
  },
  {
   "cell_type": "code",
   "execution_count": null,
   "metadata": {
    "slideshow": {
     "slide_type": "subslide"
    }
   },
   "outputs": [],
   "source": []
  },
  {
   "cell_type": "markdown",
   "metadata": {
    "slideshow": {
     "slide_type": "subslide"
    }
   },
   "source": [
    "We can also use the `psych::describe()` function to calculate the statistical measures as it provides more descriptive statistics than base R."
   ]
  },
  {
   "cell_type": "code",
   "execution_count": null,
   "metadata": {
    "cell_style": "center",
    "slideshow": {
     "slide_type": "-"
    }
   },
   "outputs": [],
   "source": [
    "psych::describe(diamonds)['price', ]"
   ]
  },
  {
   "cell_type": "markdown",
   "metadata": {
    "slideshow": {
     "slide_type": "subslide"
    }
   },
   "source": [
    "Visualization often facilitates understanding of the data and its distribution. \n",
    "\n",
    "*(We will learn more about data visualization in the next section.)*"
   ]
  },
  {
   "cell_type": "code",
   "execution_count": null,
   "metadata": {},
   "outputs": [],
   "source": [
    "options(repr.plot.width=7, repr.plot.height=5)\n",
    "diamonds %>% ggplot() + \n",
    "    geom_density(aes(x=scale(price))) +\n",
    "    stat_function(n = 100, fun = dnorm, linetype='dotted') +\n",
    "    theme_minimal() +\n",
    "    xlim(-5,5)"
   ]
  },
  {
   "cell_type": "markdown",
   "metadata": {
    "slideshow": {
     "slide_type": "subslide"
    }
   },
   "source": [
    "___Up to you:  Statistical Measures___\n",
    "\n",
    "We calculated statistical measures to get a grasp understanding of the diamond prices. Now, we want to get a deeper insight."
   ]
  },
  {
   "cell_type": "markdown",
   "metadata": {
    "slideshow": {
     "slide_type": "fragment"
    }
   },
   "source": [
    "(b) Describe the central tendency, variability and the shape of the prices depending on the quality (`cut`) and `color`."
   ]
  },
  {
   "cell_type": "code",
   "execution_count": null,
   "metadata": {
    "scrolled": true
   },
   "outputs": [],
   "source": []
  },
  {
   "cell_type": "markdown",
   "metadata": {
    "slideshow": {
     "slide_type": "subslide"
    }
   },
   "source": [
    "___Up to you:  Statistical Measures___\n",
    "\n",
    "(c) How many diamonds belong to each of the groups (`cut` and `color` combinations)? What is the cheapest and the most expensive price within each group?"
   ]
  },
  {
   "cell_type": "code",
   "execution_count": null,
   "metadata": {
    "scrolled": true
   },
   "outputs": [],
   "source": []
  },
  {
   "cell_type": "markdown",
   "metadata": {
    "slideshow": {
     "slide_type": "subslide"
    }
   },
   "source": [
    "___Up to you:  Statistical Measures___\n",
    "\n",
    "Let's take a closer look at the other variables in the data set."
   ]
  },
  {
   "cell_type": "markdown",
   "metadata": {
    "slideshow": {
     "slide_type": "fragment"
    }
   },
   "source": [
    "(d) What is the average volume of the diamonds, depending on the qualtity (`cut`)?"
   ]
  },
  {
   "cell_type": "code",
   "execution_count": null,
   "metadata": {},
   "outputs": [],
   "source": []
  },
  {
   "cell_type": "markdown",
   "metadata": {
    "slideshow": {
     "slide_type": "subslide"
    }
   },
   "source": [
    "___Up to you:  Statistical Measures___\n",
    "\n",
    "(e) What are the average values of all (numeric) columns?"
   ]
  },
  {
   "cell_type": "code",
   "execution_count": null,
   "metadata": {},
   "outputs": [],
   "source": []
  },
  {
   "cell_type": "markdown",
   "metadata": {
    "slideshow": {
     "slide_type": "slide"
    }
   },
   "source": [
    "## 2 Data Visualization"
   ]
  },
  {
   "cell_type": "markdown",
   "metadata": {
    "slideshow": {
     "slide_type": "subslide"
    }
   },
   "source": [
    "__Why use Data Visualization?__\n",
    "\n",
    "The depiction of information using spatial or graphical representations, to facilitate comparison, pattern recognition, change detection, and other cognitive skills by making use of the visual system.\n",
    "\n",
    "- Problem \n",
    "    - Big datasets: How to understand them?\n",
    "- Solution\n",
    "    - Take better advantage of human perceptual system\n",
    "    - Convert information into a graphical representation.\n",
    "- Issues\n",
    "    - How to convert abstract information into graphical form?\n",
    "    - Do visualizations do a better job than other methods?\n",
    "\n",
    "\n"
   ]
  },
  {
   "cell_type": "markdown",
   "metadata": {
    "cell_style": "split",
    "slideshow": {
     "slide_type": "subslide"
    }
   },
   "source": [
    "### Data Visualization with ggplot2\n",
    "\n",
    "The ggplot2 package lets you make beautiful and customizable plots of your data. \n",
    "- one of the core members of the tidyverse\n",
    "- based on the __grammar of graphics__, the idea that you can build every graph from the same components:\n",
    "    - a data set\n",
    "    - a coordinate system\n",
    "    - geoms - visual marks that represent data points\n",
    "\n",
    "[Cheatsheet](https://github.com/rstudio/cheatsheets/raw/master/data-visualization-2.1.pdf)"
   ]
  },
  {
   "cell_type": "markdown",
   "metadata": {
    "cell_style": "split"
   },
   "source": [
    "<img src=\"https://www.rstudio.com/wp-content/uploads/2018/08/data-visualization-2.1-600x464.png\">"
   ]
  },
  {
   "cell_type": "markdown",
   "metadata": {
    "slideshow": {
     "slide_type": "subslide"
    }
   },
   "source": [
    "A `ggplot2` graph consists of the following compenents.\n",
    "\n",
    "```R\n",
    "ggplot(data = <DATA> ) +\n",
    "    <GEOM_FUNCTION> (mapping = aes( <MAPPINGS> ), stat = <STAT> , position = <POSITION> ) +\n",
    "    (opt) <COORDINATE_FUNCTION> + \n",
    "    (opt) <FACET_FUNCTION> +\n",
    "    (opt) <SCALE_FUNCTION> + \n",
    "    (opt) <THEME_FUNCTION>\n",
    "``` \n",
    "\n",
    "Let's complete the template below to build a graph of the the relationship between `carat`and `price`in the `diamonds`data:"
   ]
  },
  {
   "cell_type": "code",
   "execution_count": null,
   "metadata": {
    "slideshow": {
     "slide_type": "fragment"
    }
   },
   "outputs": [],
   "source": [
    "options(repr.plot.width=7, repr.plot.height=5)\n",
    "ggplot(data = diamonds) +\n",
    "    geom_point(mapping = aes(x = carat, y = price), stat = \"identity\", position = \"identity\") + \n",
    "    theme_minimal()"
   ]
  },
  {
   "cell_type": "markdown",
   "metadata": {
    "slideshow": {
     "slide_type": "subslide"
    }
   },
   "source": [
    "__Controlling plots in Jupyter notebooks__\n",
    "\n",
    "<img align=\"right\" src=\"https://irkernel.github.io/images/irkernel-logo.svg\" style=\"width:20%\">\n",
    "\n",
    "You can control the size and quality of plots. \n",
    "- Use `options(repr.* = ...)` and `getOption('repr.*')` to set and get them, respectively.\n",
    "- Example: adjust width and heigth\n",
    "```R\n",
    "options(repr.plot.width=7, repr.plot.height=7)\n",
    "```\n",
    "\n",
    "[Documentation](https://www.rdocumentation.org/packages/repr/versions/0.7/topics/repr-options)"
   ]
  },
  {
   "cell_type": "markdown",
   "metadata": {
    "slideshow": {
     "slide_type": "subslide"
    }
   },
   "source": [
    "__Choosing Plots and Aesthetic Elements__\n",
    "\n",
    "<img src=\"images/03/taxonomy.png\">"
   ]
  },
  {
   "cell_type": "markdown",
   "metadata": {
    "slideshow": {
     "slide_type": "subslide"
    }
   },
   "source": [
    "### Visualizing European Parliament Election 2019"
   ]
  },
  {
   "cell_type": "markdown",
   "metadata": {},
   "source": [
    "The ninth elections to the European Parliament in Germany was held on 26 May 2019, electing members of the national Germany constituency to the European Parliament. The results are available [here](https://www.bundeswahlleiter.de/europawahlen/2019/ergebnisse.html)."
   ]
  },
  {
   "cell_type": "markdown",
   "metadata": {
    "cell_style": "center"
   },
   "source": [
    "<img src=\"images/03/Stimmenanteile.png\" style=\"width:100%\">"
   ]
  },
  {
   "cell_type": "markdown",
   "metadata": {
    "slideshow": {
     "slide_type": "subslide"
    }
   },
   "source": [
    "__Let's download the data and reproduce the plot__"
   ]
  },
  {
   "cell_type": "code",
   "execution_count": null,
   "metadata": {
    "scrolled": true
   },
   "outputs": [],
   "source": [
    "'https://www.bundeswahlleiter.de/dam/jcr/5441f564-1f29-4971-9ae2-b8860c1724d1/ew19_kerg2.csv' %>% \n",
    "    read_csv2(skip = 9) -> eu_elections"
   ]
  },
  {
   "cell_type": "markdown",
   "metadata": {
    "slideshow": {
     "slide_type": "subslide"
    }
   },
   "source": [
    "Get an impression of the dataset"
   ]
  },
  {
   "cell_type": "code",
   "execution_count": null,
   "metadata": {},
   "outputs": [],
   "source": [
    "glimpse(eu_elections)\n",
    "eu_elections$Gebietsart %>% unique()\n",
    "eu_elections$Gruppenart %>% unique()"
   ]
  },
  {
   "cell_type": "markdown",
   "metadata": {
    "slideshow": {
     "slide_type": "subslide"
    }
   },
   "source": [
    "__Filter and prepare the data__"
   ]
  },
  {
   "cell_type": "code",
   "execution_count": null,
   "metadata": {},
   "outputs": [],
   "source": [
    "eu_elections %>%\n",
    "    filter(Gebietsart == 'Bund', Gruppenart == 'Partei') %>%\n",
    "    mutate(Gruppenname = fct_reorder(Gruppenname, -VorpProzent), \n",
    "           Gruppenname = fct_lump(Gruppenname, prop=0.0065, w = Prozent, other_level = \"Sonstige\")) %>%\n",
    "    group_by(Gruppenname) %>%\n",
    "    summarise(Prozent = sum(Prozent),\n",
    "              VorpProzent =  sum(VorpProzent),\n",
    "              Anzahl =  sum(Anzahl),\n",
    "              VorpAnzahl =  sum(Anzahl)) -> share_data"
   ]
  },
  {
   "cell_type": "markdown",
   "metadata": {
    "slideshow": {
     "slide_type": "subslide"
    }
   },
   "source": [
    "How would you solve this using the `if_else()` function? You may need `fct_relevel()` to reorder the factor levels."
   ]
  },
  {
   "cell_type": "markdown",
   "metadata": {
    "slideshow": {
     "slide_type": "-"
    }
   },
   "source": [
    "```R\n",
    "    mutate(Gruppenname = if_else(Prozent < 0.65, 'Sonstige', Gruppenname),\n",
    "           Gruppenname = fct_reorder(Gruppenname, -VorpProzent),\n",
    "           Gruppenname = fct_relevel(Gruppenname, \"Sonstige\" , after = Inf))\n",
    "```"
   ]
  },
  {
   "cell_type": "markdown",
   "metadata": {
    "slideshow": {
     "slide_type": "subslide"
    }
   },
   "source": [
    "Colors have a special meaning in our democracy. There is no universal standard to map the parties to their respective colors, so we have to do it manually (here, in a named vector)"
   ]
  },
  {
   "cell_type": "code",
   "execution_count": null,
   "metadata": {},
   "outputs": [],
   "source": [
    "party_colors <- c(\n",
    "    'AfD'= 'turquoise',\n",
    "    'CDU'= 'darkblue',\n",
    "    'CSU'='blue',\n",
    "    'DIE LINKE'='purple',\n",
    "    'Die PARTEI'= 'darkred',\n",
    "    'FAMILIE'='pink',\n",
    "    'FDP'='yellow',\n",
    "    'FREIE WÄHLER'='lightblue',\n",
    "    'GRÜNE'='seagreen',\n",
    "    'PIRATEN'= 'orange',\n",
    "    'SPD'='red',\n",
    "    'Tierschutzpartei'='lightgreen',\n",
    "    'Volt'='blue',\n",
    "    'ÖDP'= 'orange2',\n",
    "    'Sonstige'= 'gray')"
   ]
  },
  {
   "cell_type": "markdown",
   "metadata": {
    "slideshow": {
     "slide_type": "subslide"
    }
   },
   "source": [
    "__Rebuilding the graph__"
   ]
  },
  {
   "cell_type": "code",
   "execution_count": null,
   "metadata": {},
   "outputs": [],
   "source": [
    "share_data %>% \n",
    "    ggplot(aes(x = fct_reorder(Gruppenname, -VorpProzent), y = Prozent, fill=Gruppenname)) + \n",
    "    geom_col(width=0.5) + \n",
    "    geom_col(aes(y = VorpProzent), alpha=0.5, position= position_nudge(x = 0.25), width=0.5) +\n",
    "    geom_text(aes(label=format(round(Prozent, 1), nsmall = 1)), size= 3, vjust = -0.5) +\n",
    "    scale_fill_manual(values= party_colors) + \n",
    "    theme_minimal() +\n",
    "    theme(axis.text.x = element_text(angle = 45, vjust = 1, hjust = 0.95)) +\n",
    "    xlab(label = element_blank()) +\n",
    "    guides(fill=FALSE)"
   ]
  },
  {
   "cell_type": "markdown",
   "metadata": {
    "slideshow": {
     "slide_type": "subslide"
    }
   },
   "source": [
    "__Visualizing the vote count__"
   ]
  },
  {
   "cell_type": "code",
   "execution_count": null,
   "metadata": {},
   "outputs": [],
   "source": [
    "share_data %>%\n",
    "    mutate(Gruppenname = fct_reorder(Gruppenname, Anzahl),\n",
    "           Gruppenname = fct_relevel(Gruppenname, \"Sonstige\")) %>%\n",
    "    ggplot(aes(x=Gruppenname, y=Anzahl/1000000, fill=Gruppenname)) + \n",
    "    geom_col(width=0.7) + \n",
    "    geom_text(aes(label=format(round(Anzahl/1000000, 2), nsmall = 2)), size= 3, hjust = -0.1) +\n",
    "    scale_fill_manual(values= party_colors) + \n",
    "    theme_minimal() +\n",
    "    xlab(label = element_blank()) +\n",
    "    ylab(label = 'Stimmen in Mio.') +\n",
    "    guides(fill=FALSE) +\n",
    "    coord_flip()"
   ]
  },
  {
   "cell_type": "markdown",
   "metadata": {
    "slideshow": {
     "slide_type": "subslide"
    }
   },
   "source": [
    "__Comparing two parties (\"AfD\", \"GRÜNE\")__   \n",
    "\n",
    "What is the distribution of shares in the different constituencies of each federal state?"
   ]
  },
  {
   "cell_type": "markdown",
   "metadata": {
    "slideshow": {
     "slide_type": "fragment"
    }
   },
   "source": [
    "First, we need to get map the federal state codes to their respective names:"
   ]
  },
  {
   "cell_type": "code",
   "execution_count": null,
   "metadata": {},
   "outputs": [],
   "source": [
    "eu_elections %>%\n",
    "    filter(Gebietsart == 'Land') %>%\n",
    "    select(Gebietsnummer, Gebietsname) %>%\n",
    "    rename(Land = Gebietsname) %>%\n",
    "    distinct() -> lookUpLand\n",
    "lookUpLand"
   ]
  },
  {
   "cell_type": "markdown",
   "metadata": {
    "slideshow": {
     "slide_type": "subslide"
    }
   },
   "source": [
    "Plot the comparison: distribution of shares in the different constituencies of each federal state"
   ]
  },
  {
   "cell_type": "code",
   "execution_count": null,
   "metadata": {},
   "outputs": [],
   "source": [
    "options(repr.plot.width=8, repr.plot.height=4)\n",
    "eu_elections %>%\n",
    "    filter(Gebietsart == 'Kreis', Gruppenart == 'Partei') %>%\n",
    "    filter(Gruppenname %in% c(\"AfD\", \"GRÜNE\")) %>%\n",
    "    left_join(lookUpLand, by=c(\"UegGebietsnummer\" = \"Gebietsnummer\")) %>%\n",
    "    ggplot(aes(x=Prozent, fill=Gruppenname)) + \n",
    "    geom_density(alpha=0.5) + \n",
    "    scale_fill_manual(values= party_colors) + \n",
    "    theme_minimal() +\n",
    "    facet_wrap(~Land)"
   ]
  },
  {
   "cell_type": "markdown",
   "metadata": {
    "slideshow": {
     "slide_type": "subslide"
    }
   },
   "source": [
    "__Relationship__\n",
    "\n",
    "Is there any relationship beweeen the shares of two parties at constituency level?"
   ]
  },
  {
   "cell_type": "markdown",
   "metadata": {
    "slideshow": {
     "slide_type": "fragment"
    }
   },
   "source": [
    "Filter and preprocess the data"
   ]
  },
  {
   "cell_type": "code",
   "execution_count": null,
   "metadata": {},
   "outputs": [],
   "source": [
    "eu_elections %>%\n",
    "    filter(Gebietsart == 'Kreis', Gruppenart == 'Partei') %>%\n",
    "    select(Gebietsname, Gruppenname, Prozent) %>%\n",
    "    spread(Gruppenname, Prozent) -> kreis_data"
   ]
  },
  {
   "cell_type": "markdown",
   "metadata": {
    "slideshow": {
     "slide_type": "subslide"
    }
   },
   "source": [
    "Plot the relationship beweeen the shares of 'GRÜNE' and 'CSU' at constituency level."
   ]
  },
  {
   "cell_type": "code",
   "execution_count": null,
   "metadata": {},
   "outputs": [],
   "source": [
    "set.seed(0)\n",
    "kreis_data %>% \n",
    "    ggplot(aes(x=CSU,y=GRÜNE, label=Gebietsname)) + \n",
    "    geom_point() + \n",
    "    ggrepel::geom_text_repel(data=sample_frac(kreis_data, 0.15),alpha=0.8) +\n",
    "    theme_minimal()"
   ]
  }
 ],
 "metadata": {
  "kernelspec": {
   "display_name": "R",
   "language": "R",
   "name": "ir"
  },
  "language_info": {
   "codemirror_mode": "r",
   "file_extension": ".r",
   "mimetype": "text/x-r-source",
   "name": "R",
   "pygments_lexer": "r",
   "version": "3.6.0"
  },
  "rise": {
   "enable_chalkboard": false,
   "overlay": "<div class='logo'><img src='images/uniwue4c.png'></div>",
   "scroll": true
  },
  "toc": {
   "base_numbering": 1,
   "nav_menu": {},
   "number_sections": false,
   "sideBar": true,
   "skip_h1_title": true,
   "title_cell": "Agenda",
   "title_sidebar": "Contents",
   "toc_cell": true,
   "toc_position": {},
   "toc_section_display": true,
   "toc_window_display": false
  }
 },
 "nbformat": 4,
 "nbformat_minor": 2
}
