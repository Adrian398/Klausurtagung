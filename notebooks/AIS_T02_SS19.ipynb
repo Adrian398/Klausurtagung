{
 "cells": [
  {
   "cell_type": "markdown",
   "metadata": {
    "slideshow": {
     "slide_type": "slide"
    }
   },
   "source": [
    "*Analytical Information Systems*\n",
    "\n",
    "# Tutorial 2 - Data Integration\n",
    "\n",
    "Matthias Griebel<br>\n",
    "Lehrstuhl für Wirtschaftsinformatik und Informationsmanagement\n",
    "\n",
    "SS 2019"
   ]
  },
  {
   "cell_type": "markdown",
   "metadata": {
    "slideshow": {
     "slide_type": "subslide"
    },
    "toc": true
   },
   "source": [
    "<h1>Agenda<span class=\"tocSkip\"></span></h1>\n",
    "<div class=\"toc\"><ul class=\"toc-item\"><li><span><a href=\"#1-Recap-of-Data-Integration\" data-toc-modified-id=\"1-Recap-of-Data-Integration-1\">1 Recap of Data Integration</a></span></li><li><span><a href=\"#2-Data-Extraction\" data-toc-modified-id=\"2-Data-Extraction-2\">2 Data Extraction</a></span></li><li><span><a href=\"#3-Data-Transformation\" data-toc-modified-id=\"3-Data-Transformation-3\">3 Data Transformation</a></span><ul class=\"toc-item\"><li><span><a href=\"#3.1-Data-Cleansing\" data-toc-modified-id=\"3.1-Data-Cleansing-3.1\">3.1 Data Cleansing</a></span></li><li><span><a href=\"#3.2-Data-Harmonization\" data-toc-modified-id=\"3.2-Data-Harmonization-3.2\">3.2 Data Harmonization</a></span></li><li><span><a href=\"#3.3-Data-Combination\" data-toc-modified-id=\"3.3-Data-Combination-3.3\">3.3 Data Combination</a></span></li><li><span><a href=\"#3.4-Enrich-the-data\" data-toc-modified-id=\"3.4-Enrich-the-data-3.4\">3.4 Enrich the data</a></span></li></ul></li><li><span><a href=\"#4-Data-Loading\" data-toc-modified-id=\"4-Data-Loading-4\">4 Data Loading</a></span></li><li><span><a href=\"#5-Exam-Questions\" data-toc-modified-id=\"5-Exam-Questions-5\">5 Exam Questions</a></span><ul class=\"toc-item\"><li><span><a href=\"#5.1-Exam-AIS-SS-2018,-Question-1\" data-toc-modified-id=\"5.1-Exam-AIS-SS-2018,-Question-1-5.1\">5.1 Exam AIS SS 2018, Question 1</a></span></li></ul></li></ul></div>"
   ]
  },
  {
   "cell_type": "markdown",
   "metadata": {
    "slideshow": {
     "slide_type": "subslide"
    }
   },
   "source": [
    "## 1 Recap of Data Integration"
   ]
  },
  {
   "cell_type": "markdown",
   "metadata": {
    "slideshow": {
     "slide_type": "fragment"
    }
   },
   "source": [
    "#### Definition [Gartner IT Glossary](https://www.gartner.com/it-glossary/data-integration-tools/)\n",
    "\n",
    "*'[...] __data integration__ comprises the practices, architectural techniques and tools for achieving the __consistent access and delivery__ of data across the spectrum of data subject areas and data structure types in the enterprise to meet the data consumption requirements of all applications and business processes.'*"
   ]
  },
  {
   "cell_type": "markdown",
   "metadata": {
    "slideshow": {
     "slide_type": "subslide"
    }
   },
   "source": [
    "#### Identify relevant databases\n",
    "\n",
    "- First step of data integration\n",
    "- External and internal data sources comprise \n",
    "    - relational and non-relational databases, \n",
    "    - XML, JSON\n",
    "    - flat files (e.g., .csv)\n",
    "    - and many more<br>\n",
    "\n",
    "- Two types of heterogeneity will inevitably emerge: Schema and data-level<br>\n",
    "\n",
    "__How do get the data ready for analysis?__\n",
    "\n",
    "<img src=\"https://github.com/matjesg/AIS_2019/raw/master/notebooks/images/02/BIStack_ds.png\" style=\"width:80%\">\n",
    "\n"
   ]
  },
  {
   "cell_type": "markdown",
   "metadata": {
    "slideshow": {
     "slide_type": "subslide"
    }
   },
   "source": [
    "#### Data Warehousing: ETL\n",
    "\n",
    "*from [Wikipedia](https://en.wikipedia.org/wiki/Extract,_transform,_load)*:\n",
    "\n",
    "\"[...] extract, transform, load (ETL) is the general procedure of copying data from one or more sources into a destination system which represents the data differently from the source(s).\"\n",
    "- __Data extraction__ involves extracting data from homogeneous or heterogeneous sources\n",
    "- __Data transformation__ processes data by data cleansing and transforming them into a proper storage format/structure for the purposes of querying and analysis\n",
    "- __Data loading__ describes the insertion of data into the final target database such as an operational data store, a data mart, or a data warehouse.\n",
    "\n",
    "<img src=\"https://github.com/matjesg/AIS_2019/raw/master/notebooks/images/02/BIStack_etl.png\" style=\"width:80%\">"
   ]
  },
  {
   "cell_type": "markdown",
   "metadata": {
    "cell_style": "center",
    "slideshow": {
     "slide_type": "subslide"
    }
   },
   "source": [
    "#### Today's Focus\n",
    "\n",
    "We will learn how to...\n",
    "- read data from different sources\n",
    "- cleanse and transform the data sets\n",
    "- combine the data sets\n",
    "- enrich the data sets\n",
    "- load the data into a database management system\n",
    "- perform queries on a database "
   ]
  },
  {
   "cell_type": "markdown",
   "metadata": {
    "cell_style": "center",
    "slideshow": {
     "slide_type": "slide"
    }
   },
   "source": [
    "## 2 Data Extraction\n",
    "\n",
    "<img src=\"https://readr.tidyverse.org/logo.png\" style=\"width:15%; float:right\">\n",
    "\n",
    "- The **readr** package provides a fast and friendly way <br> for reading rectangular data \n",
    "    - File formats: .csv, .tsv, and .fwf\n",
    "    - Part of the core tidyverse\n",
    "```R\n",
    "# Example\n",
    "read_csv(\"file.csv\")\n",
    "```\n"
   ]
  },
  {
   "cell_type": "markdown",
   "metadata": {
    "slideshow": {
     "slide_type": "fragment"
    }
   },
   "source": [
    "- **Packages for other file formats**\n",
    "    - haven - SPSS, Stata, and SAS files \n",
    "    - readxl - excel files (.xls and .xlsx) \n",
    "    - DBI - databases\n",
    "    - jsonlite - json\n",
    "    - xml2 - XML\n",
    "    - httr - Web APIs\n",
    "    - rvest - HTML (Web Scraping)"
   ]
  },
  {
   "cell_type": "markdown",
   "metadata": {
    "slideshow": {
     "slide_type": "subslide"
    }
   },
   "source": [
    "#### Data Import Cheat Sheet\n",
    "\n",
    "- How to read in flat files \n",
    "- Work with the results as tibbles\n",
    "- Reshape messy data\n",
    "\n",
    "[Download here](https://github.com/rstudio/cheatsheets/raw/master/data-import.pdf)\n",
    "<img src=\"https://www.rstudio.com/wp-content/uploads/2018/08/data-import-600x464.png\" style=\"width:50%; float:right\">\n",
    "\n"
   ]
  },
  {
   "cell_type": "markdown",
   "metadata": {
    "slideshow": {
     "slide_type": "subslide"
    }
   },
   "source": [
    "#### *Up to you - Read the data*\n",
    "\n",
    "You are provided with a set of operational data from a retail company. \n",
    "\n",
    "- Transaction data (Comma Delimited Files): \n",
    "    - *'transactions_eng.csv'*\n",
    "    - *'transactions_ger.csv'*\n",
    "   \n",
    "- Customer data (Semi-colon Delimited Files)\n",
    "    - *'customers.csv*\n",
    "    - *'customers_usa.csv*\n",
    "\n",
    "- Product data (Excel Files)\n",
    "    - *'products_convenience.xlsx'*\n",
    "    - *'products.xlsx*\n",
    "    \n",
    "Load the provided files. All files are stored in the folder *'data/T02/'*\n",
    "- you can use `setwd()` to change your working directory to 'data/T02'"
   ]
  },
  {
   "cell_type": "markdown",
   "metadata": {
    "slideshow": {
     "slide_type": "subslide"
    }
   },
   "source": [
    "- Load the required packages"
   ]
  },
  {
   "cell_type": "code",
   "execution_count": 2,
   "metadata": {
    "slideshow": {
     "slide_type": "-"
    }
   },
   "outputs": [],
   "source": [
    "library(tidyverse) # includes the readr package\n",
    "library(readxl) # excel files"
   ]
  },
  {
   "cell_type": "markdown",
   "metadata": {
    "slideshow": {
     "slide_type": "fragment"
    }
   },
   "source": [
    "- Change the working directory"
   ]
  },
  {
   "cell_type": "code",
   "execution_count": 6,
   "metadata": {
    "slideshow": {
     "slide_type": "-"
    }
   },
   "outputs": [
    {
     "data": {
      "text/html": [
       "<ol class=list-inline>\n",
       "\t<li>'customers.csv'</li>\n",
       "\t<li>'customers_usa.csv'</li>\n",
       "\t<li>'products.xlsx'</li>\n",
       "\t<li>'products_convenience.xlsx'</li>\n",
       "\t<li>'transactions_eng.csv'</li>\n",
       "\t<li>'transactions_ger.csv'</li>\n",
       "</ol>\n"
      ],
      "text/latex": [
       "\\begin{enumerate*}\n",
       "\\item 'customers.csv'\n",
       "\\item 'customers\\_usa.csv'\n",
       "\\item 'products.xlsx'\n",
       "\\item 'products\\_convenience.xlsx'\n",
       "\\item 'transactions\\_eng.csv'\n",
       "\\item 'transactions\\_ger.csv'\n",
       "\\end{enumerate*}\n"
      ],
      "text/markdown": [
       "1. 'customers.csv'\n",
       "2. 'customers_usa.csv'\n",
       "3. 'products.xlsx'\n",
       "4. 'products_convenience.xlsx'\n",
       "5. 'transactions_eng.csv'\n",
       "6. 'transactions_ger.csv'\n",
       "\n",
       "\n"
      ],
      "text/plain": [
       "[1] \"customers.csv\"             \"customers_usa.csv\"        \n",
       "[3] \"products.xlsx\"             \"products_convenience.xlsx\"\n",
       "[5] \"transactions_eng.csv\"      \"transactions_ger.csv\"     "
      ]
     },
     "metadata": {},
     "output_type": "display_data"
    }
   ],
   "source": [
    "#setwd('data/T02')\n",
    "list.files()"
   ]
  },
  {
   "cell_type": "markdown",
   "metadata": {
    "slideshow": {
     "slide_type": "subslide"
    }
   },
   "source": [
    "- Read the data using the appropriate functions"
   ]
  },
  {
   "cell_type": "code",
   "execution_count": 16,
   "metadata": {
    "collapsed": true
   },
   "outputs": [
    {
     "name": "stderr",
     "output_type": "stream",
     "text": [
      "Using ',' as decimal and '.' as grouping mark. Use read_delim() for more control.\n",
      "Parsed with column specification:\n",
      "cols(\n",
      "  customerID = \u001b[32mcol_double()\u001b[39m,\n",
      "  country = \u001b[31mcol_character()\u001b[39m,\n",
      "  gender = \u001b[31mcol_character()\u001b[39m,\n",
      "  firstNames = \u001b[31mcol_character()\u001b[39m,\n",
      "  lastNames = \u001b[31mcol_character()\u001b[39m\n",
      ")\n",
      "Using ',' as decimal and '.' as grouping mark. Use read_delim() for more control.\n",
      "Parsed with column specification:\n",
      "cols(\n",
      "  customerID = \u001b[32mcol_double()\u001b[39m,\n",
      "  country = \u001b[31mcol_character()\u001b[39m,\n",
      "  gender = \u001b[31mcol_character()\u001b[39m,\n",
      "  name = \u001b[31mcol_character()\u001b[39m\n",
      ")\n",
      "Parsed with column specification:\n",
      "cols(\n",
      "  date = \u001b[34mcol_date(format = \"\")\u001b[39m,\n",
      "  customerID = \u001b[32mcol_double()\u001b[39m,\n",
      "  productID = \u001b[32mcol_double()\u001b[39m,\n",
      "  payment = \u001b[31mcol_character()\u001b[39m,\n",
      "  amount = \u001b[32mcol_double()\u001b[39m\n",
      ")\n",
      "Parsed with column specification:\n",
      "cols(\n",
      "  Datum = \u001b[34mcol_date(format = \"\")\u001b[39m,\n",
      "  Kundennummer = \u001b[32mcol_double()\u001b[39m,\n",
      "  Produkt = \u001b[32mcol_double()\u001b[39m,\n",
      "  Zahlungsmethode = \u001b[31mcol_character()\u001b[39m,\n",
      "  Stückzahl = \u001b[32mcol_double()\u001b[39m\n",
      ")\n"
     ]
    }
   ],
   "source": [
    "customers <- read_csv2('customers.csv')\n",
    "customers_usa <- read_csv2('customers_usa.csv')\n",
    "\n",
    "products <- read_xlsx('products.xlsx')\n",
    "products_convenience <- read_xlsx('products_convenience.xlsx')\n",
    "\n",
    "transactions_eng <- read_csv('transactions_eng.csv')\n",
    "transactions_ger <- read_csv('transactions_ger.csv')"
   ]
  },
  {
   "cell_type": "markdown",
   "metadata": {
    "slideshow": {
     "slide_type": "subslide"
    }
   },
   "source": [
    "- Take a look at the data \n",
    "```R\n",
    "head()\n",
    "sample_n()\n",
    "```\n",
    "- Check that all data is read in correctly\n",
    "```R\n",
    "nrow(), ncol(), colnames()\n",
    "```\n",
    "- Understand the rows and columns (observations and variables)\n",
    "```R\n",
    "glimpse()\n",
    "summary()\n",
    "```"
   ]
  },
  {
   "cell_type": "code",
   "execution_count": 14,
   "metadata": {},
   "outputs": [],
   "source": [
    "?read_csv"
   ]
  },
  {
   "cell_type": "markdown",
   "metadata": {
    "slideshow": {
     "slide_type": "slide"
    }
   },
   "source": [
    "## 3 Data Transformation"
   ]
  },
  {
   "cell_type": "markdown",
   "metadata": {},
   "source": [
    "Data transformation converts the data into a proper storage format/structure for the purposes of querying and analysis\n",
    "- Data cleansing \n",
    "    - Correct syntactical or semantical defects\n",
    "- Data harmonization\n",
    "    - Solving schema heterogeneity \n",
    "    - Solving data-level heterogeneity\n",
    "- Data combination\n",
    "    - Combine the harmonized data sets\n",
    "- Data enrichment\n",
    "    - Calculate frequently required (business) key figures as separate attributes"
   ]
  },
  {
   "cell_type": "markdown",
   "metadata": {
    "slideshow": {
     "slide_type": "subslide"
    }
   },
   "source": [
    "### 3.1 Data Cleansing \n",
    "\n",
    "__Correction of syntactical or semantical defects__\n",
    "\n",
    "Depending on the degree of automation in the defect detection and defect correction we distinguish between three classes of defects.<br><br>\n",
    "\n",
    "| <br>               | Automated Correction         | Manual Correction            |\n",
    "|--------------------|------------------------------|------------------------------|\n",
    "| Automated Detection| 1<sup>st</sup> class defects | 2<sup>nd</sup> class defects |\n",
    "| Manual Detection   | -                            | 3<sup>rd</sup> class defects |"
   ]
  },
  {
   "cell_type": "markdown",
   "metadata": {
    "slideshow": {
     "slide_type": "subslide"
    }
   },
   "source": [
    "#### 1<sup>st</sup> class deficiencies\n",
    "\n",
    "Syntactic and semantic deficiencies that are known in advance or can be anticipated.\n",
    "- Syntactic: format, special characters, …\n",
    "- Semantic: missing values in operating systems due to planned maintenance, …\n",
    "\n",
    "→ Deficiencies can be automatically resolved by implementing transformation rules"
   ]
  },
  {
   "cell_type": "markdown",
   "metadata": {
    "slideshow": {
     "slide_type": "subslide"
    }
   },
   "source": [
    "#### *Up to you - 1<sup>st</sup> class deficiencies*\n",
    "\n",
    "1. Find the syntactic 1st class deficiencies in the products convenience data sets\n",
    "    - `products_convenience`: look at price and costs\n",
    "    - `customers_usa`: look at the names"
   ]
  },
  {
   "cell_type": "code",
   "execution_count": 19,
   "metadata": {},
   "outputs": [
    {
     "data": {
      "text/html": [
       "<table>\n",
       "<caption>A tibble: 6 × 4</caption>\n",
       "<thead>\n",
       "\t<tr><th scope=col>productID</th><th scope=col>price</th><th scope=col>cost</th><th scope=col>category</th></tr>\n",
       "\t<tr><th scope=col>&lt;dbl&gt;</th><th scope=col>&lt;chr&gt;</th><th scope=col>&lt;chr&gt;</th><th scope=col>&lt;chr&gt;</th></tr>\n",
       "</thead>\n",
       "<tbody>\n",
       "\t<tr><td>87000</td><td>347.52 €</td><td>121.77 €</td><td>convenience</td></tr>\n",
       "\t<tr><td>32128</td><td>66.56 € </td><td>27.97 € </td><td>convenience</td></tr>\n",
       "\t<tr><td>38582</td><td>634.24 €</td><td>252.61 €</td><td>convenience</td></tr>\n",
       "\t<tr><td>43107</td><td>475.24 €</td><td>236.64 €</td><td>convenience</td></tr>\n",
       "\t<tr><td>15915</td><td>972.52 €</td><td>400.57 €</td><td>convenience</td></tr>\n",
       "\t<tr><td>88744</td><td>815.39 €</td><td>488.68 €</td><td>convenience</td></tr>\n",
       "</tbody>\n",
       "</table>\n"
      ],
      "text/latex": [
       "A tibble: 6 × 4\n",
       "\\begin{tabular}{r|llll}\n",
       " productID & price & cost & category\\\\\n",
       " <dbl> & <chr> & <chr> & <chr>\\\\\n",
       "\\hline\n",
       "\t 87000 & 347.52 € & 121.77 € & convenience\\\\\n",
       "\t 32128 & 66.56 €  & 27.97 €  & convenience\\\\\n",
       "\t 38582 & 634.24 € & 252.61 € & convenience\\\\\n",
       "\t 43107 & 475.24 € & 236.64 € & convenience\\\\\n",
       "\t 15915 & 972.52 € & 400.57 € & convenience\\\\\n",
       "\t 88744 & 815.39 € & 488.68 € & convenience\\\\\n",
       "\\end{tabular}\n"
      ],
      "text/markdown": [
       "\n",
       "A tibble: 6 × 4\n",
       "\n",
       "| productID &lt;dbl&gt; | price &lt;chr&gt; | cost &lt;chr&gt; | category &lt;chr&gt; |\n",
       "|---|---|---|---|\n",
       "| 87000 | 347.52 € | 121.77 € | convenience |\n",
       "| 32128 | 66.56 €  | 27.97 €  | convenience |\n",
       "| 38582 | 634.24 € | 252.61 € | convenience |\n",
       "| 43107 | 475.24 € | 236.64 € | convenience |\n",
       "| 15915 | 972.52 € | 400.57 € | convenience |\n",
       "| 88744 | 815.39 € | 488.68 € | convenience |\n",
       "\n"
      ],
      "text/plain": [
       "  productID price    cost     category   \n",
       "1 87000     347.52 € 121.77 € convenience\n",
       "2 32128     66.56 €  27.97 €  convenience\n",
       "3 38582     634.24 € 252.61 € convenience\n",
       "4 43107     475.24 € 236.64 € convenience\n",
       "5 15915     972.52 € 400.57 € convenience\n",
       "6 88744     815.39 € 488.68 € convenience"
      ]
     },
     "metadata": {},
     "output_type": "display_data"
    }
   ],
   "source": [
    "products_convenience %>% head()"
   ]
  },
  {
   "cell_type": "code",
   "execution_count": 22,
   "metadata": {},
   "outputs": [
    {
     "data": {
      "text/html": [
       "<table>\n",
       "<caption>A tibble: 347 × 4</caption>\n",
       "<thead>\n",
       "\t<tr><th scope=col>customerID</th><th scope=col>country</th><th scope=col>gender</th><th scope=col>name</th></tr>\n",
       "\t<tr><th scope=col>&lt;dbl&gt;</th><th scope=col>&lt;chr&gt;</th><th scope=col>&lt;chr&gt;</th><th scope=col>&lt;chr&gt;</th></tr>\n",
       "</thead>\n",
       "<tbody>\n",
       "\t<tr><td>97218</td><td>usa</td><td>m</td><td>Daleel, el-Sinai     </td></tr>\n",
       "\t<tr><td>71221</td><td>usa</td><td>m</td><td>Waseef, Sharma       </td></tr>\n",
       "\t<tr><td>39248</td><td>usa</td><td>f</td><td>Jessica, el-Taha     </td></tr>\n",
       "\t<tr><td>41419</td><td>usa</td><td>f</td><td>Hannah, Cung         </td></tr>\n",
       "\t<tr><td>55495</td><td>usa</td><td>f</td><td>Chelsea, Vang        </td></tr>\n",
       "\t<tr><td>17358</td><td>usa</td><td>f</td><td>Ashley, Marler       </td></tr>\n",
       "\t<tr><td>86957</td><td>usa</td><td>f</td><td>Tiegen, Chambers     </td></tr>\n",
       "\t<tr><td>65343</td><td>usa</td><td>m</td><td>Marwaan, Estrada     </td></tr>\n",
       "\t<tr><td>85419</td><td>usa</td><td>m</td><td>Jeramiah, Brame      </td></tr>\n",
       "\t<tr><td>79896</td><td>usa</td><td>f</td><td>Zeinab, Brown        </td></tr>\n",
       "\t<tr><td>25984</td><td>usa</td><td>m</td><td>Lee, el-Naim         </td></tr>\n",
       "\t<tr><td>35461</td><td>usa</td><td>f</td><td>Romina, Salazar      </td></tr>\n",
       "\t<tr><td>79438</td><td>usa</td><td>m</td><td>David, al-Salek      </td></tr>\n",
       "\t<tr><td>15096</td><td>usa</td><td>f</td><td>Zhana, Hunt          </td></tr>\n",
       "\t<tr><td> 9411</td><td>usa</td><td>m</td><td>Zachary, Ortiz       </td></tr>\n",
       "\t<tr><td>94003</td><td>usa</td><td>m</td><td>Arnhil, Shockley     </td></tr>\n",
       "\t<tr><td>28150</td><td>usa</td><td>f</td><td>Catalina, Green      </td></tr>\n",
       "\t<tr><td>27665</td><td>usa</td><td>m</td><td>Andre-Lee, al-Bashara</td></tr>\n",
       "\t<tr><td>88129</td><td>usa</td><td>f</td><td>Sara, Herrera        </td></tr>\n",
       "\t<tr><td>37866</td><td>usa</td><td>m</td><td>Theodore, Young      </td></tr>\n",
       "\t<tr><td>46745</td><td>usa</td><td>m</td><td>Alexander, Hammer    </td></tr>\n",
       "\t<tr><td>95031</td><td>usa</td><td>f</td><td>Kaylah, al-Jan       </td></tr>\n",
       "\t<tr><td>73955</td><td>usa</td><td>f</td><td>Leilani, Lising      </td></tr>\n",
       "\t<tr><td> 5414</td><td>usa</td><td>f</td><td>Courtney, el-Hussain </td></tr>\n",
       "\t<tr><td>37777</td><td>usa</td><td>m</td><td>Christopher, Medina  </td></tr>\n",
       "\t<tr><td>72173</td><td>usa</td><td>m</td><td>Alonzo, el-Farrah    </td></tr>\n",
       "\t<tr><td>89220</td><td>usa</td><td>f</td><td>Huda, Kim            </td></tr>\n",
       "\t<tr><td>80542</td><td>usa</td><td>m</td><td>Hakam, O Brien       </td></tr>\n",
       "\t<tr><td>88314</td><td>usa</td><td>f</td><td>Rian, Jorgenson      </td></tr>\n",
       "\t<tr><td>32056</td><td>usa</td><td>f</td><td>Alicyn, Cotter       </td></tr>\n",
       "\t<tr><td>⋮</td><td>⋮</td><td>⋮</td><td>⋮</td></tr>\n",
       "\t<tr><td> 4567</td><td>usa</td><td>m</td><td>Marnath, Yazzie    </td></tr>\n",
       "\t<tr><td>89871</td><td>usa</td><td>f</td><td>Jessica, Lee       </td></tr>\n",
       "\t<tr><td>45032</td><td>usa</td><td>f</td><td>Amanda, Nguyen     </td></tr>\n",
       "\t<tr><td>64608</td><td>usa</td><td>f</td><td>Kelly, Garcia      </td></tr>\n",
       "\t<tr><td>44522</td><td>usa</td><td>f</td><td>Lashay, Smith      </td></tr>\n",
       "\t<tr><td>93317</td><td>usa</td><td>m</td><td>Carlito, el-Mattar </td></tr>\n",
       "\t<tr><td>52254</td><td>usa</td><td>m</td><td>Kevin, Bolden      </td></tr>\n",
       "\t<tr><td>89184</td><td>usa</td><td>f</td><td>Marisa, Garcia     </td></tr>\n",
       "\t<tr><td>67473</td><td>usa</td><td>f</td><td>Dominique, Lattany </td></tr>\n",
       "\t<tr><td>76025</td><td>usa</td><td>m</td><td>Shakeel, Chheng    </td></tr>\n",
       "\t<tr><td>80720</td><td>usa</td><td>m</td><td>Omar, Mowers       </td></tr>\n",
       "\t<tr><td>99925</td><td>usa</td><td>m</td><td>Hakeem, Garcia     </td></tr>\n",
       "\t<tr><td>83043</td><td>usa</td><td>f</td><td>Randa, Barnett     </td></tr>\n",
       "\t<tr><td> 4500</td><td>usa</td><td>f</td><td>Thanya, el-Din     </td></tr>\n",
       "\t<tr><td>21075</td><td>usa</td><td>m</td><td>Dion, Randolph     </td></tr>\n",
       "\t<tr><td>45948</td><td>usa</td><td>m</td><td>Caleb, Amber       </td></tr>\n",
       "\t<tr><td>74970</td><td>usa</td><td>m</td><td>Fernando, Qualls   </td></tr>\n",
       "\t<tr><td>67911</td><td>usa</td><td>m</td><td>David, Benson      </td></tr>\n",
       "\t<tr><td>41174</td><td>usa</td><td>f</td><td>Christina, al-Allee</td></tr>\n",
       "\t<tr><td>80129</td><td>usa</td><td>f</td><td>Tamara, Swain      </td></tr>\n",
       "\t<tr><td>69052</td><td>usa</td><td>m</td><td>James, Forrester   </td></tr>\n",
       "\t<tr><td>29227</td><td>usa</td><td>f</td><td>Meghan, al-Asmar   </td></tr>\n",
       "\t<tr><td>87539</td><td>usa</td><td>m</td><td>Michael, Boykin    </td></tr>\n",
       "\t<tr><td>76464</td><td>usa</td><td>m</td><td>Shawn, Castruita   </td></tr>\n",
       "\t<tr><td>20062</td><td>usa</td><td>f</td><td>Angela, Ho         </td></tr>\n",
       "\t<tr><td>33432</td><td>usa</td><td>f</td><td>Shelby, Stevens    </td></tr>\n",
       "\t<tr><td>77541</td><td>usa</td><td>m</td><td>Alexander, Hess    </td></tr>\n",
       "\t<tr><td>12307</td><td>usa</td><td>m</td><td>Munjid, Tunson     </td></tr>\n",
       "\t<tr><td> 5274</td><td>usa</td><td>f</td><td>Sydni, el-Ahmad    </td></tr>\n",
       "\t<tr><td>94146</td><td>usa</td><td>m</td><td>Rafeeq, Martinez   </td></tr>\n",
       "</tbody>\n",
       "</table>\n"
      ],
      "text/latex": [
       "A tibble: 347 × 4\n",
       "\\begin{tabular}{r|llll}\n",
       " customerID & country & gender & name\\\\\n",
       " <dbl> & <chr> & <chr> & <chr>\\\\\n",
       "\\hline\n",
       "\t 97218 & usa & m & Daleel, el-Sinai     \\\\\n",
       "\t 71221 & usa & m & Waseef, Sharma       \\\\\n",
       "\t 39248 & usa & f & Jessica, el-Taha     \\\\\n",
       "\t 41419 & usa & f & Hannah, Cung         \\\\\n",
       "\t 55495 & usa & f & Chelsea, Vang        \\\\\n",
       "\t 17358 & usa & f & Ashley, Marler       \\\\\n",
       "\t 86957 & usa & f & Tiegen, Chambers     \\\\\n",
       "\t 65343 & usa & m & Marwaan, Estrada     \\\\\n",
       "\t 85419 & usa & m & Jeramiah, Brame      \\\\\n",
       "\t 79896 & usa & f & Zeinab, Brown        \\\\\n",
       "\t 25984 & usa & m & Lee, el-Naim         \\\\\n",
       "\t 35461 & usa & f & Romina, Salazar      \\\\\n",
       "\t 79438 & usa & m & David, al-Salek      \\\\\n",
       "\t 15096 & usa & f & Zhana, Hunt          \\\\\n",
       "\t  9411 & usa & m & Zachary, Ortiz       \\\\\n",
       "\t 94003 & usa & m & Arnhil, Shockley     \\\\\n",
       "\t 28150 & usa & f & Catalina, Green      \\\\\n",
       "\t 27665 & usa & m & Andre-Lee, al-Bashara\\\\\n",
       "\t 88129 & usa & f & Sara, Herrera        \\\\\n",
       "\t 37866 & usa & m & Theodore, Young      \\\\\n",
       "\t 46745 & usa & m & Alexander, Hammer    \\\\\n",
       "\t 95031 & usa & f & Kaylah, al-Jan       \\\\\n",
       "\t 73955 & usa & f & Leilani, Lising      \\\\\n",
       "\t  5414 & usa & f & Courtney, el-Hussain \\\\\n",
       "\t 37777 & usa & m & Christopher, Medina  \\\\\n",
       "\t 72173 & usa & m & Alonzo, el-Farrah    \\\\\n",
       "\t 89220 & usa & f & Huda, Kim            \\\\\n",
       "\t 80542 & usa & m & Hakam, O Brien       \\\\\n",
       "\t 88314 & usa & f & Rian, Jorgenson      \\\\\n",
       "\t 32056 & usa & f & Alicyn, Cotter       \\\\\n",
       "\t ⋮ & ⋮ & ⋮ & ⋮\\\\\n",
       "\t  4567 & usa & m & Marnath, Yazzie    \\\\\n",
       "\t 89871 & usa & f & Jessica, Lee       \\\\\n",
       "\t 45032 & usa & f & Amanda, Nguyen     \\\\\n",
       "\t 64608 & usa & f & Kelly, Garcia      \\\\\n",
       "\t 44522 & usa & f & Lashay, Smith      \\\\\n",
       "\t 93317 & usa & m & Carlito, el-Mattar \\\\\n",
       "\t 52254 & usa & m & Kevin, Bolden      \\\\\n",
       "\t 89184 & usa & f & Marisa, Garcia     \\\\\n",
       "\t 67473 & usa & f & Dominique, Lattany \\\\\n",
       "\t 76025 & usa & m & Shakeel, Chheng    \\\\\n",
       "\t 80720 & usa & m & Omar, Mowers       \\\\\n",
       "\t 99925 & usa & m & Hakeem, Garcia     \\\\\n",
       "\t 83043 & usa & f & Randa, Barnett     \\\\\n",
       "\t  4500 & usa & f & Thanya, el-Din     \\\\\n",
       "\t 21075 & usa & m & Dion, Randolph     \\\\\n",
       "\t 45948 & usa & m & Caleb, Amber       \\\\\n",
       "\t 74970 & usa & m & Fernando, Qualls   \\\\\n",
       "\t 67911 & usa & m & David, Benson      \\\\\n",
       "\t 41174 & usa & f & Christina, al-Allee\\\\\n",
       "\t 80129 & usa & f & Tamara, Swain      \\\\\n",
       "\t 69052 & usa & m & James, Forrester   \\\\\n",
       "\t 29227 & usa & f & Meghan, al-Asmar   \\\\\n",
       "\t 87539 & usa & m & Michael, Boykin    \\\\\n",
       "\t 76464 & usa & m & Shawn, Castruita   \\\\\n",
       "\t 20062 & usa & f & Angela, Ho         \\\\\n",
       "\t 33432 & usa & f & Shelby, Stevens    \\\\\n",
       "\t 77541 & usa & m & Alexander, Hess    \\\\\n",
       "\t 12307 & usa & m & Munjid, Tunson     \\\\\n",
       "\t  5274 & usa & f & Sydni, el-Ahmad    \\\\\n",
       "\t 94146 & usa & m & Rafeeq, Martinez   \\\\\n",
       "\\end{tabular}\n"
      ],
      "text/markdown": [
       "\n",
       "A tibble: 347 × 4\n",
       "\n",
       "| customerID &lt;dbl&gt; | country &lt;chr&gt; | gender &lt;chr&gt; | name &lt;chr&gt; |\n",
       "|---|---|---|---|\n",
       "| 97218 | usa | m | Daleel, el-Sinai      |\n",
       "| 71221 | usa | m | Waseef, Sharma        |\n",
       "| 39248 | usa | f | Jessica, el-Taha      |\n",
       "| 41419 | usa | f | Hannah, Cung          |\n",
       "| 55495 | usa | f | Chelsea, Vang         |\n",
       "| 17358 | usa | f | Ashley, Marler        |\n",
       "| 86957 | usa | f | Tiegen, Chambers      |\n",
       "| 65343 | usa | m | Marwaan, Estrada      |\n",
       "| 85419 | usa | m | Jeramiah, Brame       |\n",
       "| 79896 | usa | f | Zeinab, Brown         |\n",
       "| 25984 | usa | m | Lee, el-Naim          |\n",
       "| 35461 | usa | f | Romina, Salazar       |\n",
       "| 79438 | usa | m | David, al-Salek       |\n",
       "| 15096 | usa | f | Zhana, Hunt           |\n",
       "|  9411 | usa | m | Zachary, Ortiz        |\n",
       "| 94003 | usa | m | Arnhil, Shockley      |\n",
       "| 28150 | usa | f | Catalina, Green       |\n",
       "| 27665 | usa | m | Andre-Lee, al-Bashara |\n",
       "| 88129 | usa | f | Sara, Herrera         |\n",
       "| 37866 | usa | m | Theodore, Young       |\n",
       "| 46745 | usa | m | Alexander, Hammer     |\n",
       "| 95031 | usa | f | Kaylah, al-Jan        |\n",
       "| 73955 | usa | f | Leilani, Lising       |\n",
       "|  5414 | usa | f | Courtney, el-Hussain  |\n",
       "| 37777 | usa | m | Christopher, Medina   |\n",
       "| 72173 | usa | m | Alonzo, el-Farrah     |\n",
       "| 89220 | usa | f | Huda, Kim             |\n",
       "| 80542 | usa | m | Hakam, O Brien        |\n",
       "| 88314 | usa | f | Rian, Jorgenson       |\n",
       "| 32056 | usa | f | Alicyn, Cotter        |\n",
       "| ⋮ | ⋮ | ⋮ | ⋮ |\n",
       "|  4567 | usa | m | Marnath, Yazzie     |\n",
       "| 89871 | usa | f | Jessica, Lee        |\n",
       "| 45032 | usa | f | Amanda, Nguyen      |\n",
       "| 64608 | usa | f | Kelly, Garcia       |\n",
       "| 44522 | usa | f | Lashay, Smith       |\n",
       "| 93317 | usa | m | Carlito, el-Mattar  |\n",
       "| 52254 | usa | m | Kevin, Bolden       |\n",
       "| 89184 | usa | f | Marisa, Garcia      |\n",
       "| 67473 | usa | f | Dominique, Lattany  |\n",
       "| 76025 | usa | m | Shakeel, Chheng     |\n",
       "| 80720 | usa | m | Omar, Mowers        |\n",
       "| 99925 | usa | m | Hakeem, Garcia      |\n",
       "| 83043 | usa | f | Randa, Barnett      |\n",
       "|  4500 | usa | f | Thanya, el-Din      |\n",
       "| 21075 | usa | m | Dion, Randolph      |\n",
       "| 45948 | usa | m | Caleb, Amber        |\n",
       "| 74970 | usa | m | Fernando, Qualls    |\n",
       "| 67911 | usa | m | David, Benson       |\n",
       "| 41174 | usa | f | Christina, al-Allee |\n",
       "| 80129 | usa | f | Tamara, Swain       |\n",
       "| 69052 | usa | m | James, Forrester    |\n",
       "| 29227 | usa | f | Meghan, al-Asmar    |\n",
       "| 87539 | usa | m | Michael, Boykin     |\n",
       "| 76464 | usa | m | Shawn, Castruita    |\n",
       "| 20062 | usa | f | Angela, Ho          |\n",
       "| 33432 | usa | f | Shelby, Stevens     |\n",
       "| 77541 | usa | m | Alexander, Hess     |\n",
       "| 12307 | usa | m | Munjid, Tunson      |\n",
       "|  5274 | usa | f | Sydni, el-Ahmad     |\n",
       "| 94146 | usa | m | Rafeeq, Martinez    |\n",
       "\n"
      ],
      "text/plain": [
       "    customerID country gender name                 \n",
       "1   97218      usa     m      Daleel, el-Sinai     \n",
       "2   71221      usa     m      Waseef, Sharma       \n",
       "3   39248      usa     f      Jessica, el-Taha     \n",
       "4   41419      usa     f      Hannah, Cung         \n",
       "5   55495      usa     f      Chelsea, Vang        \n",
       "6   17358      usa     f      Ashley, Marler       \n",
       "7   86957      usa     f      Tiegen, Chambers     \n",
       "8   65343      usa     m      Marwaan, Estrada     \n",
       "9   85419      usa     m      Jeramiah, Brame      \n",
       "10  79896      usa     f      Zeinab, Brown        \n",
       "11  25984      usa     m      Lee, el-Naim         \n",
       "12  35461      usa     f      Romina, Salazar      \n",
       "13  79438      usa     m      David, al-Salek      \n",
       "14  15096      usa     f      Zhana, Hunt          \n",
       "15   9411      usa     m      Zachary, Ortiz       \n",
       "16  94003      usa     m      Arnhil, Shockley     \n",
       "17  28150      usa     f      Catalina, Green      \n",
       "18  27665      usa     m      Andre-Lee, al-Bashara\n",
       "19  88129      usa     f      Sara, Herrera        \n",
       "20  37866      usa     m      Theodore, Young      \n",
       "21  46745      usa     m      Alexander, Hammer    \n",
       "22  95031      usa     f      Kaylah, al-Jan       \n",
       "23  73955      usa     f      Leilani, Lising      \n",
       "24   5414      usa     f      Courtney, el-Hussain \n",
       "25  37777      usa     m      Christopher, Medina  \n",
       "26  72173      usa     m      Alonzo, el-Farrah    \n",
       "27  89220      usa     f      Huda, Kim            \n",
       "28  80542      usa     m      Hakam, O Brien       \n",
       "29  88314      usa     f      Rian, Jorgenson      \n",
       "30  32056      usa     f      Alicyn, Cotter       \n",
       "⋮   ⋮          ⋮       ⋮      ⋮                    \n",
       "318  4567      usa     m      Marnath, Yazzie      \n",
       "319 89871      usa     f      Jessica, Lee         \n",
       "320 45032      usa     f      Amanda, Nguyen       \n",
       "321 64608      usa     f      Kelly, Garcia        \n",
       "322 44522      usa     f      Lashay, Smith        \n",
       "323 93317      usa     m      Carlito, el-Mattar   \n",
       "324 52254      usa     m      Kevin, Bolden        \n",
       "325 89184      usa     f      Marisa, Garcia       \n",
       "326 67473      usa     f      Dominique, Lattany   \n",
       "327 76025      usa     m      Shakeel, Chheng      \n",
       "328 80720      usa     m      Omar, Mowers         \n",
       "329 99925      usa     m      Hakeem, Garcia       \n",
       "330 83043      usa     f      Randa, Barnett       \n",
       "331  4500      usa     f      Thanya, el-Din       \n",
       "332 21075      usa     m      Dion, Randolph       \n",
       "333 45948      usa     m      Caleb, Amber         \n",
       "334 74970      usa     m      Fernando, Qualls     \n",
       "335 67911      usa     m      David, Benson        \n",
       "336 41174      usa     f      Christina, al-Allee  \n",
       "337 80129      usa     f      Tamara, Swain        \n",
       "338 69052      usa     m      James, Forrester     \n",
       "339 29227      usa     f      Meghan, al-Asmar     \n",
       "340 87539      usa     m      Michael, Boykin      \n",
       "341 76464      usa     m      Shawn, Castruita     \n",
       "342 20062      usa     f      Angela, Ho           \n",
       "343 33432      usa     f      Shelby, Stevens      \n",
       "344 77541      usa     m      Alexander, Hess      \n",
       "345 12307      usa     m      Munjid, Tunson       \n",
       "346  5274      usa     f      Sydni, el-Ahmad      \n",
       "347 94146      usa     m      Rafeeq, Martinez     "
      ]
     },
     "metadata": {},
     "output_type": "display_data"
    }
   ],
   "source": [
    "customers_usa"
   ]
  },
  {
   "cell_type": "markdown",
   "metadata": {
    "slideshow": {
     "slide_type": "subslide"
    }
   },
   "source": [
    "#### *Up to you - 1<sup>st</sup> class deficiencies*  \n",
    "\n",
    "2. Implement transformation rules to resolve the deficiencies\n",
    "    - Transformation rules can be implemented as pipes\n",
    "    - You will have to use mutate() in combination with *str_replace()* and/or *str_split()*"
   ]
  },
  {
   "cell_type": "code",
   "execution_count": 29,
   "metadata": {},
   "outputs": [],
   "source": [
    "products_convenience %>%\n",
    "    mutate(price = as.numeric(str_replace(price,' €', \"\")),\n",
    "           cost = as.numeric(str_replace(cost, ' €', \"\"))) -> products_convenience"
   ]
  },
  {
   "cell_type": "code",
   "execution_count": 39,
   "metadata": {},
   "outputs": [],
   "source": [
    "customers_usa %>%\n",
    "    mutate(firstNames = str_split(string = name, pattern = ', ', simplify = TRUE)[, 1],\n",
    "           lastNames = str_split(string = name, pattern = ', ', simplify = TRUE)[, 2]) %>%\n",
    "    select(-name) -> customers_usa"
   ]
  },
  {
   "cell_type": "markdown",
   "metadata": {
    "slideshow": {
     "slide_type": "subslide"
    }
   },
   "source": [
    "#### 2<sup>nd</sup> class deficiencies\n",
    "\n",
    "Deficiencies that can be automatically identified but have to be removed manually\n",
    "\n",
    "- Syntactic: prior unknown syntactic error are identified for the first time and transferred into transformation rules\n",
    "- Semantic: deficiencies can be identified by automatic plausibility checks or pattern recognition algorithms\n",
    "\n",
    "→ Deficiencies are usually due to errors in the data source, corrective action must be taken at the operational source."
   ]
  },
  {
   "cell_type": "markdown",
   "metadata": {
    "slideshow": {
     "slide_type": "subslide"
    }
   },
   "source": [
    "#### *Up to you - 2<sup>nd</sup> class deficiencies*\n",
    "\n",
    "1. Perform plausibility checks (min, mean, max, …) to identify deficiencies in the product data \n"
   ]
  },
  {
   "cell_type": "code",
   "execution_count": 40,
   "metadata": {},
   "outputs": [
    {
     "data": {
      "text/plain": [
       "   productID         price            cost          category        \n",
       " Min.   : 2002   Min.   :-99.0   Min.   :-99.00   Length:67         \n",
       " 1st Qu.:25228   1st Qu.:136.0   1st Qu.: 76.45   Class :character  \n",
       " Median :41910   Median :393.7   Median :171.11   Mode  :character  \n",
       " Mean   :47533   Mean   :414.2   Mean   :194.55                     \n",
       " 3rd Qu.:75684   3rd Qu.:675.9   3rd Qu.:325.40                     \n",
       " Max.   :99445   Max.   :942.0   Max.   :543.90                     "
      ]
     },
     "metadata": {},
     "output_type": "display_data"
    }
   ],
   "source": [
    "products %>%\n",
    "    summary()"
   ]
  },
  {
   "cell_type": "code",
   "execution_count": 41,
   "metadata": {},
   "outputs": [
    {
     "data": {
      "text/plain": [
       "   productID         price             cost         category        \n",
       " Min.   : 8081   Min.   : 18.03   Min.   :-99.0   Length:33         \n",
       " 1st Qu.:19920   1st Qu.:246.07   1st Qu.:121.8   Class :character  \n",
       " Median :39369   Median :464.61   Median :217.3   Mode  :character  \n",
       " Mean   :43553   Mean   :456.81   Mean   :207.2                     \n",
       " 3rd Qu.:64983   3rd Qu.:659.98   3rd Qu.:283.4                     \n",
       " Max.   :93187   Max.   :972.52   Max.   :511.9                     "
      ]
     },
     "metadata": {},
     "output_type": "display_data"
    }
   ],
   "source": [
    "products_convenience %>%\n",
    "    summary()"
   ]
  },
  {
   "cell_type": "markdown",
   "metadata": {
    "cell_style": "center",
    "slideshow": {
     "slide_type": "subslide"
    }
   },
   "source": [
    "#### *Up to you - 2<sup>nd</sup> class deficiencies*\n",
    "\n",
    "2. Implement transformation rules to resolve the deficiencies. <br> If you identify errors or missing values you can either:\n",
    "    - Keep the errors / missing values\n",
    "    - Remove the observations\n",
    "    - Impute the values"
   ]
  },
  {
   "cell_type": "code",
   "execution_count": 44,
   "metadata": {
    "cell_style": "center",
    "scrolled": true
   },
   "outputs": [],
   "source": [
    " "
   ]
  },
  {
   "cell_type": "markdown",
   "metadata": {
    "slideshow": {
     "slide_type": "subslide"
    }
   },
   "source": [
    "- remove"
   ]
  },
  {
   "cell_type": "code",
   "execution_count": 45,
   "metadata": {},
   "outputs": [],
   "source": [
    "products %>%\n",
    "    filter(cost >= 0, price >= 0) -> products_fil\n",
    "products_convenience %>%\n",
    "    filter(cost >= 0, price >= 0) -> products_convenience_fil"
   ]
  },
  {
   "cell_type": "markdown",
   "metadata": {
    "slideshow": {
     "slide_type": "fragment"
    }
   },
   "source": [
    "- impute"
   ]
  },
  {
   "cell_type": "code",
   "execution_count": 48,
   "metadata": {
    "slideshow": {
     "slide_type": "-"
    }
   },
   "outputs": [
    {
     "data": {
      "text/html": [
       "<table>\n",
       "<caption>A tibble: 67 × 4</caption>\n",
       "<thead>\n",
       "\t<tr><th scope=col>productID</th><th scope=col>price</th><th scope=col>cost</th><th scope=col>category</th></tr>\n",
       "\t<tr><th scope=col>&lt;dbl&gt;</th><th scope=col>&lt;dbl&gt;</th><th scope=col>&lt;dbl&gt;</th><th scope=col>&lt;chr&gt;</th></tr>\n",
       "</thead>\n",
       "<tbody>\n",
       "\t<tr><td>25426</td><td>146.15</td><td> 75.92</td><td>emergency</td></tr>\n",
       "\t<tr><td>81136</td><td> 45.90</td><td> 23.98</td><td>emergency</td></tr>\n",
       "\t<tr><td>40784</td><td>125.79</td><td> 47.53</td><td>specialty</td></tr>\n",
       "\t<tr><td>34082</td><td> 40.67</td><td> 12.21</td><td>specialty</td></tr>\n",
       "\t<tr><td>99445</td><td> 74.29</td><td> 28.26</td><td>specialty</td></tr>\n",
       "\t<tr><td>78934</td><td>586.96</td><td>264.75</td><td>specialty</td></tr>\n",
       "\t<tr><td>70159</td><td>905.96</td><td>345.40</td><td>emergency</td></tr>\n",
       "\t<tr><td>50304</td><td> 95.66</td><td> 30.34</td><td>specialty</td></tr>\n",
       "\t<tr><td>10130</td><td>767.88</td><td>417.93</td><td>specialty</td></tr>\n",
       "\t<tr><td> 2002</td><td>799.99</td><td>407.30</td><td>emergency</td></tr>\n",
       "\t<tr><td>37269</td><td> 93.61</td><td> 50.52</td><td>emergency</td></tr>\n",
       "\t<tr><td>60974</td><td>866.72</td><td>290.78</td><td>specialty</td></tr>\n",
       "\t<tr><td>27188</td><td>574.61</td><td>339.91</td><td>emergency</td></tr>\n",
       "\t<tr><td>62077</td><td>704.49</td><td>246.24</td><td>specialty</td></tr>\n",
       "\t<tr><td>32738</td><td>343.38</td><td>105.14</td><td>emergency</td></tr>\n",
       "\t<tr><td>75593</td><td> 23.50</td><td> 10.06</td><td>specialty</td></tr>\n",
       "\t<tr><td>89266</td><td>786.91</td><td>339.30</td><td>specialty</td></tr>\n",
       "\t<tr><td> 9947</td><td>919.18</td><td>506.98</td><td>specialty</td></tr>\n",
       "\t<tr><td>32310</td><td>451.42</td><td>139.76</td><td>emergency</td></tr>\n",
       "\t<tr><td>29552</td><td>319.41</td><td>124.27</td><td>emergency</td></tr>\n",
       "\t<tr><td>11138</td><td> 17.45</td><td> 10.41</td><td>emergency</td></tr>\n",
       "\t<tr><td>18541</td><td>393.71</td><td>128.61</td><td>emergency</td></tr>\n",
       "\t<tr><td>55593</td><td> 73.52</td><td> 35.49</td><td>emergency</td></tr>\n",
       "\t<tr><td>61070</td><td>942.04</td><td>496.72</td><td>specialty</td></tr>\n",
       "\t<tr><td>27410</td><td>240.23</td><td> 84.42</td><td>specialty</td></tr>\n",
       "\t<tr><td>79954</td><td>106.01</td><td> 47.34</td><td>emergency</td></tr>\n",
       "\t<tr><td>42029</td><td>920.94</td><td>543.90</td><td>emergency</td></tr>\n",
       "\t<tr><td>87212</td><td>694.73</td><td>364.10</td><td>specialty</td></tr>\n",
       "\t<tr><td>22538</td><td>445.45</td><td>182.46</td><td>specialty</td></tr>\n",
       "\t<tr><td>47613</td><td>289.03</td><td>114.52</td><td>specialty</td></tr>\n",
       "\t<tr><td>⋮</td><td>⋮</td><td>⋮</td><td>⋮</td></tr>\n",
       "\t<tr><td>76290</td><td>692.8400</td><td>382.050</td><td>emergency</td></tr>\n",
       "\t<tr><td>16224</td><td> 85.7700</td><td> 36.610</td><td>specialty</td></tr>\n",
       "\t<tr><td>37524</td><td>448.0300</td><td>177.370</td><td>emergency</td></tr>\n",
       "\t<tr><td>75775</td><td>550.3300</td><td>298.610</td><td>specialty</td></tr>\n",
       "\t<tr><td>81165</td><td>700.7200</td><td>387.720</td><td>emergency</td></tr>\n",
       "\t<tr><td>57590</td><td>414.2457</td><td>422.850</td><td>specialty</td></tr>\n",
       "\t<tr><td>96001</td><td>635.8600</td><td>320.370</td><td>specialty</td></tr>\n",
       "\t<tr><td>41910</td><td>414.2457</td><td> 82.680</td><td>emergency</td></tr>\n",
       "\t<tr><td>13013</td><td>373.3700</td><td>123.440</td><td>specialty</td></tr>\n",
       "\t<tr><td>15918</td><td>175.7600</td><td> 87.340</td><td>specialty</td></tr>\n",
       "\t<tr><td>15847</td><td>207.9400</td><td> 84.670</td><td>emergency</td></tr>\n",
       "\t<tr><td>43446</td><td>879.4700</td><td>194.547</td><td>emergency</td></tr>\n",
       "\t<tr><td>51943</td><td>652.1300</td><td>376.210</td><td>specialty</td></tr>\n",
       "\t<tr><td>86205</td><td>284.0700</td><td>132.350</td><td>emergency</td></tr>\n",
       "\t<tr><td>25031</td><td>548.7800</td><td>226.660</td><td>emergency</td></tr>\n",
       "\t<tr><td>86064</td><td>589.8200</td><td>185.000</td><td>emergency</td></tr>\n",
       "\t<tr><td> 8632</td><td>561.6300</td><td>270.510</td><td>emergency</td></tr>\n",
       "\t<tr><td>72114</td><td>257.3300</td><td> 96.490</td><td>specialty</td></tr>\n",
       "\t<tr><td>54910</td><td>312.7200</td><td>184.770</td><td>specialty</td></tr>\n",
       "\t<tr><td> 7234</td><td>351.1400</td><td>171.110</td><td>specialty</td></tr>\n",
       "\t<tr><td>96506</td><td>262.7800</td><td>100.680</td><td>emergency</td></tr>\n",
       "\t<tr><td>28088</td><td>697.0800</td><td>386.500</td><td>specialty</td></tr>\n",
       "\t<tr><td>34719</td><td>176.0300</td><td> 76.990</td><td>emergency</td></tr>\n",
       "\t<tr><td>28440</td><td>415.0800</td><td>214.570</td><td>emergency</td></tr>\n",
       "\t<tr><td> 9072</td><td> 97.0400</td><td> 43.040</td><td>emergency</td></tr>\n",
       "\t<tr><td>85702</td><td>326.8400</td><td>168.310</td><td>emergency</td></tr>\n",
       "\t<tr><td>34413</td><td> 29.8000</td><td> 15.340</td><td>emergency</td></tr>\n",
       "\t<tr><td>91230</td><td>703.7700</td><td>408.070</td><td>emergency</td></tr>\n",
       "\t<tr><td>88698</td><td> 29.5400</td><td> 10.350</td><td>specialty</td></tr>\n",
       "\t<tr><td>17731</td><td>719.5000</td><td>404.380</td><td>specialty</td></tr>\n",
       "</tbody>\n",
       "</table>\n"
      ],
      "text/latex": [
       "A tibble: 67 × 4\n",
       "\\begin{tabular}{r|llll}\n",
       " productID & price & cost & category\\\\\n",
       " <dbl> & <dbl> & <dbl> & <chr>\\\\\n",
       "\\hline\n",
       "\t 25426 & 146.15 &  75.92 & emergency\\\\\n",
       "\t 81136 &  45.90 &  23.98 & emergency\\\\\n",
       "\t 40784 & 125.79 &  47.53 & specialty\\\\\n",
       "\t 34082 &  40.67 &  12.21 & specialty\\\\\n",
       "\t 99445 &  74.29 &  28.26 & specialty\\\\\n",
       "\t 78934 & 586.96 & 264.75 & specialty\\\\\n",
       "\t 70159 & 905.96 & 345.40 & emergency\\\\\n",
       "\t 50304 &  95.66 &  30.34 & specialty\\\\\n",
       "\t 10130 & 767.88 & 417.93 & specialty\\\\\n",
       "\t  2002 & 799.99 & 407.30 & emergency\\\\\n",
       "\t 37269 &  93.61 &  50.52 & emergency\\\\\n",
       "\t 60974 & 866.72 & 290.78 & specialty\\\\\n",
       "\t 27188 & 574.61 & 339.91 & emergency\\\\\n",
       "\t 62077 & 704.49 & 246.24 & specialty\\\\\n",
       "\t 32738 & 343.38 & 105.14 & emergency\\\\\n",
       "\t 75593 &  23.50 &  10.06 & specialty\\\\\n",
       "\t 89266 & 786.91 & 339.30 & specialty\\\\\n",
       "\t  9947 & 919.18 & 506.98 & specialty\\\\\n",
       "\t 32310 & 451.42 & 139.76 & emergency\\\\\n",
       "\t 29552 & 319.41 & 124.27 & emergency\\\\\n",
       "\t 11138 &  17.45 &  10.41 & emergency\\\\\n",
       "\t 18541 & 393.71 & 128.61 & emergency\\\\\n",
       "\t 55593 &  73.52 &  35.49 & emergency\\\\\n",
       "\t 61070 & 942.04 & 496.72 & specialty\\\\\n",
       "\t 27410 & 240.23 &  84.42 & specialty\\\\\n",
       "\t 79954 & 106.01 &  47.34 & emergency\\\\\n",
       "\t 42029 & 920.94 & 543.90 & emergency\\\\\n",
       "\t 87212 & 694.73 & 364.10 & specialty\\\\\n",
       "\t 22538 & 445.45 & 182.46 & specialty\\\\\n",
       "\t 47613 & 289.03 & 114.52 & specialty\\\\\n",
       "\t ⋮ & ⋮ & ⋮ & ⋮\\\\\n",
       "\t 76290 & 692.8400 & 382.050 & emergency\\\\\n",
       "\t 16224 &  85.7700 &  36.610 & specialty\\\\\n",
       "\t 37524 & 448.0300 & 177.370 & emergency\\\\\n",
       "\t 75775 & 550.3300 & 298.610 & specialty\\\\\n",
       "\t 81165 & 700.7200 & 387.720 & emergency\\\\\n",
       "\t 57590 & 414.2457 & 422.850 & specialty\\\\\n",
       "\t 96001 & 635.8600 & 320.370 & specialty\\\\\n",
       "\t 41910 & 414.2457 &  82.680 & emergency\\\\\n",
       "\t 13013 & 373.3700 & 123.440 & specialty\\\\\n",
       "\t 15918 & 175.7600 &  87.340 & specialty\\\\\n",
       "\t 15847 & 207.9400 &  84.670 & emergency\\\\\n",
       "\t 43446 & 879.4700 & 194.547 & emergency\\\\\n",
       "\t 51943 & 652.1300 & 376.210 & specialty\\\\\n",
       "\t 86205 & 284.0700 & 132.350 & emergency\\\\\n",
       "\t 25031 & 548.7800 & 226.660 & emergency\\\\\n",
       "\t 86064 & 589.8200 & 185.000 & emergency\\\\\n",
       "\t  8632 & 561.6300 & 270.510 & emergency\\\\\n",
       "\t 72114 & 257.3300 &  96.490 & specialty\\\\\n",
       "\t 54910 & 312.7200 & 184.770 & specialty\\\\\n",
       "\t  7234 & 351.1400 & 171.110 & specialty\\\\\n",
       "\t 96506 & 262.7800 & 100.680 & emergency\\\\\n",
       "\t 28088 & 697.0800 & 386.500 & specialty\\\\\n",
       "\t 34719 & 176.0300 &  76.990 & emergency\\\\\n",
       "\t 28440 & 415.0800 & 214.570 & emergency\\\\\n",
       "\t  9072 &  97.0400 &  43.040 & emergency\\\\\n",
       "\t 85702 & 326.8400 & 168.310 & emergency\\\\\n",
       "\t 34413 &  29.8000 &  15.340 & emergency\\\\\n",
       "\t 91230 & 703.7700 & 408.070 & emergency\\\\\n",
       "\t 88698 &  29.5400 &  10.350 & specialty\\\\\n",
       "\t 17731 & 719.5000 & 404.380 & specialty\\\\\n",
       "\\end{tabular}\n"
      ],
      "text/markdown": [
       "\n",
       "A tibble: 67 × 4\n",
       "\n",
       "| productID &lt;dbl&gt; | price &lt;dbl&gt; | cost &lt;dbl&gt; | category &lt;chr&gt; |\n",
       "|---|---|---|---|\n",
       "| 25426 | 146.15 |  75.92 | emergency |\n",
       "| 81136 |  45.90 |  23.98 | emergency |\n",
       "| 40784 | 125.79 |  47.53 | specialty |\n",
       "| 34082 |  40.67 |  12.21 | specialty |\n",
       "| 99445 |  74.29 |  28.26 | specialty |\n",
       "| 78934 | 586.96 | 264.75 | specialty |\n",
       "| 70159 | 905.96 | 345.40 | emergency |\n",
       "| 50304 |  95.66 |  30.34 | specialty |\n",
       "| 10130 | 767.88 | 417.93 | specialty |\n",
       "|  2002 | 799.99 | 407.30 | emergency |\n",
       "| 37269 |  93.61 |  50.52 | emergency |\n",
       "| 60974 | 866.72 | 290.78 | specialty |\n",
       "| 27188 | 574.61 | 339.91 | emergency |\n",
       "| 62077 | 704.49 | 246.24 | specialty |\n",
       "| 32738 | 343.38 | 105.14 | emergency |\n",
       "| 75593 |  23.50 |  10.06 | specialty |\n",
       "| 89266 | 786.91 | 339.30 | specialty |\n",
       "|  9947 | 919.18 | 506.98 | specialty |\n",
       "| 32310 | 451.42 | 139.76 | emergency |\n",
       "| 29552 | 319.41 | 124.27 | emergency |\n",
       "| 11138 |  17.45 |  10.41 | emergency |\n",
       "| 18541 | 393.71 | 128.61 | emergency |\n",
       "| 55593 |  73.52 |  35.49 | emergency |\n",
       "| 61070 | 942.04 | 496.72 | specialty |\n",
       "| 27410 | 240.23 |  84.42 | specialty |\n",
       "| 79954 | 106.01 |  47.34 | emergency |\n",
       "| 42029 | 920.94 | 543.90 | emergency |\n",
       "| 87212 | 694.73 | 364.10 | specialty |\n",
       "| 22538 | 445.45 | 182.46 | specialty |\n",
       "| 47613 | 289.03 | 114.52 | specialty |\n",
       "| ⋮ | ⋮ | ⋮ | ⋮ |\n",
       "| 76290 | 692.8400 | 382.050 | emergency |\n",
       "| 16224 |  85.7700 |  36.610 | specialty |\n",
       "| 37524 | 448.0300 | 177.370 | emergency |\n",
       "| 75775 | 550.3300 | 298.610 | specialty |\n",
       "| 81165 | 700.7200 | 387.720 | emergency |\n",
       "| 57590 | 414.2457 | 422.850 | specialty |\n",
       "| 96001 | 635.8600 | 320.370 | specialty |\n",
       "| 41910 | 414.2457 |  82.680 | emergency |\n",
       "| 13013 | 373.3700 | 123.440 | specialty |\n",
       "| 15918 | 175.7600 |  87.340 | specialty |\n",
       "| 15847 | 207.9400 |  84.670 | emergency |\n",
       "| 43446 | 879.4700 | 194.547 | emergency |\n",
       "| 51943 | 652.1300 | 376.210 | specialty |\n",
       "| 86205 | 284.0700 | 132.350 | emergency |\n",
       "| 25031 | 548.7800 | 226.660 | emergency |\n",
       "| 86064 | 589.8200 | 185.000 | emergency |\n",
       "|  8632 | 561.6300 | 270.510 | emergency |\n",
       "| 72114 | 257.3300 |  96.490 | specialty |\n",
       "| 54910 | 312.7200 | 184.770 | specialty |\n",
       "|  7234 | 351.1400 | 171.110 | specialty |\n",
       "| 96506 | 262.7800 | 100.680 | emergency |\n",
       "| 28088 | 697.0800 | 386.500 | specialty |\n",
       "| 34719 | 176.0300 |  76.990 | emergency |\n",
       "| 28440 | 415.0800 | 214.570 | emergency |\n",
       "|  9072 |  97.0400 |  43.040 | emergency |\n",
       "| 85702 | 326.8400 | 168.310 | emergency |\n",
       "| 34413 |  29.8000 |  15.340 | emergency |\n",
       "| 91230 | 703.7700 | 408.070 | emergency |\n",
       "| 88698 |  29.5400 |  10.350 | specialty |\n",
       "| 17731 | 719.5000 | 404.380 | specialty |\n",
       "\n"
      ],
      "text/plain": [
       "   productID price    cost    category \n",
       "1  25426     146.15    75.92  emergency\n",
       "2  81136      45.90    23.98  emergency\n",
       "3  40784     125.79    47.53  specialty\n",
       "4  34082      40.67    12.21  specialty\n",
       "5  99445      74.29    28.26  specialty\n",
       "6  78934     586.96   264.75  specialty\n",
       "7  70159     905.96   345.40  emergency\n",
       "8  50304      95.66    30.34  specialty\n",
       "9  10130     767.88   417.93  specialty\n",
       "10  2002     799.99   407.30  emergency\n",
       "11 37269      93.61    50.52  emergency\n",
       "12 60974     866.72   290.78  specialty\n",
       "13 27188     574.61   339.91  emergency\n",
       "14 62077     704.49   246.24  specialty\n",
       "15 32738     343.38   105.14  emergency\n",
       "16 75593      23.50    10.06  specialty\n",
       "17 89266     786.91   339.30  specialty\n",
       "18  9947     919.18   506.98  specialty\n",
       "19 32310     451.42   139.76  emergency\n",
       "20 29552     319.41   124.27  emergency\n",
       "21 11138      17.45    10.41  emergency\n",
       "22 18541     393.71   128.61  emergency\n",
       "23 55593      73.52    35.49  emergency\n",
       "24 61070     942.04   496.72  specialty\n",
       "25 27410     240.23    84.42  specialty\n",
       "26 79954     106.01    47.34  emergency\n",
       "27 42029     920.94   543.90  emergency\n",
       "28 87212     694.73   364.10  specialty\n",
       "29 22538     445.45   182.46  specialty\n",
       "30 47613     289.03   114.52  specialty\n",
       "⋮  ⋮         ⋮        ⋮       ⋮        \n",
       "38 76290     692.8400 382.050 emergency\n",
       "39 16224      85.7700  36.610 specialty\n",
       "40 37524     448.0300 177.370 emergency\n",
       "41 75775     550.3300 298.610 specialty\n",
       "42 81165     700.7200 387.720 emergency\n",
       "43 57590     414.2457 422.850 specialty\n",
       "44 96001     635.8600 320.370 specialty\n",
       "45 41910     414.2457  82.680 emergency\n",
       "46 13013     373.3700 123.440 specialty\n",
       "47 15918     175.7600  87.340 specialty\n",
       "48 15847     207.9400  84.670 emergency\n",
       "49 43446     879.4700 194.547 emergency\n",
       "50 51943     652.1300 376.210 specialty\n",
       "51 86205     284.0700 132.350 emergency\n",
       "52 25031     548.7800 226.660 emergency\n",
       "53 86064     589.8200 185.000 emergency\n",
       "54  8632     561.6300 270.510 emergency\n",
       "55 72114     257.3300  96.490 specialty\n",
       "56 54910     312.7200 184.770 specialty\n",
       "57  7234     351.1400 171.110 specialty\n",
       "58 96506     262.7800 100.680 emergency\n",
       "59 28088     697.0800 386.500 specialty\n",
       "60 34719     176.0300  76.990 emergency\n",
       "61 28440     415.0800 214.570 emergency\n",
       "62  9072      97.0400  43.040 emergency\n",
       "63 85702     326.8400 168.310 emergency\n",
       "64 34413      29.8000  15.340 emergency\n",
       "65 91230     703.7700 408.070 emergency\n",
       "66 88698      29.5400  10.350 specialty\n",
       "67 17731     719.5000 404.380 specialty"
      ]
     },
     "metadata": {},
     "output_type": "display_data"
    }
   ],
   "source": [
    "products %>%\n",
    "    mutate(price = if_else(price < 0, mean(price), price),\n",
    "           cost = if_else(cost < 0, mean(cost), cost))"
   ]
  },
  {
   "cell_type": "markdown",
   "metadata": {
    "slideshow": {
     "slide_type": "subslide"
    }
   },
   "source": [
    "#### 3<sup>rd</sup> class deficiencies\n",
    "\n",
    "Semantic deficiencies that can only be manually identified and resolved.\n",
    "- Errors in the data set that can only be identified by domain experts\n",
    "\n",
    "→ Prompt correction of the deficiencies can be supported by software tools (Workflow-Management-Systems)"
   ]
  },
  {
   "cell_type": "markdown",
   "metadata": {
    "slideshow": {
     "slide_type": "subslide"
    }
   },
   "source": [
    "#### *Up to you - 3<sup>rd</sup> class deficiencies*\n",
    "\n",
    "1. Find the semantic 3<sup>rd</sup> class deficiencies in the customer data\n",
    "    - `customer`: Take a closer look at the countries"
   ]
  },
  {
   "cell_type": "code",
   "execution_count": 51,
   "metadata": {},
   "outputs": [
    {
     "data": {
      "text/html": [
       "<table>\n",
       "<caption>A tibble: 3 × 1</caption>\n",
       "<thead>\n",
       "\t<tr><th scope=col>country</th></tr>\n",
       "\t<tr><th scope=col>&lt;chr&gt;</th></tr>\n",
       "</thead>\n",
       "<tbody>\n",
       "\t<tr><td>uk  </td></tr>\n",
       "\t<tr><td>ger </td></tr>\n",
       "\t<tr><td>moon</td></tr>\n",
       "</tbody>\n",
       "</table>\n"
      ],
      "text/latex": [
       "A tibble: 3 × 1\n",
       "\\begin{tabular}{r|l}\n",
       " country\\\\\n",
       " <chr>\\\\\n",
       "\\hline\n",
       "\t uk  \\\\\n",
       "\t ger \\\\\n",
       "\t moon\\\\\n",
       "\\end{tabular}\n"
      ],
      "text/markdown": [
       "\n",
       "A tibble: 3 × 1\n",
       "\n",
       "| country &lt;chr&gt; |\n",
       "|---|\n",
       "| uk   |\n",
       "| ger  |\n",
       "| moon |\n",
       "\n"
      ],
      "text/plain": [
       "  country\n",
       "1 uk     \n",
       "2 ger    \n",
       "3 moon   "
      ]
     },
     "metadata": {},
     "output_type": "display_data"
    }
   ],
   "source": [
    "customers %>%\n",
    "    distinct(country)"
   ]
  },
  {
   "cell_type": "markdown",
   "metadata": {
    "slideshow": {
     "slide_type": "subslide"
    }
   },
   "source": [
    "#### *Up to you - 3<sup>rd</sup> class deficiencies*\n",
    "\n",
    "2. Resolve the deficiencies"
   ]
  },
  {
   "cell_type": "code",
   "execution_count": 52,
   "metadata": {},
   "outputs": [],
   "source": [
    "customers %>%\n",
    "    filter(country != 'moon') -> customers_filtered"
   ]
  },
  {
   "cell_type": "markdown",
   "metadata": {
    "slideshow": {
     "slide_type": "subslide"
    }
   },
   "source": [
    "### 3.2 Data Harmonization"
   ]
  },
  {
   "cell_type": "markdown",
   "metadata": {
    "slideshow": {
     "slide_type": "-"
    }
   },
   "source": [
    "#### Solving Schema Heterogeneity\n",
    "\n",
    "Schemas are created by different people whose states and styles are different\n",
    "- Same concept, but different names for tables and attributes\n",
    "    - rating vs classification\n",
    "- Multiple attributes in first schema relate to a single attribute in the other\n",
    "    - basePrice and taxRate relate to price\n",
    "- Tabular organization of schemas can be quite different\n",
    "    - One table in DB1 vs three tables in DB2\n",
    "- Coverage and level of details can also differ significantly\n",
    "    - Daily sales data vs. monthly sales data\n",
    "    - High-level information (movie name, playtime) vs. detailed meta data (director, genre, rating)\n"
   ]
  },
  {
   "cell_type": "markdown",
   "metadata": {
    "slideshow": {
     "slide_type": "subslide"
    }
   },
   "source": [
    "#### *Up to you - Data Harmonization*\n",
    "\n",
    "1. Find and harmonize schema heterogeneity in transaction data sets\n",
    "    - Look at the attribute names\n",
    "    - Adjust the transactions_ger to the schema of transactions_eng"
   ]
  },
  {
   "cell_type": "code",
   "execution_count": 59,
   "metadata": {},
   "outputs": [
    {
     "data": {
      "text/html": [
       "<ol class=list-inline>\n",
       "\t<li>'date'</li>\n",
       "\t<li>'customerID'</li>\n",
       "\t<li>'productID'</li>\n",
       "\t<li>'payment'</li>\n",
       "\t<li>'amount'</li>\n",
       "</ol>\n"
      ],
      "text/latex": [
       "\\begin{enumerate*}\n",
       "\\item 'date'\n",
       "\\item 'customerID'\n",
       "\\item 'productID'\n",
       "\\item 'payment'\n",
       "\\item 'amount'\n",
       "\\end{enumerate*}\n"
      ],
      "text/markdown": [
       "1. 'date'\n",
       "2. 'customerID'\n",
       "3. 'productID'\n",
       "4. 'payment'\n",
       "5. 'amount'\n",
       "\n",
       "\n"
      ],
      "text/plain": [
       "[1] \"date\"       \"customerID\" \"productID\"  \"payment\"    \"amount\"    "
      ]
     },
     "metadata": {},
     "output_type": "display_data"
    },
    {
     "data": {
      "text/html": [
       "<ol class=list-inline>\n",
       "\t<li>'date'</li>\n",
       "\t<li>'customerID'</li>\n",
       "\t<li>'productID'</li>\n",
       "\t<li>'payment'</li>\n",
       "\t<li>'amount'</li>\n",
       "</ol>\n"
      ],
      "text/latex": [
       "\\begin{enumerate*}\n",
       "\\item 'date'\n",
       "\\item 'customerID'\n",
       "\\item 'productID'\n",
       "\\item 'payment'\n",
       "\\item 'amount'\n",
       "\\end{enumerate*}\n"
      ],
      "text/markdown": [
       "1. 'date'\n",
       "2. 'customerID'\n",
       "3. 'productID'\n",
       "4. 'payment'\n",
       "5. 'amount'\n",
       "\n",
       "\n"
      ],
      "text/plain": [
       "[1] \"date\"       \"customerID\" \"productID\"  \"payment\"    \"amount\"    "
      ]
     },
     "metadata": {},
     "output_type": "display_data"
    }
   ],
   "source": [
    "colnames(transactions_ger)\n",
    "colnames(transactions_eng)\n",
    "\n",
    "colnames(transactions_ger) <- colnames(transactions_eng)"
   ]
  },
  {
   "cell_type": "markdown",
   "metadata": {
    "slideshow": {
     "slide_type": "subslide"
    }
   },
   "source": [
    "#### Solving Data-level  Heterogeneity\n",
    "Data coming from different sources rarely joins perfectly\n",
    "\n",
    "Typical reasons include\n",
    "- Differently coded data\n",
    "    - identical attribute names and identical meanings but different domains or value ranges (e.g., gender coded as “m / f” or “male / female”)\n",
    "- Synonyms\n",
    "    - Attributes that have different names but the same meaning and domain (e.g., “client” or “customer”)\n",
    "- Homonyms: \n",
    "    - Attributes have the same attribute names, but have different meanings (e.g., “partner” = “customer” or “partner” = “supplier”)"
   ]
  },
  {
   "cell_type": "markdown",
   "metadata": {
    "slideshow": {
     "slide_type": "subslide"
    }
   },
   "source": [
    "#### *Up to you - Data Harmonization*\n",
    "\n",
    "2. Find and harmonize data-level heterogeneity in the customer data sets\n",
    "    - Take a closer look to the variables names as well as the variable values\n",
    "    - Adjust the `customers_usa` to the schema of `customers`"
   ]
  },
  {
   "cell_type": "code",
   "execution_count": null,
   "metadata": {},
   "outputs": [],
   "source": []
  },
  {
   "cell_type": "markdown",
   "metadata": {
    "slideshow": {
     "slide_type": "subslide"
    }
   },
   "source": [
    "### 3.3 Data Combination\n",
    "\n",
    "Combine the harmonized data sets into an appropriate format/structure for further analysis."
   ]
  },
  {
   "cell_type": "markdown",
   "metadata": {
    "slideshow": {
     "slide_type": "subslide"
    }
   },
   "source": [
    "#### *Up to you - Combine the data* \n",
    "\n",
    "1. Combine the harmonised data sets\n",
    "    - Create three new data sets: `customers`, `transactions`, `products`\n",
    "    - Use *bind_rows()* for binding multiple data frames by row"
   ]
  },
  {
   "cell_type": "code",
   "execution_count": null,
   "metadata": {},
   "outputs": [],
   "source": []
  },
  {
   "cell_type": "markdown",
   "metadata": {
    "slideshow": {
     "slide_type": "subslide"
    }
   },
   "source": [
    "#### *Up to you - Combine the data* \n",
    "\n",
    "2. Join the three data sets into one data final data frame"
   ]
  },
  {
   "cell_type": "code",
   "execution_count": null,
   "metadata": {},
   "outputs": [],
   "source": []
  },
  {
   "cell_type": "markdown",
   "metadata": {
    "slideshow": {
     "slide_type": "subslide"
    }
   },
   "source": [
    "### 3.4 Enrich the data\n",
    "\n",
    "- Business key figures are calculated and integrated into the data basis as separate attributes\n",
    "- Example: Calculation of weekly contribution margins at product level and annual contribution margins at store level\n",
    "- Advantages\n",
    "    - Calculable response time behavior for later queries based on the advance calculation\n",
    "    - Guaranteed consistency of the calculated values, since they are only formed once across all applications\n",
    "    - Establishment of coordinated business management instruments"
   ]
  },
  {
   "cell_type": "markdown",
   "metadata": {
    "slideshow": {
     "slide_type": "subslide"
    }
   },
   "source": [
    "#### *Up to you - Enrich the data* \n",
    "\n",
    "2. Create two new variables:\n",
    "    - revenue per transaction\n",
    "    - profit per transaction"
   ]
  },
  {
   "cell_type": "code",
   "execution_count": null,
   "metadata": {},
   "outputs": [],
   "source": []
  },
  {
   "cell_type": "markdown",
   "metadata": {
    "slideshow": {
     "slide_type": "slide"
    }
   },
   "source": [
    "## 4 Data Loading"
   ]
  },
  {
   "cell_type": "markdown",
   "metadata": {
    "slideshow": {
     "slide_type": "subslide"
    }
   },
   "source": [
    "__Data loading__ describes the insertion of data into the final target database such as an operational data store, a data mart, or a data warehouse (e.g., AWS Redshift or Apache Hive)\n",
    "\n",
    "- A database is an organized collection of data\n",
    "    - typically cleaned and structured data\n",
    "- The data is stored \n",
    "- Database management system (DBMS)\n",
    "    - allows to store, modify, and extract information from a database MySQL, ORACLE, MS SQL, DB2, MS ACCESS, Informix\n",
    "- RDBMS stands for Relational Database Management System\n",
    "    - data is stored in database objects called tables\n",
    "    - tables can be joined through keys and indexes\n",
    "- SQL is used to work with DBMS"
   ]
  },
  {
   "cell_type": "markdown",
   "metadata": {
    "slideshow": {
     "slide_type": "subslide"
    }
   },
   "source": [
    "__What is SQL?__\n",
    "\n",
    "- A standard language for accessing and manipulating data in databases\n",
    "    - SQL stands for Structured Query Language\n",
    "    - allows retrieving and manipulating data as well as administrative operations\n",
    "\n",
    "- A typical SQL command\n",
    "```SQL\n",
    "\tSELECT <column names separated by comma>\n",
    "    FROM <database table>\n",
    "\tWHERE <condition>\n",
    "    GROUP BY <column name>\n",
    "    ORDER BY <column name>\n",
    "```"
   ]
  },
  {
   "cell_type": "markdown",
   "metadata": {
    "slideshow": {
     "slide_type": "subslide"
    }
   },
   "source": [
    "__Using differnte query languages in R__\n",
    "\n",
    "- The *DBI* (Database Interface) package allows communication between R and relational database management systems\n",
    "    - Using a DBI-compliant interface, the *RSQLite* embeds the SQLite database engine in R\n",
    "    - SQLite is a public-domain, single-user, very light-weight database engine that implements a decent subset of the SQL 92 standard,\n",
    "- The packages *dbplyr* (part of the *tidyverse*) is designed to work with database tables as if they were local data frames\n",
    "\n",
    "\n",
    "<img src=\"https://github.com/matjesg/AIS_2019/raw/master/notebooks/images/01/aris.png\" style=\"width:30%\">"
   ]
  },
  {
   "cell_type": "markdown",
   "metadata": {
    "slideshow": {
     "slide_type": "subslide"
    }
   },
   "source": [
    "We’ll first create an in-memory SQLite database"
   ]
  },
  {
   "cell_type": "code",
   "execution_count": null,
   "metadata": {},
   "outputs": [],
   "source": [
    "con <- DBI::dbConnect(RSQLite::SQLite(), \":memory:\")"
   ]
  },
  {
   "cell_type": "markdown",
   "metadata": {
    "slideshow": {
     "slide_type": "fragment"
    }
   },
   "source": [
    "and copy over our dataset"
   ]
  },
  {
   "cell_type": "code",
   "execution_count": null,
   "metadata": {},
   "outputs": [],
   "source": [
    "copy_to(con, data_enriched)"
   ]
  },
  {
   "cell_type": "markdown",
   "metadata": {
    "slideshow": {
     "slide_type": "subslide"
    }
   },
   "source": [
    "Now you can retrieve a table using `tbl()` . Printing it just retrieves the first few rows:"
   ]
  },
  {
   "cell_type": "code",
   "execution_count": null,
   "metadata": {},
   "outputs": [],
   "source": [
    "db <- tbl(con, \"data_enriched\")\n",
    "db"
   ]
  },
  {
   "cell_type": "markdown",
   "metadata": {
    "slideshow": {
     "slide_type": "subslide"
    }
   },
   "source": [
    "- (Lazily) generate query"
   ]
  },
  {
   "cell_type": "code",
   "execution_count": null,
   "metadata": {},
   "outputs": [],
   "source": [
    "db %>%\n",
    "    filter(payment == 'cash') %>%\n",
    "    summarise(MeanAmount = mean(amount, na.rm = TRUE)) -> summary"
   ]
  },
  {
   "cell_type": "markdown",
   "metadata": {
    "slideshow": {
     "slide_type": "fragment"
    }
   },
   "source": [
    "- See query"
   ]
  },
  {
   "cell_type": "code",
   "execution_count": null,
   "metadata": {},
   "outputs": [],
   "source": [
    "summary %>% show_query()"
   ]
  },
  {
   "cell_type": "markdown",
   "metadata": {
    "slideshow": {
     "slide_type": "fragment"
    }
   },
   "source": [
    "- Execute query and retrieve results"
   ]
  },
  {
   "cell_type": "code",
   "execution_count": null,
   "metadata": {},
   "outputs": [],
   "source": [
    "summary %>% collect()"
   ]
  },
  {
   "cell_type": "markdown",
   "metadata": {
    "slideshow": {
     "slide_type": "subslide"
    }
   },
   "source": [
    "__*Up to you - Analyze the data*__\n",
    "\n",
    "How much profit did the company realize in 2017?"
   ]
  },
  {
   "cell_type": "code",
   "execution_count": null,
   "metadata": {},
   "outputs": [],
   "source": []
  },
  {
   "cell_type": "code",
   "execution_count": null,
   "metadata": {},
   "outputs": [],
   "source": []
  },
  {
   "cell_type": "code",
   "execution_count": null,
   "metadata": {},
   "outputs": [],
   "source": []
  },
  {
   "cell_type": "markdown",
   "metadata": {
    "scrolled": true,
    "slideshow": {
     "slide_type": "slide"
    }
   },
   "source": [
    "## 5 Exam Questions"
   ]
  },
  {
   "cell_type": "markdown",
   "metadata": {
    "slideshow": {
     "slide_type": "subslide"
    }
   },
   "source": [
    "### 5.1 Exam AIS SS 2018, Question 1\n",
    "\n",
    "__Data Engineering & Integration (10 points)__"
   ]
  },
  {
   "cell_type": "markdown",
   "metadata": {
    "slideshow": {
     "slide_type": "fragment"
    }
   },
   "source": [
    "(a) __Getting orders in order__: You are working for a major online retailer who is interested in optimizing internal logistics processes. A key problem in this context is the handling of orders with a single line item vs. orders with multiple line items.\n",
    "\n",
    "The cornerstone of your analysis is an orders table with the following structure:\n",
    "\n",
    "| productID | quantity | orderID |\n",
    "|-----------|----------|---------|\n",
    "| ...       | ...      | ...     |\n",
    "\n",
    "i. (1 points) Explain (verbally or in pseudo code) how you would identify the number of orders with a single line item from this data base."
   ]
  },
  {
   "cell_type": "code",
   "execution_count": null,
   "metadata": {},
   "outputs": [],
   "source": []
  },
  {
   "cell_type": "markdown",
   "metadata": {
    "slideshow": {
     "slide_type": "subslide"
    }
   },
   "source": [
    "i. (2 points) The frontend reporting tool used by the logistics department cannot handle data sets with more than 1 million rows. Yet your order table has many more rows. Recognizing that individual product IDs are not crucial for the logistics process analysis (handling times are determined by the number of products in an order) you are approached to provide a \\textit{compact representation which retains the structure (number of line items) of the order invoices}. Explain how this can be achieved by means of clever aggregation."
   ]
  },
  {
   "cell_type": "code",
   "execution_count": null,
   "metadata": {},
   "outputs": [],
   "source": []
  },
  {
   "cell_type": "markdown",
   "metadata": {
    "slideshow": {
     "slide_type": "subslide"
    }
   },
   "source": [
    "(b) (3 Points) __Here comes the sun__: You are working for a local crime investigation unit and your current assignment involves a series of burglary cases. The head of the investigation wants to know which share of the of the break-ins took place during night-time (i.e., between sunset and sunrise). You are provided with a table of the time and date for the burglary events as well as a table of sunrise and sunset times for all dates in the time period under consideration. Provide an analytic pipeline (verbally or in pseudo code) to answer this question.\n",
    "\n",
    "| date | time | crimeID |\n",
    "|------|------|---------|\n",
    "| ...  | ...  | ...     |\n",
    "\n",
    "| date | sunriseTime | sunsetTime |\n",
    "|------|-------------|------------|\n",
    "| ...  | ...         | ...        |"
   ]
  },
  {
   "cell_type": "code",
   "execution_count": null,
   "metadata": {},
   "outputs": [],
   "source": []
  },
  {
   "cell_type": "markdown",
   "metadata": {
    "slideshow": {
     "slide_type": "subslide"
    }
   },
   "source": [
    "(c) (2 points) __Difficulties__ of data integration arise from different perspectives. Discuss the systems-level as well as social reasons which render data integration a hard task."
   ]
  },
  {
   "cell_type": "code",
   "execution_count": null,
   "metadata": {},
   "outputs": [],
   "source": []
  },
  {
   "cell_type": "markdown",
   "metadata": {
    "slideshow": {
     "slide_type": "subslide"
    }
   },
   "source": [
    "(d) (2 points) __Scalability__ of naively executed string matching operations is problematic for large data sets. Explain why. What is a typical workaround?"
   ]
  },
  {
   "cell_type": "code",
   "execution_count": null,
   "metadata": {},
   "outputs": [],
   "source": []
  }
 ],
 "metadata": {
  "kernelspec": {
   "display_name": "R",
   "language": "R",
   "name": "ir"
  },
  "language_info": {
   "codemirror_mode": "r",
   "file_extension": ".r",
   "mimetype": "text/x-r-source",
   "name": "R",
   "pygments_lexer": "r",
   "version": "3.6.0"
  },
  "rise": {
   "enable_chalkboard": false,
   "overlay": "<div class='logo'><img src='images/uniwue4c.png'></div>",
   "scroll": true
  },
  "toc": {
   "base_numbering": 1,
   "nav_menu": {},
   "number_sections": false,
   "sideBar": true,
   "skip_h1_title": true,
   "title_cell": "Agenda",
   "title_sidebar": "Contents",
   "toc_cell": true,
   "toc_position": {},
   "toc_section_display": true,
   "toc_window_display": false
  }
 },
 "nbformat": 4,
 "nbformat_minor": 2
}
