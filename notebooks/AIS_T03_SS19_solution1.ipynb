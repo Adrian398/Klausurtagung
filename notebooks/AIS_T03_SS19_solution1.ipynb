{
 "cells": [
  {
   "cell_type": "markdown",
   "metadata": {
    "cell_style": "center",
    "slideshow": {
     "slide_type": "slide"
    }
   },
   "source": [
    "*Analytical Information Systems*\n",
    "\n",
    "# Tutorial 3 - Descriptive Analytics\n",
    "\n",
    "Matthias Griebel<br>\n",
    "Lehrstuhl für Wirtschaftsinformatik und Informationsmanagement\n",
    "\n",
    "SS 2019"
   ]
  },
  {
   "cell_type": "markdown",
   "metadata": {
    "slideshow": {
     "slide_type": "subslide"
    }
   },
   "source": [
    "__Data Warehousing Analytics__\n",
    "\n",
    "<img src=\"images/03/BIStack_fe.png\" style=\"width:100%\">"
   ]
  },
  {
   "cell_type": "markdown",
   "metadata": {
    "cell_style": "split",
    "slideshow": {
     "slide_type": "subslide"
    }
   },
   "source": [
    "__Exploratory Data Analysis__\n",
    "\n",
    "The objectives of EDA\n",
    "- Suggest hypotheses\n",
    "- Assess assumptions\n",
    "- Support the selection of appropriate statistical techniques\n",
    "- Provide a basis for further data collection"
   ]
  },
  {
   "cell_type": "markdown",
   "metadata": {
    "cell_style": "split"
   },
   "source": [
    "<img src=\"images/03/EDA.png\" style=\"width:100%\">"
   ]
  },
  {
   "cell_type": "markdown",
   "metadata": {
    "slideshow": {
     "slide_type": "subslide"
    },
    "toc": true
   },
   "source": [
    "<h1>Agenda<span class=\"tocSkip\"></span></h1>\n",
    "<div class=\"toc\"><ul class=\"toc-item\"><li><span><a href=\"#Descriptive-Statistics\" data-toc-modified-id=\"Descriptive-Statistics-1\"><span class=\"toc-item-num\">1&nbsp;&nbsp;</span>Descriptive Statistics</a></span><ul class=\"toc-item\"><li><span><a href=\"#Scales-of-Measurement\" data-toc-modified-id=\"Scales-of-Measurement-1.1\"><span class=\"toc-item-num\">1.1&nbsp;&nbsp;</span>Scales of Measurement</a></span></li><li><span><a href=\"#Summary-Descriptive-Statistics\" data-toc-modified-id=\"Summary-Descriptive-Statistics-1.2\"><span class=\"toc-item-num\">1.2&nbsp;&nbsp;</span>Summary Descriptive Statistics</a></span></li></ul></li><li><span><a href=\"#Data-Visualization\" data-toc-modified-id=\"Data-Visualization-2\"><span class=\"toc-item-num\">2&nbsp;&nbsp;</span>Data Visualization</a></span><ul class=\"toc-item\"><li><span><a href=\"#Data-Visualization-with-ggplot2\" data-toc-modified-id=\"Data-Visualization-with-ggplot2-2.1\"><span class=\"toc-item-num\">2.1&nbsp;&nbsp;</span>Data Visualization with ggplot2</a></span></li><li><span><a href=\"#Comparison\" data-toc-modified-id=\"Comparison-2.2\"><span class=\"toc-item-num\">2.2&nbsp;&nbsp;</span>Comparison</a></span></li><li><span><a href=\"#Composition\" data-toc-modified-id=\"Composition-2.3\"><span class=\"toc-item-num\">2.3&nbsp;&nbsp;</span>Composition</a></span></li><li><span><a href=\"#Distributions\" data-toc-modified-id=\"Distributions-2.4\"><span class=\"toc-item-num\">2.4&nbsp;&nbsp;</span>Distributions</a></span></li><li><span><a href=\"#Relationships\" data-toc-modified-id=\"Relationships-2.5\"><span class=\"toc-item-num\">2.5&nbsp;&nbsp;</span>Relationships</a></span></li><li><span><a href=\"#Coloring\" data-toc-modified-id=\"Coloring-2.6\"><span class=\"toc-item-num\">2.6&nbsp;&nbsp;</span>Coloring</a></span></li><li><span><a href=\"#Faceting\" data-toc-modified-id=\"Faceting-2.7\"><span class=\"toc-item-num\">2.7&nbsp;&nbsp;</span>Faceting</a></span></li><li><span><a href=\"#Graphical-Excellence\" data-toc-modified-id=\"Graphical-Excellence-2.8\"><span class=\"toc-item-num\">2.8&nbsp;&nbsp;</span>Graphical Excellence</a></span></li></ul></li><li><span><a href=\"#Exam-Questions\" data-toc-modified-id=\"Exam-Questions-3\"><span class=\"toc-item-num\">3&nbsp;&nbsp;</span>Exam Questions</a></span><ul class=\"toc-item\"><li><span><a href=\"#Exam-AIS-WS-2018/19\" data-toc-modified-id=\"Exam-AIS-WS-2018/19-3.1\"><span class=\"toc-item-num\">3.1&nbsp;&nbsp;</span>Exam AIS WS 2018/19</a></span></li><li><span><a href=\"#Exam-SS-2018\" data-toc-modified-id=\"Exam-SS-2018-3.2\"><span class=\"toc-item-num\">3.2&nbsp;&nbsp;</span>Exam SS 2018</a></span></li></ul></li></ul></div>"
   ]
  },
  {
   "cell_type": "markdown",
   "metadata": {
    "slideshow": {
     "slide_type": "subslide"
    }
   },
   "source": [
    "## Descriptive Statistics"
   ]
  },
  {
   "cell_type": "markdown",
   "metadata": {
    "cell_style": "split",
    "slideshow": {
     "slide_type": "subslide"
    }
   },
   "source": [
    "### Scales of Measurement\n",
    "\n",
    "Categorical (Qualitative) Data\n",
    "- Nominal Scale: Identity or category\n",
    "- Ordinal Scale: Order or rank\n",
    "\n",
    "Quantitative Data (numeric)\n",
    "- Interval Scale: Order and quantity: Differences can be calculated\n",
    "- Ratio Scale: Interval scale with an absolute zero"
   ]
  },
  {
   "cell_type": "markdown",
   "metadata": {
    "cell_style": "split"
   },
   "source": [
    "<img src=\"images/03/data-categories.png\" style=\"width:100%\">"
   ]
  },
  {
   "cell_type": "markdown",
   "metadata": {
    "slideshow": {
     "slide_type": "subslide"
    }
   },
   "source": [
    "__The diamonds dataset__\n",
    "\n",
    "The diamonds dataset comes with the package `ggplot2` and contains information about ~54,000 diamonds, including the `price`, `carat`, `color`, `clarity`, and `cut` of each diamond."
   ]
  },
  {
   "cell_type": "markdown",
   "metadata": {
    "slideshow": {
     "slide_type": "fragment"
    }
   },
   "source": [
    "Let's have a look at the data. What are the scales of the variables?"
   ]
  },
  {
   "cell_type": "code",
   "execution_count": null,
   "metadata": {},
   "outputs": [],
   "source": [
    "library(tidyverse)\n",
    "diamonds %>% head()\n",
    "?diamonds"
   ]
  },
  {
   "cell_type": "markdown",
   "metadata": {
    "slideshow": {
     "slide_type": "subslide"
    }
   },
   "source": [
    "### Summary Descriptive Statistics"
   ]
  },
  {
   "cell_type": "markdown",
   "metadata": {
    "cell_style": "center",
    "slideshow": {
     "slide_type": "-"
    }
   },
   "source": [
    "In the lecture, we talked about:\n",
    "\n",
    "- __Central tendency:__ What are the most typical values?\n",
    "    - mean, median, mode\n",
    "\n",
    "- __Variability:__ How do the values vary?\n",
    "    - Range\n",
    "    - Percentiles\n",
    "    - Standard Deviation\n",
    "    - Coefficient of variation\n",
    "\n",
    "- __Shape:__ Are the values symmetrically or asymmetrically distributed?\n",
    "    - skewness: symmetry \n",
    "    - kurtosis: how peaky is the distribution"
   ]
  },
  {
   "cell_type": "markdown",
   "metadata": {
    "cell_style": "center",
    "slideshow": {
     "slide_type": "subslide"
    }
   },
   "source": [
    "__Central tendency, variability, and shape__\n",
    "\n",
    "<img src=\"https://upload.wikimedia.org/wikipedia/commons/thumb/d/de/Comparison_mean_median_mode.svg/1280px-Comparison_mean_median_mode.svg.png\" style=\"width:60%\">\n",
    "\n",
    "from *[Wikipedia](https://en.wikipedia.org/wiki/Skewness)*"
   ]
  },
  {
   "cell_type": "markdown",
   "metadata": {
    "cell_style": "center",
    "slideshow": {
     "slide_type": "subslide"
    }
   },
   "source": [
    "__Skewness__ \n",
    "- negative skew: The left tail is longer (left-skewed, left-tailed)\n",
    "    - mass of the distribution is concentrated on the right of the figure.\n",
    "- positive skew: The right tail is longer (right-skewed, right-tailed)\n",
    "    - mass of the distribution is concentrated on the left of the figure.\n",
    "\n",
    "*from [Wikipedia](https://en.wikipedia.org/wiki/Skewness)*"
   ]
  },
  {
   "cell_type": "markdown",
   "metadata": {
    "slideshow": {
     "slide_type": "subslide"
    }
   },
   "source": [
    "__Kurtosis__\n",
    "\n",
    "Measure of the \"tailedness\" of the probability distribution"
   ]
  },
  {
   "cell_type": "markdown",
   "metadata": {
    "cell_style": "split",
    "slideshow": {
     "slide_type": "-"
    }
   },
   "source": [
    "Excess kurtosis is defined as kurtosis minus 3\n",
    "- Mesokurtic (excess = 0): normal distribution family, regardless of the values of its parameters\n",
    "- Leptokurtic (excess > 0): distribution has fatter tails and a pointed peak\n",
    "- Platykurtic (excess < 0): distribution has thinner tails a flat peak\n",
    "\n",
    "*from [Wikipedia](https://en.wikipedia.org/wiki/Kurtosis)*"
   ]
  },
  {
   "cell_type": "markdown",
   "metadata": {
    "cell_style": "split"
   },
   "source": [
    "<img src=\"https://upload.wikimedia.org/wikipedia/commons/e/e6/Standard_symmetric_pdfs.png\">"
   ]
  },
  {
   "cell_type": "markdown",
   "metadata": {
    "slideshow": {
     "slide_type": "subslide"
    }
   },
   "source": [
    "___Up to you:  Statistical Measures___\n",
    "\n",
    "(a) On the diamond data set, calculate statistical measures to describe the central tendency, variability and the shape of the `price`:"
   ]
  },
  {
   "cell_type": "code",
   "execution_count": null,
   "metadata": {
    "slideshow": {
     "slide_type": "subslide"
    }
   },
   "outputs": [],
   "source": [
    "diamonds %>%\n",
    "    summarise(Mean = mean(price),\n",
    "             Sd = sd(price),\n",
    "             Skew = psych::skew(price),\n",
    "            Kurt = psych::kurtosi(price))\n",
    "\n",
    "summary(diamonds$price)"
   ]
  },
  {
   "cell_type": "markdown",
   "metadata": {
    "slideshow": {
     "slide_type": "subslide"
    }
   },
   "source": [
    "We can also use the `psych::describe()` function to calculate the statistical measures as it provides more descriptive statistics than base R."
   ]
  },
  {
   "cell_type": "code",
   "execution_count": null,
   "metadata": {
    "cell_style": "center",
    "slideshow": {
     "slide_type": "-"
    }
   },
   "outputs": [],
   "source": [
    "psych::describe(diamonds$price)"
   ]
  },
  {
   "cell_type": "markdown",
   "metadata": {
    "slideshow": {
     "slide_type": "subslide"
    }
   },
   "source": [
    "Visualization often facilitates understanding of the data and its distribution. \n",
    "\n",
    "*(We will learn more about data visualization in the next section.)*"
   ]
  },
  {
   "cell_type": "code",
   "execution_count": null,
   "metadata": {},
   "outputs": [],
   "source": [
    "options(repr.plot.width=7, repr.plot.height=5)\n",
    "diamonds %>% ggplot() + \n",
    "    geom_density(aes(x=scale(price))) +\n",
    "    stat_function(n = 100, fun = dnorm, linetype='dotted') +\n",
    "    theme_minimal() +\n",
    "    xlim(-5,5)"
   ]
  },
  {
   "cell_type": "markdown",
   "metadata": {
    "slideshow": {
     "slide_type": "subslide"
    }
   },
   "source": [
    "___Up to you:  Statistical Measures___\n",
    "\n",
    "We calculated statistical measures to get a grasp understanding of the diamond prices. Now, we want to get a deeper insight."
   ]
  },
  {
   "cell_type": "markdown",
   "metadata": {
    "slideshow": {
     "slide_type": "fragment"
    }
   },
   "source": [
    "(b) Describe the central tendency, variability and the shape of the prices depending on the quality (`cut`) and `color`."
   ]
  },
  {
   "cell_type": "code",
   "execution_count": null,
   "metadata": {
    "scrolled": true
   },
   "outputs": [],
   "source": [
    "diamonds %>%\n",
    "    group_by(cut, color) %>%\n",
    "    summarise(Mean = mean(price),\n",
    "             Sd = sd(price),\n",
    "             Skew = psych::skew(price),\n",
    "             Kurt = psych::kurtosi(price))"
   ]
  },
  {
   "cell_type": "markdown",
   "metadata": {
    "slideshow": {
     "slide_type": "subslide"
    }
   },
   "source": [
    "___Up to you:  Statistical Measures___\n",
    "\n",
    "(c) How many diamonds belong to each of the groups (`cut` and `color` combinations)? What is the cheapest and the most expensive price within each group?"
   ]
  },
  {
   "cell_type": "code",
   "execution_count": null,
   "metadata": {
    "scrolled": true
   },
   "outputs": [],
   "source": [
    "diamonds %>%\n",
    "    group_by(cut, color) %>%\n",
    "    summarise(n(), \n",
    "             max(price), \n",
    "             min(price))"
   ]
  },
  {
   "cell_type": "markdown",
   "metadata": {
    "slideshow": {
     "slide_type": "subslide"
    }
   },
   "source": [
    "___Up to you:  Statistical Measures___\n",
    "\n",
    "Let's take a closer look at the other variables in the data set."
   ]
  },
  {
   "cell_type": "markdown",
   "metadata": {
    "slideshow": {
     "slide_type": "fragment"
    }
   },
   "source": [
    "(d) What is the average volume of the diamonds, depending on the qualtity (`cut`)?"
   ]
  },
  {
   "cell_type": "code",
   "execution_count": null,
   "metadata": {},
   "outputs": [],
   "source": [
    "diamonds %>%\n",
    "    mutate(Volume = x*y*z) %>%\n",
    "    group_by(cut) %>%\n",
    "    summarise(mean(Volume))"
   ]
  },
  {
   "cell_type": "markdown",
   "metadata": {
    "slideshow": {
     "slide_type": "subslide"
    }
   },
   "source": [
    "___Up to you:  Statistical Measures___\n",
    "\n",
    "(e) What are the average values of all (numeric) columns?"
   ]
  },
  {
   "cell_type": "code",
   "execution_count": null,
   "metadata": {},
   "outputs": [],
   "source": [
    "diamonds %>%\n",
    "    summarise_if(is.numeric, mean)\n",
    "\n",
    "diamonds %>%\n",
    "    summarise_all(mean)"
   ]
  },
  {
   "cell_type": "markdown",
   "metadata": {
    "slideshow": {
     "slide_type": "slide"
    }
   },
   "source": [
    "## Data Visualization"
   ]
  },
  {
   "cell_type": "markdown",
   "metadata": {
    "cell_style": "split",
    "slideshow": {
     "slide_type": "subslide"
    }
   },
   "source": [
    "Parts of this chapter are based on the book \"R for Data Science\" by Garrett Grolemund and Hadley Wickham\n",
    "\n",
    "- Chapter 3: [Data Visualisation](https://r4ds.had.co.nz/data-visualisation.html)\n",
    "- Chapter 7: [Exploratory Data Analysis](https://r4ds.had.co.nz/exploratory-data-analysis.html)"
   ]
  },
  {
   "cell_type": "markdown",
   "metadata": {
    "cell_style": "split"
   },
   "source": [
    "<img src=\"https://d33wubrfki0l68.cloudfront.net/b88ef926a004b0fce72b2526b0b5c4413666a4cb/24a30/cover.png\">"
   ]
  },
  {
   "cell_type": "markdown",
   "metadata": {
    "slideshow": {
     "slide_type": "subslide"
    }
   },
   "source": [
    "__Why use Data Visualization?__\n",
    "\n",
    "The depiction of information using spatial or graphical representations, to facilitate comparison, pattern recognition, change detection, and other cognitive skills by making use of the visual system.\n",
    "\n",
    "- Problem \n",
    "    - Big datasets: How to understand them?\n",
    "- Solution\n",
    "    - Take better advantage of human perceptual system\n",
    "    - Convert information into a graphical representation.\n",
    "- Issues\n",
    "    - How to convert abstract information into graphical form?\n",
    "    - Do visualizations do a better job than other methods?\n",
    "\n",
    "\n"
   ]
  },
  {
   "cell_type": "markdown",
   "metadata": {
    "cell_style": "split",
    "slideshow": {
     "slide_type": "subslide"
    }
   },
   "source": [
    "### Data Visualization with ggplot2\n",
    "\n",
    "The ggplot2 package lets you make beautiful and customizable plots of your data. \n",
    "- one of the core members of the tidyverse\n",
    "- based on the __grammar of graphics__, the idea that you can build every graph from the same components:\n",
    "    - a data set\n",
    "    - a coordinate system\n",
    "    - geoms - visual marks that represent data points\n",
    "\n",
    "[Cheatsheet](https://github.com/rstudio/cheatsheets/raw/master/data-visualization-2.1.pdf)"
   ]
  },
  {
   "cell_type": "markdown",
   "metadata": {
    "cell_style": "split"
   },
   "source": [
    "<img src=\"https://www.rstudio.com/wp-content/uploads/2018/08/data-visualization-2.1-600x464.png\">"
   ]
  },
  {
   "cell_type": "markdown",
   "metadata": {
    "slideshow": {
     "slide_type": "subslide"
    }
   },
   "source": [
    "A `ggplot2` graph consists of the following compenents.\n",
    "\n",
    "```R\n",
    "ggplot(data = <DATA> ) +\n",
    "    <GEOM_FUNCTION>(mapping=aes(<MAPPINGS>),stat=<STAT>,position=<POSITION>)+\n",
    "    (opt) <COORDINATE_FUNCTION> + \n",
    "    (opt) <FACET_FUNCTION> +\n",
    "    (opt) <SCALE_FUNCTION> + \n",
    "    (opt) <THEME_FUNCTION>\n",
    "``` \n",
    "\n",
    "Let's complete the template below to build a graph of the the relationship between `carat`and `price`in the `diamonds`data:"
   ]
  },
  {
   "cell_type": "code",
   "execution_count": null,
   "metadata": {
    "slideshow": {
     "slide_type": "fragment"
    }
   },
   "outputs": [],
   "source": [
    "options(repr.plot.width=7, repr.plot.height=5)\n",
    "ggplot(data = diamonds) +\n",
    "    geom_point(mapping = aes(x = carat, y = price)) + \n",
    "    theme_minimal()"
   ]
  },
  {
   "cell_type": "markdown",
   "metadata": {
    "cell_style": "center",
    "slideshow": {
     "slide_type": "subslide"
    }
   },
   "source": [
    "__Controlling plots in Jupyter notebooks__\n",
    "\n",
    "You can control the size and quality of plots. \n",
    "- Use `options(repr.* = ...)` and `getOption('repr.*')` to set and get them, respectively.\n",
    "- Example: adjust width and heigth\n",
    "```R\n",
    "options(repr.plot.width=7, repr.plot.height=7)\n",
    "```\n",
    "\n",
    "[Documentation](https://www.rdocumentation.org/packages/repr/versions/0.7/topics/repr-options)"
   ]
  },
  {
   "cell_type": "markdown",
   "metadata": {
    "cell_style": "center",
    "slideshow": {
     "slide_type": "subslide"
    }
   },
   "source": [
    "__Choosing Plots and Aesthetic Elements__\n",
    "\n",
    "<img src=\"images/03/taxonomy.png\" style=\"width:60%\">"
   ]
  },
  {
   "cell_type": "markdown",
   "metadata": {
    "slideshow": {
     "slide_type": "subslide"
    }
   },
   "source": [
    "### Comparison\n",
    "\n",
    "__Columns Charts__\n",
    "\n",
    "If you want the heights of the bars to represent values in the data, use `geom_col()`. "
   ]
  },
  {
   "cell_type": "code",
   "execution_count": null,
   "metadata": {},
   "outputs": [],
   "source": [
    "options(repr.plot.width=7, repr.plot.height=5)\n",
    "diamonds %>%\n",
    "    group_by(cut) %>%\n",
    "    summarise(avgprice = mean(price)) %>%\n",
    "    ggplot() + \n",
    "    geom_col(mapping = aes(x=cut, y =avgprice))"
   ]
  },
  {
   "cell_type": "markdown",
   "metadata": {
    "slideshow": {
     "slide_type": "subslide"
    }
   },
   "source": [
    "There's plenty of unused (uninformative) space in the chart, so let's change the width of th bars:"
   ]
  },
  {
   "cell_type": "code",
   "execution_count": null,
   "metadata": {},
   "outputs": [],
   "source": [
    "options(repr.plot.width=4, repr.plot.height=5)\n",
    "diamonds %>%\n",
    "    group_by(cut) %>%\n",
    "    summarise(avgprice = mean(price)) %>%\n",
    "    ggplot() + \n",
    "    geom_col(mapping = aes(x=cut, y =avgprice), width=0.2)"
   ]
  },
  {
   "cell_type": "markdown",
   "metadata": {
    "slideshow": {
     "slide_type": "subslide"
    }
   },
   "source": [
    "This chart contains the same information:"
   ]
  },
  {
   "cell_type": "code",
   "execution_count": null,
   "metadata": {},
   "outputs": [],
   "source": [
    "diamonds %>%\n",
    "    group_by(cut) %>%\n",
    "    summarise(avgprice = mean(price)) %>%\n",
    "    ggplot() + \n",
    "    geom_point(mapping = aes(x=cut, y =avgprice))"
   ]
  },
  {
   "cell_type": "markdown",
   "metadata": {
    "slideshow": {
     "slide_type": "subslide"
    }
   },
   "source": [
    "Finding an explanation (avgprice low for ideal cut) is not easy!"
   ]
  },
  {
   "cell_type": "code",
   "execution_count": null,
   "metadata": {},
   "outputs": [],
   "source": [
    "options(repr.plot.width=4, repr.plot.height=5)\n",
    "diamonds %>%\n",
    "    group_by(cut) %>%\n",
    "    summarise(avgPricePerCarat = mean(price)/mean(carat)) %>%\n",
    "    ggplot() +\n",
    "    geom_col(aes(x=cut, y=avgPricePerCarat), width=0.2)"
   ]
  },
  {
   "cell_type": "markdown",
   "metadata": {
    "slideshow": {
     "slide_type": "subslide"
    }
   },
   "source": [
    "Clarity as explanation?"
   ]
  },
  {
   "cell_type": "code",
   "execution_count": null,
   "metadata": {},
   "outputs": [],
   "source": [
    "options(repr.plot.width=4, repr.plot.height=5)\n",
    "diamonds %>%\n",
    "    filter(clarity==\"IF\") %>%\n",
    "    group_by(cut) %>%\n",
    "    summarise(avgPricePerCarat = mean(price)/mean(carat)) %>%\n",
    "    ggplot() +\n",
    "    geom_col(aes(x=cut, y=avgPricePerCarat), width=0.2)"
   ]
  },
  {
   "cell_type": "markdown",
   "metadata": {
    "slideshow": {
     "slide_type": "subslide"
    }
   },
   "source": [
    "### Composition"
   ]
  },
  {
   "cell_type": "markdown",
   "metadata": {},
   "source": [
    "__Bar chart__\n",
    "\n",
    "To examine the counts of different classes of a categorical variable, use a bar chart:"
   ]
  },
  {
   "cell_type": "code",
   "execution_count": null,
   "metadata": {},
   "outputs": [],
   "source": [
    "options(repr.plot.width=7, repr.plot.height=5)\n",
    "diamonds %>%\n",
    "    ggplot() +\n",
    "    geom_bar(aes(x=cut))"
   ]
  },
  {
   "cell_type": "markdown",
   "metadata": {
    "slideshow": {
     "slide_type": "subslide"
    }
   },
   "source": [
    "The algorithm used to calculate new values for a graph is called a stat, short for statistical transformation. The figure below describes how this process works with geom_bar().\n",
    "\n",
    "<img src=\"images/03/visualization-stat-bar-2.png\" style=\"width:80%\">"
   ]
  },
  {
   "cell_type": "markdown",
   "metadata": {
    "slideshow": {
     "slide_type": "subslide"
    }
   },
   "source": [
    "__Stacked Bar chart__\n",
    "\n",
    "To examine the composition (with respect to other categorical variables) of the different classes of a categorical variable, we use a stacked bar chart:"
   ]
  },
  {
   "cell_type": "code",
   "execution_count": null,
   "metadata": {},
   "outputs": [],
   "source": [
    "options(repr.plot.width=7, repr.plot.height=5)\n",
    "diamonds %>%\n",
    "    ggplot() +\n",
    "    geom_bar(aes(x=cut, fill=clarity))"
   ]
  },
  {
   "cell_type": "markdown",
   "metadata": {
    "slideshow": {
     "slide_type": "subslide"
    }
   },
   "source": [
    "__100% Stacked Bar chart__\n",
    "\n",
    "To focus exclusively on the composition (with respect to other categorical variables) of the different classes of a categorical variable, we use a 100% stacked bar chart:"
   ]
  },
  {
   "cell_type": "code",
   "execution_count": null,
   "metadata": {},
   "outputs": [],
   "source": [
    "options(repr.plot.width=7, repr.plot.height=5)\n",
    "diamonds %>%\n",
    "    ggplot() +\n",
    "    geom_bar(aes(x=cut, fill=clarity), position=\"fill\")"
   ]
  },
  {
   "cell_type": "markdown",
   "metadata": {
    "slideshow": {
     "slide_type": "subslide"
    }
   },
   "source": [
    "### Distributions\n",
    "\n",
    "How you visualize the distribution of a variable will depend on whether the variable is categorical or continuous. A variable is categorical if it can only take one of a small set of values. In R, categorical variables are usually saved as factors or character vectors. "
   ]
  },
  {
   "cell_type": "markdown",
   "metadata": {
    "slideshow": {
     "slide_type": "subslide"
    }
   },
   "source": [
    "__Histograms__\n",
    "\n",
    "To examine the distribution of a continuous variable, use a histogram. A histogram divides the x-axis into equally spaced bins and then uses the height of a bar to display the number of observations that fall in each bin. "
   ]
  },
  {
   "cell_type": "code",
   "execution_count": null,
   "metadata": {},
   "outputs": [],
   "source": [
    "ggplot(data = diamonds) +\n",
    "    geom_histogram(aes(x=carat), bins=30, color=\"black\", fill=\"white\")"
   ]
  },
  {
   "cell_type": "markdown",
   "metadata": {
    "slideshow": {
     "slide_type": "subslide"
    }
   },
   "source": [
    "__Smoothed density estimates__\n",
    "\n",
    "`geom_density` computes and draws kernel density estimate, which is a smoothed version of the histogram. This is a useful alternative to the histogram for continuous data that comes from an underlying smooth distribution."
   ]
  },
  {
   "cell_type": "code",
   "execution_count": null,
   "metadata": {},
   "outputs": [],
   "source": [
    "ggplot(diamonds) +\n",
    "    geom_density(aes(x=carat))"
   ]
  },
  {
   "cell_type": "markdown",
   "metadata": {
    "slideshow": {
     "slide_type": "subslide"
    }
   },
   "source": [
    "__Boxplots__\n",
    "\n",
    "You can use boxplots to display the distribution of a continuous variable broken down by a categorical variable.\n",
    "\n",
    "- Concise way to illustrate the standard quantiles, shape, and outliers of data\n",
    "- Each “box” is created according to some standard composition rules\n",
    "\n",
    "<img src=\"images/03/eda-boxplot.png\" style=\"width:60%\">\n",
    "\n",
    "[Source](https://r4ds.had.co.nz/exploratory-data-analysis.html)\n"
   ]
  },
  {
   "cell_type": "code",
   "execution_count": null,
   "metadata": {
    "slideshow": {
     "slide_type": "subslide"
    }
   },
   "outputs": [],
   "source": [
    "options(repr.plot.width=2, repr.plot.height=5)"
   ]
  },
  {
   "cell_type": "markdown",
   "metadata": {
    "slideshow": {
     "slide_type": "subslide"
    }
   },
   "source": [
    "__Comparing Distributions__\n",
    "\n",
    "It’s common to want to explore the distribution of a continuous variable broken down by a categorical variable"
   ]
  },
  {
   "cell_type": "code",
   "execution_count": null,
   "metadata": {},
   "outputs": [],
   "source": [
    "options(repr.plot.width=7, repr.plot.height=5)"
   ]
  },
  {
   "cell_type": "markdown",
   "metadata": {
    "slideshow": {
     "slide_type": "subslide"
    }
   },
   "source": [
    "...better use boxplots!"
   ]
  },
  {
   "cell_type": "code",
   "execution_count": null,
   "metadata": {},
   "outputs": [],
   "source": [
    "options(repr.plot.width=3, repr.plot.height=4)"
   ]
  },
  {
   "cell_type": "markdown",
   "metadata": {
    "slideshow": {
     "slide_type": "subslide"
    }
   },
   "source": [
    "If the descriptions on the x-Axis do not fit well, flip the coordinates"
   ]
  },
  {
   "cell_type": "code",
   "execution_count": null,
   "metadata": {
    "slideshow": {
     "slide_type": "-"
    }
   },
   "outputs": [],
   "source": [
    "options(repr.plot.width=5, repr.plot.height=3)"
   ]
  },
  {
   "cell_type": "markdown",
   "metadata": {
    "slideshow": {
     "slide_type": "subslide"
    }
   },
   "source": [
    "### Relationships\n",
    "\n",
    "If variation describes the behavior within a variable, covariation describes the behavior between variables. Covariation is the tendency for the values of two or more variables to vary together in a related way. The best way to spot covariation is to visualise the relationship between two or more variables. How you do that should again depend on the type of variables involved."
   ]
  },
  {
   "cell_type": "markdown",
   "metadata": {
    "slideshow": {
     "slide_type": "subslide"
    }
   },
   "source": [
    "__Relationship between two continuous variables__\n",
    "\n",
    "Using a scatterplot with two variables you can see covariation as a pattern in the points. You can see an exponential relationship between the carat size and price of a diamond."
   ]
  },
  {
   "cell_type": "code",
   "execution_count": null,
   "metadata": {},
   "outputs": [],
   "source": [
    "options(repr.plot.width=7, repr.plot.height=7)"
   ]
  },
  {
   "cell_type": "markdown",
   "metadata": {
    "slideshow": {
     "slide_type": "subslide"
    }
   },
   "source": [
    "__Two categorical variables__\n",
    "\n",
    "To visualise the covariation between categorical variables, you’ll need to count the number of observations for each combination"
   ]
  },
  {
   "cell_type": "code",
   "execution_count": null,
   "metadata": {},
   "outputs": [],
   "source": []
  },
  {
   "cell_type": "code",
   "execution_count": null,
   "metadata": {
    "slideshow": {
     "slide_type": "subslide"
    }
   },
   "outputs": [],
   "source": []
  },
  {
   "cell_type": "markdown",
   "metadata": {
    "slideshow": {
     "slide_type": "subslide"
    }
   },
   "source": [
    "### Coloring"
   ]
  },
  {
   "cell_type": "markdown",
   "metadata": {},
   "source": [
    "__Continuous data:__\n",
    "- differences between your steps should be high enough\n",
    "    - Sequential palettes (single hue vs multiple hues)\n",
    "    - Diverging palettes which emphasize extremes\n",
    "\n",
    "__Qualitative data:__\n",
    "- find colors which go well together and attract the reader’s eye\n",
    "    - Qualitative palettes"
   ]
  },
  {
   "cell_type": "markdown",
   "metadata": {
    "slideshow": {
     "slide_type": "subslide"
    }
   },
   "source": [
    "__RColorBrewer for color palettes__"
   ]
  },
  {
   "cell_type": "code",
   "execution_count": null,
   "metadata": {},
   "outputs": [],
   "source": [
    "options(repr.plot.width=7, repr.plot.height=7)\n",
    "RColorBrewer::display.brewer.all(n=NULL, type=\"all\", select=NULL, exact.n=TRUE, colorblindFriendly=FALSE)"
   ]
  },
  {
   "cell_type": "markdown",
   "metadata": {
    "slideshow": {
     "slide_type": "subslide"
    }
   },
   "source": [
    "__Using color palettes on the `diamonds`data__"
   ]
  },
  {
   "cell_type": "code",
   "execution_count": null,
   "metadata": {},
   "outputs": [],
   "source": [
    "diamonds %>% \n",
    "    sample_n(1000) %>%\n",
    "    ggplot(aes(carat, price)) +\n",
    "    geom_point(aes(colour = clarity)) -> d\n",
    "d"
   ]
  },
  {
   "cell_type": "markdown",
   "metadata": {
    "slideshow": {
     "slide_type": "subslide"
    }
   },
   "source": [
    "Select brewer palette to use - Sequential"
   ]
  },
  {
   "cell_type": "code",
   "execution_count": null,
   "metadata": {},
   "outputs": [],
   "source": []
  },
  {
   "cell_type": "markdown",
   "metadata": {
    "slideshow": {
     "slide_type": "subslide"
    }
   },
   "source": [
    "Select brewer palette to use - Qualitative"
   ]
  },
  {
   "cell_type": "code",
   "execution_count": null,
   "metadata": {},
   "outputs": [],
   "source": []
  },
  {
   "cell_type": "markdown",
   "metadata": {
    "slideshow": {
     "slide_type": "subslide"
    }
   },
   "source": [
    "`scale_fill_brewer` works just the same as `scale_colour_brewer` but for fill colours"
   ]
  },
  {
   "cell_type": "code",
   "execution_count": null,
   "metadata": {},
   "outputs": [],
   "source": [
    "diamonds %>%\n",
    "    ggplot(aes(x = price, fill = cut)) +\n",
    "    geom_histogram(position = \"dodge\", binwidth = 1000) -> p\n"
   ]
  },
  {
   "cell_type": "markdown",
   "metadata": {
    "slideshow": {
     "slide_type": "subslide"
    }
   },
   "source": [
    "The direction of colors can be reversed"
   ]
  },
  {
   "cell_type": "code",
   "execution_count": null,
   "metadata": {},
   "outputs": [],
   "source": []
  },
  {
   "cell_type": "markdown",
   "metadata": {
    "slideshow": {
     "slide_type": "subslide"
    }
   },
   "source": [
    "### Faceting\n",
    "\n",
    "One way to add additional variables is with aesthetics. Another way, particularly useful for categorical variables, is to split your plot into facets, subplots that each display one subset of the data."
   ]
  },
  {
   "cell_type": "code",
   "execution_count": null,
   "metadata": {},
   "outputs": [],
   "source": [
    "options(repr.plot.width=9, repr.plot.height=3)\n",
    "diamonds %>%\n",
    "    ggplot(aes(x = price)) +\n",
    "    geom_histogram(binwidth = 1000)"
   ]
  },
  {
   "cell_type": "markdown",
   "metadata": {
    "slideshow": {
     "slide_type": "subslide"
    }
   },
   "source": [
    "### Graphical Excellence\n",
    "\n",
    "Excellence in statistical graphics consists of complex ideas communicated with clarity, precision, and efficiency\n",
    "\n",
    "Graphical Displays should show the data and...\n",
    "\n",
    "- induce the viewer to think about the substance\n",
    "- avoid distorting what the data says\n",
    "- present many numbers in small space\n",
    "- make large data sets coherent\n",
    "- encourage the eye to compare different pieces of data\n",
    "- reveal the data at several levels of detail, from a broad overview to the new structure\n",
    "- serve a reasonably clear purpose: description, exploration, tabulation, or decoration"
   ]
  },
  {
   "cell_type": "markdown",
   "metadata": {
    "slideshow": {
     "slide_type": "subslide"
    }
   },
   "source": [
    "__Example for graphical excellence__\n",
    "\n",
    "Goal-Contribution Matrix for the Premier League! Special focus on Eden Hazard, Jamie Vardy, Glen Murray, and Ryan Fraser ([Link](https://twitter.com/r_by_ryo/status/1129773418184925184?s=12)/[Code](https://gist.github.com/Ryo-N7/67ca1c364c342a82c4098918082ca445)).\n",
    "\n",
    "<img src=\"https://pbs.twimg.com/media/D63BjrRXoAAdbZi.png:large\" style=\"width:60%\">"
   ]
  },
  {
   "cell_type": "markdown",
   "metadata": {
    "slideshow": {
     "slide_type": "slide"
    }
   },
   "source": [
    "## Exam Questions"
   ]
  },
  {
   "cell_type": "markdown",
   "metadata": {
    "slideshow": {
     "slide_type": "subslide"
    }
   },
   "source": [
    "### Exam AIS WS 2018/19\n",
    "__Question 2: Descriptive Analytics__\n",
    "\n",
    "(b) (3 Points) __Color palettes__: In the lecture we discussed that color palettes should reflect the underlying data types. Recommend a suitable palette choice for the following data sets:"
   ]
  },
  {
   "cell_type": "markdown",
   "metadata": {
    "slideshow": {
     "slide_type": "fragment"
    }
   },
   "source": [
    "i. (1 points) Daily stock performance measured as percent change"
   ]
  },
  {
   "cell_type": "markdown",
   "metadata": {
    "slideshow": {
     "slide_type": "fragment"
    }
   },
   "source": [
    ">"
   ]
  },
  {
   "cell_type": "markdown",
   "metadata": {
    "slideshow": {
     "slide_type": "subslide"
    }
   },
   "source": [
    "ii. (1 points) Annual sales data of a single company"
   ]
  },
  {
   "cell_type": "markdown",
   "metadata": {
    "slideshow": {
     "slide_type": "fragment"
    }
   },
   "source": [
    ">"
   ]
  },
  {
   "cell_type": "markdown",
   "metadata": {
    "slideshow": {
     "slide_type": "fragment"
    }
   },
   "source": [
    "iii. (1 points) Monthly earnings data of a single company"
   ]
  },
  {
   "cell_type": "markdown",
   "metadata": {
    "slideshow": {
     "slide_type": "fragment"
    }
   },
   "source": [
    ">"
   ]
  },
  {
   "cell_type": "markdown",
   "metadata": {
    "slideshow": {
     "slide_type": "subslide"
    }
   },
   "source": [
    "iv. (1 points) Distinguishing different companies in stock price charts"
   ]
  },
  {
   "cell_type": "markdown",
   "metadata": {
    "slideshow": {
     "slide_type": "fragment"
    }
   },
   "source": [
    ">"
   ]
  },
  {
   "cell_type": "markdown",
   "metadata": {
    "slideshow": {
     "slide_type": "fragment"
    }
   },
   "source": [
    "v. (1 points) Points in AIS exam achieved by students ranging from 0 to 60"
   ]
  },
  {
   "cell_type": "markdown",
   "metadata": {
    "slideshow": {
     "slide_type": "fragment"
    }
   },
   "source": [
    ">"
   ]
  },
  {
   "cell_type": "markdown",
   "metadata": {
    "slideshow": {
     "slide_type": "fragment"
    }
   },
   "source": [
    "vi. (1 points) Coloring countries on a map based on the population's favorite sport"
   ]
  },
  {
   "cell_type": "markdown",
   "metadata": {
    "slideshow": {
     "slide_type": "fragment"
    }
   },
   "source": [
    "> "
   ]
  },
  {
   "cell_type": "markdown",
   "metadata": {
    "slideshow": {
     "slide_type": "subslide"
    }
   },
   "source": [
    "### Exam SS 2018\n",
    "__Question 2: Descriptive Analytics__\n",
    "\n",
    "(a) (4 points) __Plots and Colors__ In the lecture, you learned about different types of visualizations. Additionally, we talked about color palettes. Your task is to visualize the following data sets. Which plots and color palettes do you recommend? Sketch the plots and highlight for each data set what you are trying to achieve with your visualization."
   ]
  },
  {
   "cell_type": "markdown",
   "metadata": {
    "cell_style": "center",
    "slideshow": {
     "slide_type": "-"
    }
   },
   "source": [
    "\\begin{array}{|l|l|}\n",
    "    \\hline\n",
    "    Fund ID & Performance \\\\\n",
    "    \\hline\n",
    "    1         & $+7.03\\%$        \\\\\n",
    "    2         & $+3.14\\%$         \\\\\n",
    "    3         & $-1.12\\%$         \\\\\n",
    "    4         & $-5.87\\%$          \\\\\n",
    "    \\dots       & \\dots        \\\\\n",
    "    \\hline\n",
    "\\end{array}\n",
    "<center>\n",
    "(a) Asset Management\n",
    "<center>"
   ]
  },
  {
   "cell_type": "markdown",
   "metadata": {
    "slideshow": {
     "slide_type": "-"
    }
   },
   "source": [
    "Solution: \n",
    ">"
   ]
  },
  {
   "cell_type": "markdown",
   "metadata": {
    "slideshow": {
     "slide_type": "subslide"
    }
   },
   "source": [
    "Plotting the solution using ggplot2 (___not___ in exam) - Option 1"
   ]
  },
  {
   "cell_type": "code",
   "execution_count": null,
   "metadata": {
    "slideshow": {
     "slide_type": "-"
    }
   },
   "outputs": [],
   "source": [
    "asset_performance <- tribble(\n",
    "  ~FundID, ~Performance,\n",
    "  \"1\",     7.03,\n",
    "  \"2\",     3.14,\n",
    "  \"3\",     -1.12,\n",
    "  \"4\",     -2.84)"
   ]
  },
  {
   "cell_type": "code",
   "execution_count": null,
   "metadata": {},
   "outputs": [],
   "source": []
  },
  {
   "cell_type": "markdown",
   "metadata": {
    "slideshow": {
     "slide_type": "subslide"
    }
   },
   "source": [
    "Plotting the solution using ggplot2 (___not___ in exam) - Option 2"
   ]
  },
  {
   "cell_type": "code",
   "execution_count": null,
   "metadata": {},
   "outputs": [],
   "source": []
  },
  {
   "cell_type": "markdown",
   "metadata": {
    "cell_style": "center",
    "slideshow": {
     "slide_type": "subslide"
    }
   },
   "source": [
    "[...] Your task is to visualize the following data sets. Which plots and color palettes do you recommend? Sketch the plots and highlight for each data set what you are trying to achieve with your visualization.\n",
    "\n",
    "\\begin{array}{|l|l|l|}\n",
    "    \\hline\n",
    "    Employee ID & Gender & Income\\\\\n",
    "    \\hline\n",
    "    1       & male      &    80,000 \\\\\n",
    "    2       & female    &   70,000 \\\\\n",
    "    3       & male      &   35,000 \\\\\n",
    "    4       & female    &   37,000 \\\\\n",
    "    \\dots   & \\dots           & \\dots \\\\\n",
    "    \\hline\n",
    "\\end{array}\n",
    "\n",
    "<center>\n",
    "(b) Gender Pay Gap\n",
    "<center>"
   ]
  },
  {
   "cell_type": "markdown",
   "metadata": {
    "slideshow": {
     "slide_type": "-"
    }
   },
   "source": [
    "Solution 1: \n",
    ">"
   ]
  },
  {
   "cell_type": "markdown",
   "metadata": {
    "slideshow": {
     "slide_type": "subslide"
    }
   },
   "source": [
    "Generating sample data (___not___ in exam)"
   ]
  },
  {
   "cell_type": "code",
   "execution_count": null,
   "metadata": {},
   "outputs": [],
   "source": [
    "tibble(EmployeeID = 1:n,\n",
    "       Gender = sample(c(\"male\",\"female\"), size = 5000, replace = T)) %>%\n",
    "       mutate(Income = if_else(Gender==\"female\", \n",
    "                            rnorm(n = n, mean = 40000, sd = 5000),\n",
    "                            rnorm(n = n, mean = 45000, sd = 10000))) -> gender\n",
    "gender %>% head()"
   ]
  },
  {
   "cell_type": "markdown",
   "metadata": {
    "slideshow": {
     "slide_type": "subslide"
    }
   },
   "source": [
    "Plotting the solution using ggplot2 (___not___ in exam)"
   ]
  },
  {
   "cell_type": "code",
   "execution_count": null,
   "metadata": {},
   "outputs": [],
   "source": []
  },
  {
   "cell_type": "code",
   "execution_count": null,
   "metadata": {},
   "outputs": [],
   "source": [
    "RColorBrewer::display.brewer.all(type='all')"
   ]
  },
  {
   "cell_type": "markdown",
   "metadata": {
    "slideshow": {
     "slide_type": "subslide"
    }
   },
   "source": [
    "Solution 2: \n",
    "\n",
    "> - Plot: for comparison, e.g. bar chart (x=Income Bins, y=Income)\n",
    "- Color palette: qualitative (Gender)"
   ]
  },
  {
   "cell_type": "markdown",
   "metadata": {
    "slideshow": {
     "slide_type": "subslide"
    }
   },
   "source": [
    "Plotting the solution using ggplot2 (___not___ in exam) - Option 1"
   ]
  },
  {
   "cell_type": "code",
   "execution_count": null,
   "metadata": {},
   "outputs": [],
   "source": []
  },
  {
   "cell_type": "markdown",
   "metadata": {
    "slideshow": {
     "slide_type": "subslide"
    }
   },
   "source": [
    "Plotting the solution using ggplot2 (___not___ in exam) - Option 2"
   ]
  },
  {
   "cell_type": "code",
   "execution_count": null,
   "metadata": {},
   "outputs": [],
   "source": []
  }
 ],
 "metadata": {
  "kernelspec": {
   "display_name": "R",
   "language": "R",
   "name": "ir"
  },
  "language_info": {
   "codemirror_mode": "r",
   "file_extension": ".r",
   "mimetype": "text/x-r-source",
   "name": "R",
   "pygments_lexer": "r",
   "version": "3.6.0"
  },
  "rise": {
   "enable_chalkboard": false,
   "overlay": "<div class='logo'><img src='images/uniwue4c.png'></div>",
   "scroll": true
  },
  "toc": {
   "base_numbering": 1,
   "nav_menu": {},
   "number_sections": true,
   "sideBar": true,
   "skip_h1_title": true,
   "title_cell": "Agenda",
   "title_sidebar": "Contents",
   "toc_cell": true,
   "toc_position": {},
   "toc_section_display": true,
   "toc_window_display": false
  }
 },
 "nbformat": 4,
 "nbformat_minor": 2
}
