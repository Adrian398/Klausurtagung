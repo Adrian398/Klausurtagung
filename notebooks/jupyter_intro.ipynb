{
 "cells": [
  {
   "cell_type": "markdown",
   "metadata": {
    "slideshow": {
     "slide_type": "slide"
    }
   },
   "source": [
    "*Klausurtagung 2019*\n",
    "\n",
    "# Introduction to Juypter Notebooks\n",
    "\n",
    "Matthias Griebel<br>\n",
    "Lehrstuhl für Wirtschaftsinformatik und Informationsmanagement\n",
    "\n",
    "*Rothenburg ob der Tauber, August 7-9, 2019*"
   ]
  },
  {
   "cell_type": "markdown",
   "metadata": {
    "slideshow": {
     "slide_type": "subslide"
    },
    "toc": true
   },
   "source": [
    "<h1>Agenda<span class=\"tocSkip\"></span></h1>\n",
    "<div class=\"toc\"><ul class=\"toc-item\"><li><span><a href=\"#1-Course-Overview\" data-toc-modified-id=\"1-Course-Overview-1\"><span class=\"toc-item-num\">1&nbsp;&nbsp;</span>1 Course Overview</a></span><ul class=\"toc-item\"><li><span><a href=\"#Programming-Languages-in-Jupyter\" data-toc-modified-id=\"Programming-Languages-in-Jupyter-1.1\"><span class=\"toc-item-num\">1.1&nbsp;&nbsp;</span>Programming Languages in Jupyter</a></span><ul class=\"toc-item\"><li><span><a href=\"#We-will-be-using-R\" data-toc-modified-id=\"We-will-be-using-R-1.1.1\"><span class=\"toc-item-num\">1.1.1&nbsp;&nbsp;</span>We will be using R</a></span></li></ul></li><li><span><a href=\"#Jupyter-Ecosystem\" data-toc-modified-id=\"Jupyter-Ecosystem-1.2\"><span class=\"toc-item-num\">1.2&nbsp;&nbsp;</span>Jupyter Ecosystem</a></span><ul class=\"toc-item\"><li><span><a href=\"#The-Jupyter-Notebook\" data-toc-modified-id=\"The-Jupyter-Notebook-1.2.1\"><span class=\"toc-item-num\">1.2.1&nbsp;&nbsp;</span>The Jupyter Notebook</a></span></li><li><span><a href=\"#Binder-(computing-environments)\" data-toc-modified-id=\"Binder-(computing-environments)-1.2.2\"><span class=\"toc-item-num\">1.2.2&nbsp;&nbsp;</span>Binder (computing environments)</a></span></li></ul></li><li><span><a href=\"#1.5-Getting-Started\" data-toc-modified-id=\"1.5-Getting-Started-1.3\"><span class=\"toc-item-num\">1.3&nbsp;&nbsp;</span>1.5 Getting Started</a></span></li></ul></li><li><span><a href=\"#2-Introduction-to-Jupyter-and-R-Tidyverse\" data-toc-modified-id=\"2-Introduction-to-Jupyter-and-R-Tidyverse-2\"><span class=\"toc-item-num\">2&nbsp;&nbsp;</span>2 Introduction to Jupyter and R-Tidyverse</a></span><ul class=\"toc-item\"><li><ul class=\"toc-item\"><li><span><a href=\"#Jupyter-Notebooks-Cells\" data-toc-modified-id=\"Jupyter-Notebooks-Cells-2.0.1\"><span class=\"toc-item-num\">2.0.1&nbsp;&nbsp;</span>Jupyter Notebooks Cells</a></span></li><li><span><a href=\"#R-Packages\" data-toc-modified-id=\"R-Packages-2.0.2\"><span class=\"toc-item-num\">2.0.2&nbsp;&nbsp;</span>R Packages</a></span></li></ul></li><li><span><a href=\"#2.3-Help-and-Documentation\" data-toc-modified-id=\"2.3-Help-and-Documentation-2.1\"><span class=\"toc-item-num\">2.1&nbsp;&nbsp;</span>2.3 Help and Documentation</a></span><ul class=\"toc-item\"><li><span><a href=\"#Accessing-the-documentation-with-'?'\" data-toc-modified-id=\"Accessing-the-documentation-with-'?'-2.1.1\"><span class=\"toc-item-num\">2.1.1&nbsp;&nbsp;</span>Accessing the documentation with '?'</a></span></li></ul></li></ul></li><li><span><a href=\"#3-Cloud-Engine-/Scale-ML\" data-toc-modified-id=\"3-Cloud-Engine-/Scale-ML-3\"><span class=\"toc-item-num\">3&nbsp;&nbsp;</span>3 Cloud Engine /Scale ML</a></span><ul class=\"toc-item\"><li><ul class=\"toc-item\"><li><span><a href=\"#Azure-Machine-Learning-Studio\" data-toc-modified-id=\"Azure-Machine-Learning-Studio-3.0.1\"><span class=\"toc-item-num\">3.0.1&nbsp;&nbsp;</span>Azure Machine Learning Studio</a></span></li><li><span><a href=\"#Amazon-SageMaker\" data-toc-modified-id=\"Amazon-SageMaker-3.0.2\"><span class=\"toc-item-num\">3.0.2&nbsp;&nbsp;</span>Amazon SageMaker</a></span></li><li><span><a href=\"#Google-cloud-machine-learning-engine\" data-toc-modified-id=\"Google-cloud-machine-learning-engine-3.0.3\"><span class=\"toc-item-num\">3.0.3&nbsp;&nbsp;</span>Google cloud machine learning engine</a></span></li></ul></li></ul></li></ul></div>"
   ]
  },
  {
   "cell_type": "markdown",
   "metadata": {
    "slideshow": {
     "slide_type": "subslide"
    }
   },
   "source": [
    "## 1 Course Overview"
   ]
  },
  {
   "cell_type": "markdown",
   "metadata": {
    "slideshow": {
     "slide_type": "subslide"
    }
   },
   "source": [
    "### Programming Languages in Jupyter"
   ]
  },
  {
   "cell_type": "markdown",
   "metadata": {
    "cell_style": "center",
    "slideshow": {
     "slide_type": "fragment"
    }
   },
   "source": [
    "#### We will be using R\n",
    "\n",
    "R is not the only language that can be used for data analysis. Why R rather than another? Here is a list:\n",
    "- interactive language\n",
    "- data structures & functions\n",
    "- graphics\n",
    "- packages & community!\n",
    "\n",
    "<img src=\"https://upload.wikimedia.org/wikipedia/commons/thumb/1/1b/R_logo.svg/724px-R_logo.svg.png\" style=\"width:20%; float:right\">\n",
    "\n",
    "http://www.burns-stat.com/documents/tutorials/why-use-the-r-language/\n",
    "\n"
   ]
  },
  {
   "cell_type": "markdown",
   "metadata": {
    "slideshow": {
     "slide_type": "subslide"
    }
   },
   "source": [
    "### Jupyter Ecosystem"
   ]
  },
  {
   "cell_type": "markdown",
   "metadata": {
    "slideshow": {
     "slide_type": "fragment"
    }
   },
   "source": [
    "\n",
    "<img src=\"https://github.com/matjesg/AIS_2019/raw/master/notebooks/images/01/jupyter_nature.png\" style=\"width:40%; float:right\">\n",
    "\n",
    "Project Jupyter exists to develop open-source software, open-standards, and services for interactive computing across dozens of programming languages (https://jupyter.org/).\n",
    "\n",
    "Perkel, J. M. (2018). __Why Jupyter is data scientists' computational notebook of choice__. Nature, 563(7729), 145.\n",
    "[Link](https://www.nature.com/articles/d41586-018-07196-1)\n",
    "\n",
    "\n",
    "\n",
    "\n",
    "\n",
    "\n",
    "\n"
   ]
  },
  {
   "cell_type": "markdown",
   "metadata": {
    "slideshow": {
     "slide_type": "subslide"
    }
   },
   "source": [
    "#### The Jupyter Notebook\n",
    "\n",
    "<img src=\"https://upload.wikimedia.org/wikipedia/commons/thumb/3/38/Jupyter_logo.svg/250px-Jupyter_logo.svg.png\" style=\"width:20%; float:right\">\n",
    "\n",
    "- open-source web application \n",
    "- create and share documents that contain\n",
    "    - live code and narrative text\n",
    "    - data cleaning and transformation\n",
    "    - numerical simulation\n",
    "    - statistical modeling \n",
    "    - data visualization\n",
    "    - machine learning\n",
    "    - and much more "
   ]
  },
  {
   "cell_type": "markdown",
   "metadata": {
    "slideshow": {
     "slide_type": "subslide"
    }
   },
   "source": [
    "#### Binder (computing environments)\n",
    "\n",
    "<img src=\"https://mybinder.readthedocs.io/en/latest/_static/logo.png\" style=\"width:20%; float:right\">\n",
    "\n",
    "- allows to create custom computing environments \n",
    "- that can be shared and used by many remote users\n",
    "\n",
    "It is powered by BinderHub, which is an open-source tool that deploys the [Binder service in the cloud](https://mybinder.org/).\n"
   ]
  },
  {
   "cell_type": "markdown",
   "metadata": {
    "slideshow": {
     "slide_type": "subslide"
    }
   },
   "source": [
    "### 1.5 Getting Started"
   ]
  },
  {
   "cell_type": "markdown",
   "metadata": {
    "slideshow": {
     "slide_type": "slide"
    }
   },
   "source": [
    "## 2 Introduction to Jupyter and R-Tidyverse"
   ]
  },
  {
   "cell_type": "markdown",
   "metadata": {
    "slideshow": {
     "slide_type": "subslide"
    }
   },
   "source": [
    "#### Jupyter Notebooks Cells\n",
    "- A Markdown cell (this cell) contains text formatted using Markdown and displays its output in-place when it is run\n",
    "- A code cell contains code to be executed in the kernel and displays its output below\n",
    "\n",
    "To run the code, in the menu bar, click __Cell__ then select __Run Cells__, or use the keyboard shortcut Ctrl-Enter.<br>\n",
    "You can add a cell using the '__+__' button."
   ]
  },
  {
   "cell_type": "markdown",
   "metadata": {
    "slideshow": {
     "slide_type": "subslide"
    }
   },
   "source": [
    "Now, write and run your first code in the next cell\n",
    "```R\n",
    "string <- \"your text\"\n",
    "print(string)\n",
    "```"
   ]
  },
  {
   "cell_type": "code",
   "execution_count": null,
   "metadata": {
    "collapsed": true
   },
   "outputs": [],
   "source": []
  },
  {
   "cell_type": "markdown",
   "metadata": {
    "slideshow": {
     "slide_type": "subslide"
    }
   },
   "source": [
    "#### R Packages\n",
    "\n",
    "Packages are the fundamental units of reproducible R code. They include reusable R functions, the documentation that describes how to use them, and sample data. \n",
    "\n",
    "Example: Install and load the *tidyverse*\n",
    "```R\n",
    "# install\n",
    "install.packages('tidyverse')\n",
    "# load\n",
    "library(tidyverse)\n",
    "```"
   ]
  },
  {
   "cell_type": "markdown",
   "metadata": {
    "slideshow": {
     "slide_type": "subslide"
    }
   },
   "source": [
    "The *tidyverse* and all necessary packages for the tutorial are already pre-installed, so we just need to load them"
   ]
  },
  {
   "cell_type": "markdown",
   "metadata": {
    "slideshow": {
     "slide_type": "subslide"
    }
   },
   "source": [
    "### 2.3 Help and Documentation"
   ]
  },
  {
   "cell_type": "markdown",
   "metadata": {
    "slideshow": {
     "slide_type": "fragment"
    }
   },
   "source": [
    "#### Accessing the documentation with '?'\n",
    "\n",
    "The question mark is a simple shortcut to get help\n",
    "\n",
    "```R\n",
    "?tidyverse\n",
    "```"
   ]
  },
  {
   "cell_type": "code",
   "execution_count": null,
   "metadata": {
    "collapsed": true
   },
   "outputs": [],
   "source": []
  },
  {
   "cell_type": "markdown",
   "metadata": {
    "slideshow": {
     "slide_type": "slide"
    }
   },
   "source": [
    "## 3 Cloud Engine /Scale ML\n",
    "#### Azure Machine Learning Studio\n",
    " - R or Python\n",
    " - keine 300 USD\n",
    " - free account \n",
    " \n",
    "#### Amazon SageMaker \n",
    " - Amazon ML Research Grants\n",
    " - keine 300 USD\n",
    " \n",
    "#### Google cloud machine learning engine\n",
    " - 300 USD free\n",
    " - Benutzerdefinierte Containerunterstützung\n",
    " - Verteiltes Training\n",
    " - Automatische Ressourcenbereitstellung\n",
    " - Portable Modelle"
   ]
  },
  {
   "cell_type": "markdown",
   "metadata": {
    "slideshow": {
     "slide_type": "subslide"
    }
   },
   "source": [
    "1. Account erstellen https://cloud.google.com/\n",
    "2. Projekt erstellen\n",
    "3. Bucket aufsetzen\n",
    "4. ML Engine API aktivieren\n",
    "5. gcloud sdk einrichten\n",
    "6. Modell auf Konsole umbauen\n",
    "7. Job über Konsole starten "
   ]
  },
  {
   "cell_type": "code",
   "execution_count": null,
   "metadata": {
    "collapsed": true
   },
   "outputs": [],
   "source": [
    "#https://azure.microsoft.com/en-in/services/machine-learning-studio/\n",
    "#https://aws.amazon.com/de/machine-learning/\n",
    "#https://cloud.google.com/ml-engine/?utm_source=google&utm_medium=cpc&utm_campaign=emea-de-all-en-dr-bkws-all-all-trial-b-gcp-1007176&utm_content=text-ad-none-any-DEV_c-CRE_167323884885-ADGP_Hybrid+%7C+AW+SEM+%7C+BKWS+~+BMM_M:1_DE_EN_ML_ML+Services_google+cloud+machine-KWID_43700016295222165-kwd-205796549047-userloc_1004330&utm_term=KW_%2Bgoogle%20%2Bcloud%20%2Bmachine-ST_%2Bgoogle+%2Bcloud+%2Bmachine&ds_rl=1242853&ds_rl=1245734&ds_rl=1245734&gclid=EAIaIQobChMIjJCNmYDs4wIVVeJ3Ch20QQMIEAAYASAAEgI4TvD_BwE"
   ]
  }
 ],
 "metadata": {
  "kernelspec": {
   "display_name": "Python 3",
   "language": "python",
   "name": "python3"
  },
  "language_info": {
   "codemirror_mode": {
    "name": "ipython",
    "version": 3
   },
   "file_extension": ".py",
   "mimetype": "text/x-python",
   "name": "python",
   "nbconvert_exporter": "python",
   "pygments_lexer": "ipython3",
   "version": "3.7.3"
  },
  "rise": {
   "enable_chalkboard": false,
   "overlay": "<div class='logo'><img src='images/uniwue4c.png'></div>",
   "scroll": true
  },
  "toc": {
   "base_numbering": 1,
   "nav_menu": {},
   "number_sections": true,
   "sideBar": true,
   "skip_h1_title": true,
   "title_cell": "Agenda",
   "title_sidebar": "Contents",
   "toc_cell": true,
   "toc_position": {},
   "toc_section_display": true,
   "toc_window_display": false
  }
 },
 "nbformat": 4,
 "nbformat_minor": 2
}
