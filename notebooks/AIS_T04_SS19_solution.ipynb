{
 "cells": [
  {
   "cell_type": "markdown",
   "metadata": {
    "cell_style": "center",
    "slideshow": {
     "slide_type": "slide"
    }
   },
   "source": [
    "*Analytical Information Systems*\n",
    "\n",
    "# Tutorial 4 - Data Visualization\n",
    "\n",
    "Matthias Griebel<br>\n",
    "Lehrstuhl für Wirtschaftsinformatik und Informationsmanagement\n",
    "\n",
    "SS 2019"
   ]
  },
  {
   "cell_type": "markdown",
   "metadata": {
    "slideshow": {
     "slide_type": "subslide"
    },
    "toc": true
   },
   "source": [
    "<h1>Agenda<span class=\"tocSkip\"></span></h1>\n",
    "<div class=\"toc\"><ul class=\"toc-item\"><li><span><a href=\"#The-babybames-dataset\" data-toc-modified-id=\"The-babybames-dataset-1\"><span class=\"toc-item-num\">1&nbsp;&nbsp;</span>The babybames dataset</a></span></li><li><span><a href=\"#Distribution\" data-toc-modified-id=\"Distribution-2\"><span class=\"toc-item-num\">2&nbsp;&nbsp;</span>Distribution</a></span></li><li><span><a href=\"#Comparison\" data-toc-modified-id=\"Comparison-3\"><span class=\"toc-item-num\">3&nbsp;&nbsp;</span>Comparison</a></span></li><li><span><a href=\"#Composition\" data-toc-modified-id=\"Composition-4\"><span class=\"toc-item-num\">4&nbsp;&nbsp;</span>Composition</a></span></li></ul></div>"
   ]
  },
  {
   "cell_type": "markdown",
   "metadata": {
    "slideshow": {
     "slide_type": "subslide"
    }
   },
   "source": [
    "## The babybames dataset\n",
    "\n",
    "The babybames dataset comprises the given names and the number of children of each sex born in the US.\n",
    "- For each year from 1880 to 2017\n",
    "- All names with more than 5 uses are given\n",
    "- Five variables: `year`, `sex`, `name`, `n` and `prop` (n divided by total number of applicants in that year, which means proportions are of people of that gender with that name born in that year)."
   ]
  },
  {
   "cell_type": "code",
   "execution_count": null,
   "metadata": {},
   "outputs": [],
   "source": [
    "library(tidyverse)\n",
    "library(babynames)\n",
    "babynames %>% head()"
   ]
  },
  {
   "cell_type": "markdown",
   "metadata": {
    "slideshow": {
     "slide_type": "subslide"
    }
   },
   "source": [
    "__Recap: A taxonomy of plots__\n",
    "\n",
    "<img src=\"images/03/taxonomy.png\" style=\"width:60%\">"
   ]
  },
  {
   "cell_type": "markdown",
   "metadata": {
    "slideshow": {
     "slide_type": "subslide"
    }
   },
   "source": [
    "## Distribution"
   ]
  },
  {
   "cell_type": "markdown",
   "metadata": {
    "slideshow": {
     "slide_type": "-"
    }
   },
   "source": [
    "___Up to you: Distribution___\n",
    "\n",
    "a. What is the distribution of your name over time?"
   ]
  },
  {
   "cell_type": "code",
   "execution_count": null,
   "metadata": {},
   "outputs": [],
   "source": [
    "options(repr.plot.width=5, repr.plot.height=4)\n",
    "babynames %>%\n",
    "        filter(name==\"Matthias\")%>%\n",
    "        ggplot(aes(x=year, y=n)) +\n",
    "        geom_col()"
   ]
  },
  {
   "cell_type": "markdown",
   "metadata": {
    "slideshow": {
     "slide_type": "subslide"
    }
   },
   "source": [
    "___Up to you: Distribution___\n",
    "\n",
    "b. What is the distribution of names starting with “A“,( “C“, “F“), over time? Is there a difference between genders?"
   ]
  },
  {
   "cell_type": "code",
   "execution_count": null,
   "metadata": {
    "cell_style": "center"
   },
   "outputs": [],
   "source": [
    "options(repr.plot.width=8, repr.plot.height=4)\n",
    "StartingLetter = \"A\"\n",
    "\n",
    "babynames %>%\n",
    "        filter(str_sub(string = name, start = 0, end = 1) == StartingLetter) %>%\n",
    "        ggplot(aes(x=year, y=n)) +\n",
    "        geom_col() + \n",
    "        facet_wrap(~sex)"
   ]
  },
  {
   "cell_type": "markdown",
   "metadata": {
    "slideshow": {
     "slide_type": "subslide"
    }
   },
   "source": [
    "## Comparison"
   ]
  },
  {
   "cell_type": "markdown",
   "metadata": {},
   "source": [
    "___Up to you: Comparison___\n",
    "\n",
    "a. What are the Top-10 common names in 2017, both male and female?"
   ]
  },
  {
   "cell_type": "code",
   "execution_count": null,
   "metadata": {},
   "outputs": [],
   "source": [
    "options(repr.plot.width=5, repr.plot.height=4)\n",
    "babynames %>%\n",
    "        filter(year==2015) %>%\n",
    "        group_by(sex) %>%\n",
    "        top_n(n=10, wt=prop) %>%\n",
    "        ggplot(aes(x=name, y=prop)) +\n",
    "        geom_col() + \n",
    "        coord_flip()"
   ]
  },
  {
   "cell_type": "markdown",
   "metadata": {
    "slideshow": {
     "slide_type": "subslide"
    }
   },
   "source": [
    "... with seperate plots for each sex?"
   ]
  },
  {
   "cell_type": "code",
   "execution_count": null,
   "metadata": {},
   "outputs": [],
   "source": [
    "options(repr.plot.width=8, repr.plot.height=4)\n",
    "babynames %>%\n",
    "        filter(year==2017) %>%\n",
    "        group_by(sex) %>%\n",
    "        top_n(n = 10, wt=n) %>%\n",
    "        ggplot(aes(x=reorder(name, prop), y=prop)) +\n",
    "        geom_col() +\n",
    "        coord_flip() +\n",
    "        facet_wrap(~sex, scales = \"free\") +\n",
    "        theme_minimal()"
   ]
  },
  {
   "cell_type": "markdown",
   "metadata": {
    "slideshow": {
     "slide_type": "subslide"
    }
   },
   "source": [
    "___Up to you: Comparison___\n",
    "\n",
    "b. How has the popularity of your (and your neighbour‘s) name changed over time?"
   ]
  },
  {
   "cell_type": "code",
   "execution_count": null,
   "metadata": {},
   "outputs": [],
   "source": [
    "options(repr.plot.width=6, repr.plot.height=4)\n",
    "Names = c(\"Matthias\", \"Nikolai\", \"Christoph\")\n",
    "\n",
    "babynames %>%\n",
    "        filter(name %in% Names) %>%\n",
    "        ggplot(aes(x=year, y=prop)) + \n",
    "        geom_line(aes(linetype=name))"
   ]
  },
  {
   "cell_type": "markdown",
   "metadata": {
    "slideshow": {
     "slide_type": "subslide"
    }
   },
   "source": [
    "## Composition"
   ]
  },
  {
   "cell_type": "markdown",
   "metadata": {},
   "source": [
    "__Up to you: Composition__\n",
    "\n",
    "a. What are the most popular names from 2012 to 2015?"
   ]
  },
  {
   "cell_type": "code",
   "execution_count": null,
   "metadata": {},
   "outputs": [],
   "source": [
    "babynames %>%\n",
    "        filter(year %in% 2012:2015) %>%\n",
    "        group_by(year, sex) %>%\n",
    "        top_n(n=6, wt=prop) %>%\n",
    "        ggplot(aes(x=year, y=prop, fill=name)) +\n",
    "        geom_col(position=\"stack\") + \n",
    "        facet_wrap(~sex) "
   ]
  },
  {
   "cell_type": "markdown",
   "metadata": {
    "slideshow": {
     "slide_type": "subslide"
    }
   },
   "source": [
    "__Up to you: Composition__\n",
    "\n",
    "b. What is the proportion of the most common names over time?"
   ]
  },
  {
   "cell_type": "code",
   "execution_count": null,
   "metadata": {},
   "outputs": [],
   "source": [
    "babynames %>%\n",
    "        group_by(name, sex) %>%\n",
    "        summarise(AvProp = mean(prop)) %>%\n",
    "        group_by(sex) %>%\n",
    "        top_n(n=10, wt=AvProp) -> top10"
   ]
  },
  {
   "cell_type": "code",
   "execution_count": null,
   "metadata": {},
   "outputs": [],
   "source": [
    "options(repr.plot.width=8, repr.plot.height=6)\n",
    "babynames %>%\n",
    "        filter(name %in% top10$name) %>%\n",
    "        ggplot(aes(x=year, y=prop, fill=name)) +\n",
    "        geom_area(position = \"stack\") +\n",
    "        facet_wrap(~sex) +\n",
    "        theme_minimal()"
   ]
  },
  {
   "cell_type": "markdown",
   "metadata": {
    "slideshow": {
     "slide_type": "subslide"
    }
   },
   "source": [
    "__Up to you: Composition__\n",
    "\n",
    "c. How did the proportion of the yearly most common names change over time?"
   ]
  },
  {
   "cell_type": "code",
   "execution_count": null,
   "metadata": {},
   "outputs": [],
   "source": [
    "options(repr.plot.width=7, repr.plot.height=4)\n",
    "babynames %>%\n",
    "        group_by(sex, year) %>%\n",
    "        top_n(n=10, wt=prop) %>%\n",
    "        summarise(Prop10 = sum(prop)) %>%\n",
    "        ggplot(aes(x=year, y=Prop10)) +\n",
    "        geom_line(aes(linetype=sex))"
   ]
  },
  {
   "cell_type": "markdown",
   "metadata": {
    "slideshow": {
     "slide_type": "subslide"
    }
   },
   "source": [
    "__Up to you: Composition__\n",
    "\n",
    "d. How did the proportion of Top 10 common names change over time in decades?"
   ]
  },
  {
   "cell_type": "code",
   "execution_count": null,
   "metadata": {},
   "outputs": [],
   "source": [
    "babynames %>% \n",
    "  group_by(sex, year) %>% \n",
    "  top_n(n = 10, wt = prop) %>%\n",
    "  summarise(PropTop10 = sum(prop)) %>%\n",
    "  ggplot(aes(x=cut_width(year, width = 10), y=PropTop10, fill=sex)) + \n",
    "  geom_col(position = \"dodge\") +\n",
    "  scale_fill_brewer() + \n",
    "  theme(axis.ticks = element_blank(),panel.background = element_blank(), axis.text.x = element_text(angle = 45))\n"
   ]
  }
 ],
 "metadata": {
  "kernelspec": {
   "display_name": "R",
   "language": "R",
   "name": "ir"
  },
  "language_info": {
   "codemirror_mode": "r",
   "file_extension": ".r",
   "mimetype": "text/x-r-source",
   "name": "R",
   "pygments_lexer": "r",
   "version": "3.6.0"
  },
  "rise": {
   "enable_chalkboard": false,
   "overlay": "<div class='logo'><img src='images/uniwue4c.png'></div>",
   "scroll": true
  },
  "toc": {
   "base_numbering": 1,
   "nav_menu": {},
   "number_sections": true,
   "sideBar": true,
   "skip_h1_title": true,
   "title_cell": "Agenda",
   "title_sidebar": "Contents",
   "toc_cell": true,
   "toc_position": {},
   "toc_section_display": true,
   "toc_window_display": false
  }
 },
 "nbformat": 4,
 "nbformat_minor": 2
}
