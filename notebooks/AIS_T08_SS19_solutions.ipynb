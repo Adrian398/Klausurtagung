{
 "cells": [
  {
   "cell_type": "markdown",
   "metadata": {
    "cell_style": "center",
    "slideshow": {
     "slide_type": "slide"
    }
   },
   "source": [
    "*Analytical Information Systems*\n",
    "\n",
    "# Tutorial 8 - Deep Learning\n",
    "\n",
    "Matthias Griebel<br>\n",
    "Lehrstuhl für Wirtschaftsinformatik und Informationsmanagement\n",
    "\n",
    "SS 2019"
   ]
  },
  {
   "cell_type": "markdown",
   "metadata": {
    "slideshow": {
     "slide_type": "subslide"
    }
   },
   "source": [
    "__WIRED: The three breakthroughs that have finally unleashed A.I. on the world!__\n",
    "<img src=\"images/08/accelerators.png\" style='width:80%'>\n",
    "\n"
   ]
  },
  {
   "cell_type": "markdown",
   "metadata": {
    "slideshow": {
     "slide_type": "subslide"
    },
    "toc": true
   },
   "source": [
    "<h1>Agenda<span class=\"tocSkip\"></span></h1>\n",
    "<div class=\"toc\"><ul class=\"toc-item\"><li><span><a href=\"#Datasets-for-Deep-Learning\" data-toc-modified-id=\"Datasets-for-Deep-Learning-1\"><span class=\"toc-item-num\">1&nbsp;&nbsp;</span>Datasets for Deep Learning</a></span><ul class=\"toc-item\"><li><span><a href=\"#Image-Data-Sets\" data-toc-modified-id=\"Image-Data-Sets-1.1\"><span class=\"toc-item-num\">1.1&nbsp;&nbsp;</span>Image Data Sets</a></span></li><li><span><a href=\"#Natural-Language-Processing-Data-Sets\" data-toc-modified-id=\"Natural-Language-Processing-Data-Sets-1.2\"><span class=\"toc-item-num\">1.2&nbsp;&nbsp;</span>Natural Language Processing Data Sets</a></span></li><li><span><a href=\"#Audio/Speech-Datasets\" data-toc-modified-id=\"Audio/Speech-Datasets-1.3\"><span class=\"toc-item-num\">1.3&nbsp;&nbsp;</span>Audio/Speech Datasets</a></span></li></ul></li><li><span><a href=\"#New-Algorithmic-Components\" data-toc-modified-id=\"New-Algorithmic-Components-2\"><span class=\"toc-item-num\">2&nbsp;&nbsp;</span>New Algorithmic Components</a></span><ul class=\"toc-item\"><li><span><a href=\"#Architectures-&amp;-Node-Types\" data-toc-modified-id=\"Architectures-&amp;-Node-Types-2.1\"><span class=\"toc-item-num\">2.1&nbsp;&nbsp;</span>Architectures &amp; Node Types</a></span></li><li><span><a href=\"#Deep-Learning-Frameworks\" data-toc-modified-id=\"Deep-Learning-Frameworks-2.2\"><span class=\"toc-item-num\">2.2&nbsp;&nbsp;</span>Deep Learning Frameworks</a></span></li></ul></li><li><span><a href=\"#Fine-Tuned-Hardware\" data-toc-modified-id=\"Fine-Tuned-Hardware-3\"><span class=\"toc-item-num\">3&nbsp;&nbsp;</span>Fine-Tuned Hardware</a></span></li><li><span><a href=\"#Basic-Classification-with-Keras-in-R\" data-toc-modified-id=\"Basic-Classification-with-Keras-in-R-4\"><span class=\"toc-item-num\">4&nbsp;&nbsp;</span>Basic Classification with Keras in R</a></span><ul class=\"toc-item\"><li><span><a href=\"#Import-the-Fashion-MNIST-Data-Set\" data-toc-modified-id=\"Import-the-Fashion-MNIST-Data-Set-4.1\"><span class=\"toc-item-num\">4.1&nbsp;&nbsp;</span>Import the Fashion MNIST Data Set</a></span></li><li><span><a href=\"#Explore-the-Data\" data-toc-modified-id=\"Explore-the-Data-4.2\"><span class=\"toc-item-num\">4.2&nbsp;&nbsp;</span>Explore the Data</a></span></li><li><span><a href=\"#Preprocess-the-Data\" data-toc-modified-id=\"Preprocess-the-Data-4.3\"><span class=\"toc-item-num\">4.3&nbsp;&nbsp;</span>Preprocess the Data</a></span></li><li><span><a href=\"#Build-the-Model\" data-toc-modified-id=\"Build-the-Model-4.4\"><span class=\"toc-item-num\">4.4&nbsp;&nbsp;</span>Build the Model</a></span></li><li><span><a href=\"#Train-the-Model\" data-toc-modified-id=\"Train-the-Model-4.5\"><span class=\"toc-item-num\">4.5&nbsp;&nbsp;</span>Train the Model</a></span></li><li><span><a href=\"#Evaluate-the-Model\" data-toc-modified-id=\"Evaluate-the-Model-4.6\"><span class=\"toc-item-num\">4.6&nbsp;&nbsp;</span>Evaluate the Model</a></span></li><li><span><a href=\"#Make-Predictions\" data-toc-modified-id=\"Make-Predictions-4.7\"><span class=\"toc-item-num\">4.7&nbsp;&nbsp;</span>Make Predictions</a></span></li></ul></li><li><span><a href=\"#Exam-Questions\" data-toc-modified-id=\"Exam-Questions-5\"><span class=\"toc-item-num\">5&nbsp;&nbsp;</span>Exam Questions</a></span><ul class=\"toc-item\"><li><span><a href=\"#Exam-AIS-WS-2018/2019\" data-toc-modified-id=\"Exam-AIS-WS-2018/2019-5.1\"><span class=\"toc-item-num\">5.1&nbsp;&nbsp;</span>Exam AIS WS 2018/2019</a></span></li></ul></li></ul></div>"
   ]
  },
  {
   "cell_type": "markdown",
   "metadata": {
    "slideshow": {
     "slide_type": "slide"
    }
   },
   "source": [
    "## Datasets for Deep Learning"
   ]
  },
  {
   "cell_type": "markdown",
   "metadata": {
    "slideshow": {
     "slide_type": "subslide"
    }
   },
   "source": [
    "### Image Data Sets"
   ]
  },
  {
   "cell_type": "markdown",
   "metadata": {
    "cell_style": "split"
   },
   "source": [
    "[__MNIST__](http://yann.lecun.com/exdb/mnist/)\n",
    "\n",
    "- Large database of handwritten digits\n",
    "- 70,000 images in 10 classes\n",
    "    - 60k training images\n",
    "    - 10k testing images\n",
    "- Size: ~50 MB\n",
    "    \n",
    "It is a good database for trying learning techniques and pattern recognition methods on real-world data while spending minimal efforts on preprocessing and formatting."
   ]
  },
  {
   "cell_type": "markdown",
   "metadata": {
    "cell_style": "split"
   },
   "source": [
    "<img src=\"https://upload.wikimedia.org/wikipedia/commons/2/27/MnistExamples.png\" style='width:100%'>\n",
    "\n",
    "\n",
    "\n",
    "\n"
   ]
  },
  {
   "cell_type": "markdown",
   "metadata": {
    "slideshow": {
     "slide_type": "subslide"
    }
   },
   "source": [
    "[__ImageNet__](http://www.image-net.org)\n",
    "\n",
    "- Designed for use in visual object recognition software research\n",
    "- ~1,500,000 images, each with multiple __bounding boxes__ and respective class labels\n",
    "- Size: ~150GB\n",
    "\n",
    "Since 2010, the ImageNet project runs an annual software contest, the ImageNet Large Scale Visual Recognition Challenge (ILSVRC). \n",
    "\n",
    "Modern Deep Learning was born on 30 September 2012, when a convolutional neural network (CNN) called AlexNet achieved a top-5 error of 15.3% in the ImageNet 2012 Challenge.\n",
    "\n",
    "<img src=\"https://s3-ap-south-1.amazonaws.com/av-blog-media/wp-content/uploads/2018/03/ImageNet.png\" style='width:100%'>\n"
   ]
  },
  {
   "cell_type": "markdown",
   "metadata": {
    "slideshow": {
     "slide_type": "subslide"
    }
   },
   "source": [
    "[__MS-COCO__](http://cocodataset.org/#home)\n",
    "\n",
    "- Designed for object detection, segmentation and captioning\n",
    "- ~ 30K images\n",
    "    - 80 object categories, \n",
    "    - 5 captions per image, \n",
    "    - 250,000 people with key points\n",
    "- Size: ~25 GB (Compressed)\n",
    "\n",
    "<img src=\"https://s3-ap-south-1.amazonaws.com/av-blog-media/wp-content/uploads/2018/03/coco.jpg\" style='width:100%'>"
   ]
  },
  {
   "cell_type": "markdown",
   "metadata": {
    "slideshow": {
     "slide_type": "subslide"
    }
   },
   "source": [
    "### Natural Language Processing Data Sets"
   ]
  },
  {
   "cell_type": "markdown",
   "metadata": {},
   "source": [
    "[__IMDB Reviews__](http://cocodataset.org/#home)\n",
    "\n",
    "- Contains movie reviews along with their associated binary sentiment polarity labels\n",
    "- 50,000 reviews \n",
    "    - 25k highly polar movie reviews for training\n",
    "    - 25k for testing\n",
    "- Size: ~80 MB\n",
    "\n",
    "It is intended to serve as a benchmark for sentiment classification. \n",
    "\n",
    "More NLP data sets: [Twenty Newsgroups](https://archive.ics.uci.edu/ml/datasets/Twenty+Newsgroups), [Sentiment140](http://help.sentiment140.com/for-students/), [WordNet](https://wordnet.princeton.edu/), [Yelp Reviews](https://www.yelp.com/dataset)"
   ]
  },
  {
   "cell_type": "markdown",
   "metadata": {
    "slideshow": {
     "slide_type": "subslide"
    }
   },
   "source": [
    "### Audio/Speech Datasets"
   ]
  },
  {
   "cell_type": "markdown",
   "metadata": {},
   "source": [
    "[__Free Spoken Digit Dataset__](https://github.com/Jakobovski/free-spoken-digit-dataset)\n",
    "\n",
    "- Created to solve the task of identifying spoken digits in audio samples\n",
    "- 1,500 recordings (50 of each digit per speaker)\n",
    "    - 3 speakers\n",
    "- English pronunciations\n",
    "- Size: ~10 MB\n",
    "\n",
    "It is intended to serve as a benchmark for sentiment classification. \n",
    "\n",
    "Other data sets\n",
    "- [Free Music Archive (FMA)](https://github.com/mdeff/fma)\n",
    "- [Ballroom] (http://mtg.upf.edu/ismir2004/contest/tempoContest/node5.html)\n"
   ]
  },
  {
   "cell_type": "markdown",
   "metadata": {
    "slideshow": {
     "slide_type": "slide"
    }
   },
   "source": [
    "## New Algorithmic Components"
   ]
  },
  {
   "cell_type": "markdown",
   "metadata": {
    "slideshow": {
     "slide_type": "subslide"
    }
   },
   "source": [
    "### Architectures & Node Types\n",
    "\n",
    "- Convolutional Neural Networks (CNN)\n",
    "- Long Short Term Memory (LSTM)\n",
    "- Drop-out layers\n",
    "- Auto encoder hierarchies\n"
   ]
  },
  {
   "cell_type": "markdown",
   "metadata": {},
   "source": [
    "__CNN Architecture Comparison__\n",
    "\n",
    "<img src=\"https://miro.medium.com/max/700/1*ZqkLRkMU2ObOQWIHLBg8sw.png\" style='width:100%'>\n"
   ]
  },
  {
   "cell_type": "markdown",
   "metadata": {
    "slideshow": {
     "slide_type": "subslide"
    }
   },
   "source": [
    "### Deep Learning Frameworks\n",
    "\n",
    "- Deep learning frameworks offer building blocks for designing, training and validating deep neural networks\n",
    "- Allows for easy and fast prototyping\n",
    "\n",
    "<img src=\"https://miro.medium.com/max/700/1*s_BwkYxpGv34vjOHi8tDzg.png\" style='width:70%'>\n",
    "\n",
    "[Source](https://towardsdatascience.com/deep-learning-framework-power-scores-2018-23607ddf297a)\n"
   ]
  },
  {
   "cell_type": "markdown",
   "metadata": {
    "slideshow": {
     "slide_type": "subslide"
    }
   },
   "source": [
    "__Deep learning frameworks are changing rapidly__\n",
    "\n",
    "<img src=\"images/08/dl_trends.png\" style='width:100%'>"
   ]
  },
  {
   "cell_type": "markdown",
   "metadata": {
    "slideshow": {
     "slide_type": "subslide"
    }
   },
   "source": [
    "__ImageNet Pretrained Models on [Keras](https://keras.io/applications/)__\n",
    "\n",
    "\n",
    "- Xception\n",
    "- VGG16\n",
    "- VGG19\n",
    "- ResNet, ResNetV2, ResNeXt\n",
    "- InceptionV3\n",
    "- InceptionResNetV2\n",
    "- MobileNet\n",
    "- MobileNetV2\n",
    "- DenseNet\n",
    "- NASNet"
   ]
  },
  {
   "cell_type": "markdown",
   "metadata": {
    "slideshow": {
     "slide_type": "slide"
    }
   },
   "source": [
    "## Fine-Tuned Hardware"
   ]
  },
  {
   "cell_type": "markdown",
   "metadata": {
    "slideshow": {
     "slide_type": "subslide"
    }
   },
   "source": [
    "__Hardware for Deep Learning__\n",
    "\n",
    "- __GPU__ (Graphics processing unit) are well suited for Deep Learning \n",
    "     - Efficient for matrix multiplication and convolution (parallelized operations)\n",
    "     - Sequential code is still faster on CPUs\n",
    "     \n",
    "- __TPUs__ (tensor processing units) are specifically designed for neural network machine learning\n",
    "\n",
    "<img src=\"https://cloud.google.com/images/products/tpu/machine-learning-performance.png\" style='width:50%'>"
   ]
  },
  {
   "cell_type": "markdown",
   "metadata": {
    "slideshow": {
     "slide_type": "subslide"
    }
   },
   "source": [
    "__We will be using Google Colab today__\n",
    "\n",
    "<img alt=\"Colaboratory logo\" height=\"45px\" src=\"https://colab.research.google.com/img/colab_favicon.ico\" align=\"right\" hspace=\"10px\" vspace=\"0px\">\n",
    "\n",
    "[Colaboratory](https://colab.research.google.com/) is a free Jupyter notebook environment that requires no setup and runs entirely in the cloud.\n",
    "\n",
    "With Colaboratory you can \n",
    "- write and execute code, \n",
    "- save and share your analyses, and \n",
    "- access powerful computing resources (GPU and TPU), \n",
    "\n",
    "all for free from your browser. [More information](https://colab.research.google.com/notebooks/welcome.ipynb)\n",
    "\n",
    "If you want to run the code of today's tutorial, you need to login to Google Colab with your Google account."
   ]
  },
  {
   "cell_type": "markdown",
   "metadata": {
    "slideshow": {
     "slide_type": "slide"
    }
   },
   "source": [
    "## Basic Classification with Keras in R "
   ]
  },
  {
   "cell_type": "markdown",
   "metadata": {
    "slideshow": {
     "slide_type": "subslide"
    }
   },
   "source": [
    "__We will train a neural network model to classify images of clothing, like sneakers and shirts__\n",
    "\n",
    "The code is adopted from https://keras.rstudio.com/articles/tutorial_basic_classification.html.\n",
    "\n",
    "First, we need to install and load the required R packages"
   ]
  },
  {
   "cell_type": "code",
   "execution_count": 11,
   "metadata": {
    "slideshow": {
     "slide_type": "-"
    }
   },
   "outputs": [
    {
     "name": "stderr",
     "output_type": "stream",
     "text": [
      "Installing package into ‘/usr/local/lib/R/3.6/site-library’\n",
      "(as ‘lib’ is unspecified)\n",
      "Warning message in install.packages(\"keras\"):\n",
      "“installation of package ‘keras’ had non-zero exit status”"
     ]
    }
   ],
   "source": [
    "install.packages('keras')"
   ]
  },
  {
   "cell_type": "code",
   "execution_count": 1,
   "metadata": {},
   "outputs": [
    {
     "name": "stderr",
     "output_type": "stream",
     "text": [
      "Registered S3 methods overwritten by 'ggplot2':\n",
      "  method         from \n",
      "  [.quosures     rlang\n",
      "  c.quosures     rlang\n",
      "  print.quosures rlang\n",
      "── \u001b[1mAttaching packages\u001b[22m ─────────────────────────────────────── tidyverse 1.2.1 ──\n",
      "\u001b[32m✔\u001b[39m \u001b[34mggplot2\u001b[39m 3.1.1     \u001b[32m✔\u001b[39m \u001b[34mpurrr  \u001b[39m 0.3.2\n",
      "\u001b[32m✔\u001b[39m \u001b[34mtibble \u001b[39m 2.1.1     \u001b[32m✔\u001b[39m \u001b[34mdplyr  \u001b[39m 0.8.1\n",
      "\u001b[32m✔\u001b[39m \u001b[34mtidyr  \u001b[39m 0.8.3     \u001b[32m✔\u001b[39m \u001b[34mstringr\u001b[39m 1.4.0\n",
      "\u001b[32m✔\u001b[39m \u001b[34mreadr  \u001b[39m 1.3.1     \u001b[32m✔\u001b[39m \u001b[34mforcats\u001b[39m 0.4.0\n",
      "── \u001b[1mConflicts\u001b[22m ────────────────────────────────────────── tidyverse_conflicts() ──\n",
      "\u001b[31m✖\u001b[39m \u001b[34mdplyr\u001b[39m::\u001b[32mfilter()\u001b[39m  masks \u001b[34mstats\u001b[39m::filter()\n",
      "\u001b[31m✖\u001b[39m \u001b[34mpurrr\u001b[39m::\u001b[32mflatten()\u001b[39m masks \u001b[34mjsonlite\u001b[39m::flatten()\n",
      "\u001b[31m✖\u001b[39m \u001b[34mdplyr\u001b[39m::\u001b[32mlag()\u001b[39m     masks \u001b[34mstats\u001b[39m::lag()\n"
     ]
    }
   ],
   "source": [
    "library(keras)\n",
    "library(tidyverse)"
   ]
  },
  {
   "cell_type": "markdown",
   "metadata": {
    "slideshow": {
     "slide_type": "subslide"
    }
   },
   "source": [
    "### Import the Fashion MNIST Data Set"
   ]
  },
  {
   "cell_type": "markdown",
   "metadata": {
    "cell_style": "split",
    "slideshow": {
     "slide_type": "-"
    }
   },
   "source": [
    "We will use the [Fashion MNIST](https://github.com/zalandoresearch/fashion-mnist) data set\n",
    "- 70,000 grayscale images in 10 categories\n",
    "    - 60k training images\n",
    "    - 10k testing images\n",
    "- The images show individual articles of clothing at low resolution (28 by 28 pixels)\n",
    "\n",
    "\n",
    "__Why Fashion MNIST?__\n",
    "\n",
    "Fashion MNIST is a slightly more challenging problem than regular MNIST. "
   ]
  },
  {
   "cell_type": "markdown",
   "metadata": {
    "cell_style": "split",
    "slideshow": {
     "slide_type": "-"
    }
   },
   "source": [
    "<img src='https://keras.rstudio.com/articles/images/fashion_mnist.png' style='width:80%'>"
   ]
  },
  {
   "cell_type": "markdown",
   "metadata": {
    "slideshow": {
     "slide_type": "subslide"
    }
   },
   "source": [
    "We can access the Fashion MNIST directly from Keras"
   ]
  },
  {
   "cell_type": "code",
   "execution_count": 2,
   "metadata": {},
   "outputs": [],
   "source": [
    "fashion_mnist <- dataset_fashion_mnist()\n",
    "c(train_images, train_labels) %<-% fashion_mnist$train\n",
    "c(test_images, test_labels) %<-% fashion_mnist$test"
   ]
  },
  {
   "cell_type": "markdown",
   "metadata": {
    "slideshow": {
     "slide_type": "-"
    }
   },
   "source": [
    "At this point we have four arrays: \n",
    "- `train_image` and `train_label` arrays are the training set\n",
    "- `test_image` and `test_labels array` are the test set"
   ]
  },
  {
   "cell_type": "markdown",
   "metadata": {
    "slideshow": {
     "slide_type": "subslide"
    }
   },
   "source": [
    "The images each are 28 x 28 arrays, with pixel values ranging between 0 and 255. The labels are arrays of integers, ranging from 0 to 9. These correspond to the class of clothing the image represents:\n",
    "\n",
    "Digit  | Class\n",
    "-------| -------------\n",
    "0 | T-shirt/top\n",
    "1 | Trouser\n",
    "2 | Pullover\n",
    "3 | Dress\n",
    "4 | Coat\n",
    "5 | Sandal\n",
    "6 | Shirt\n",
    "7 | Sneaker\n",
    "8 | Bag\n",
    "9 | Ankle boot"
   ]
  },
  {
   "cell_type": "markdown",
   "metadata": {
    "slideshow": {
     "slide_type": "subslide"
    }
   },
   "source": [
    "Each image is mapped to a single label. Since the class names are not included with the dataset, we'll store them in a vector to use later when plotting the images."
   ]
  },
  {
   "cell_type": "code",
   "execution_count": 38,
   "metadata": {},
   "outputs": [],
   "source": [
    "class_names = c('T-shirt/top',\n",
    "                'Trouser',\n",
    "                'Pullover',\n",
    "                'Dress',\n",
    "                'Coat', \n",
    "                'Sandal',\n",
    "                'Shirt',\n",
    "                'Sneaker',\n",
    "                'Bag',\n",
    "                'Ankle boot')"
   ]
  },
  {
   "cell_type": "markdown",
   "metadata": {
    "slideshow": {
     "slide_type": "subslide"
    }
   },
   "source": [
    "### Explore the Data\n",
    "\n",
    "Let's explore the format of the dataset before training the model. The following shows there are 60,000 images in the training set, with each image represented as 28 x 28 pixels:"
   ]
  },
  {
   "cell_type": "code",
   "execution_count": 4,
   "metadata": {},
   "outputs": [
    {
     "data": {
      "text/html": [
       "<ol class=list-inline>\n",
       "\t<li>60000</li>\n",
       "\t<li>28</li>\n",
       "\t<li>28</li>\n",
       "</ol>\n"
      ],
      "text/latex": [
       "\\begin{enumerate*}\n",
       "\\item 60000\n",
       "\\item 28\n",
       "\\item 28\n",
       "\\end{enumerate*}\n"
      ],
      "text/markdown": [
       "1. 60000\n",
       "2. 28\n",
       "3. 28\n",
       "\n",
       "\n"
      ],
      "text/plain": [
       "[1] 60000    28    28"
      ]
     },
     "metadata": {},
     "output_type": "display_data"
    }
   ],
   "source": [
    "dim(train_images)"
   ]
  },
  {
   "cell_type": "markdown",
   "metadata": {},
   "source": [
    "Likewise, there are 60,000 labels in the training set:"
   ]
  },
  {
   "cell_type": "code",
   "execution_count": 5,
   "metadata": {},
   "outputs": [
    {
     "data": {
      "text/html": [
       "60000"
      ],
      "text/latex": [
       "60000"
      ],
      "text/markdown": [
       "60000"
      ],
      "text/plain": [
       "[1] 60000"
      ]
     },
     "metadata": {},
     "output_type": "display_data"
    }
   ],
   "source": [
    "dim(train_labels)"
   ]
  },
  {
   "cell_type": "code",
   "execution_count": 6,
   "metadata": {},
   "outputs": [
    {
     "data": {
      "text/html": [
       "<ol class=list-inline>\n",
       "\t<li>9</li>\n",
       "\t<li>0</li>\n",
       "\t<li>0</li>\n",
       "\t<li>3</li>\n",
       "\t<li>0</li>\n",
       "\t<li>2</li>\n",
       "\t<li>7</li>\n",
       "\t<li>2</li>\n",
       "\t<li>5</li>\n",
       "\t<li>5</li>\n",
       "\t<li>0</li>\n",
       "\t<li>9</li>\n",
       "\t<li>5</li>\n",
       "\t<li>5</li>\n",
       "\t<li>7</li>\n",
       "\t<li>9</li>\n",
       "\t<li>1</li>\n",
       "\t<li>0</li>\n",
       "\t<li>6</li>\n",
       "\t<li>4</li>\n",
       "</ol>\n"
      ],
      "text/latex": [
       "\\begin{enumerate*}\n",
       "\\item 9\n",
       "\\item 0\n",
       "\\item 0\n",
       "\\item 3\n",
       "\\item 0\n",
       "\\item 2\n",
       "\\item 7\n",
       "\\item 2\n",
       "\\item 5\n",
       "\\item 5\n",
       "\\item 0\n",
       "\\item 9\n",
       "\\item 5\n",
       "\\item 5\n",
       "\\item 7\n",
       "\\item 9\n",
       "\\item 1\n",
       "\\item 0\n",
       "\\item 6\n",
       "\\item 4\n",
       "\\end{enumerate*}\n"
      ],
      "text/markdown": [
       "1. 9\n",
       "2. 0\n",
       "3. 0\n",
       "4. 3\n",
       "5. 0\n",
       "6. 2\n",
       "7. 7\n",
       "8. 2\n",
       "9. 5\n",
       "10. 5\n",
       "11. 0\n",
       "12. 9\n",
       "13. 5\n",
       "14. 5\n",
       "15. 7\n",
       "16. 9\n",
       "17. 1\n",
       "18. 0\n",
       "19. 6\n",
       "20. 4\n",
       "\n",
       "\n"
      ],
      "text/plain": [
       " [1] 9 0 0 3 0 2 7 2 5 5 0 9 5 5 7 9 1 0 6 4"
      ]
     },
     "metadata": {},
     "output_type": "display_data"
    }
   ],
   "source": [
    "train_labels[1:20]"
   ]
  },
  {
   "cell_type": "markdown",
   "metadata": {
    "slideshow": {
     "slide_type": "subslide"
    }
   },
   "source": [
    "There are 10,000 images in the test set. Again, each image is represented as 28 x 28 pixels:"
   ]
  },
  {
   "cell_type": "code",
   "execution_count": 7,
   "metadata": {},
   "outputs": [
    {
     "data": {
      "text/html": [
       "<ol class=list-inline>\n",
       "\t<li>10000</li>\n",
       "\t<li>28</li>\n",
       "\t<li>28</li>\n",
       "</ol>\n"
      ],
      "text/latex": [
       "\\begin{enumerate*}\n",
       "\\item 10000\n",
       "\\item 28\n",
       "\\item 28\n",
       "\\end{enumerate*}\n"
      ],
      "text/markdown": [
       "1. 10000\n",
       "2. 28\n",
       "3. 28\n",
       "\n",
       "\n"
      ],
      "text/plain": [
       "[1] 10000    28    28"
      ]
     },
     "metadata": {},
     "output_type": "display_data"
    }
   ],
   "source": [
    "dim(test_images)"
   ]
  },
  {
   "cell_type": "markdown",
   "metadata": {},
   "source": [
    "And the test set contains 10,000 images labels:"
   ]
  },
  {
   "cell_type": "code",
   "execution_count": 8,
   "metadata": {},
   "outputs": [
    {
     "data": {
      "text/html": [
       "10000"
      ],
      "text/latex": [
       "10000"
      ],
      "text/markdown": [
       "10000"
      ],
      "text/plain": [
       "[1] 10000"
      ]
     },
     "metadata": {},
     "output_type": "display_data"
    }
   ],
   "source": [
    "dim(test_labels)"
   ]
  },
  {
   "cell_type": "markdown",
   "metadata": {
    "slideshow": {
     "slide_type": "subslide"
    }
   },
   "source": [
    "### Preprocess the Data\n",
    "\n",
    "The data must be preprocessed before training the network. If you inspect the first image in the training set, you will see that the pixel values fall in the range of 0 to 255:"
   ]
  },
  {
   "cell_type": "code",
   "execution_count": 39,
   "metadata": {},
   "outputs": [
    {
     "data": {
      "image/png": "[encoded data removed]",
      "text/plain": [
       "plot without title"
      ]
     },
     "metadata": {},
     "output_type": "display_data"
    }
   ],
   "source": [
    "options(repr.plot.width=3, repr.plot.height=3) \n",
    "image_1 <- as.data.frame(train_images[1, , ])\n",
    "colnames(image_1) <- seq_len(ncol(image_1))\n",
    "image_1$y <- seq_len(nrow(image_1))\n",
    "image_1 <- gather(image_1, \"x\", \"value\", -y)\n",
    "image_1$x <- as.integer(image_1$x)\n",
    "ggplot(image_1, aes(x = x, y = y, fill = value)) +\n",
    "    geom_tile() +\n",
    "    scale_fill_gradient(low = \"white\", high = \"black\", na.value = NA) +\n",
    "    scale_y_reverse() +\n",
    "    theme_minimal() +\n",
    "    theme(panel.grid = element_blank())   +\n",
    "    theme(aspect.ratio = 1) +\n",
    "    xlab(\"\") +\n",
    "    ylab(\"\")"
   ]
  },
  {
   "cell_type": "markdown",
   "metadata": {
    "slideshow": {
     "slide_type": "subslide"
    }
   },
   "source": [
    "We scale these values to a range of 0 to 1 before feeding to the neural network model. For this, we simply divide by 255. \n",
    "\n",
    "It's important that the training set and the testing set are preprocessed in the same way:"
   ]
  },
  {
   "cell_type": "code",
   "execution_count": 40,
   "metadata": {},
   "outputs": [],
   "source": [
    "train_images <- train_images / 255\n",
    "test_images <- test_images / 255"
   ]
  },
  {
   "cell_type": "markdown",
   "metadata": {
    "slideshow": {
     "slide_type": "subslide"
    }
   },
   "source": [
    "Display the first 25 images from the training set and display the class name below each image. \n",
    "Verify that the data is in the correct format and we're ready to build and train the network."
   ]
  },
  {
   "cell_type": "code",
   "execution_count": 41,
   "metadata": {},
   "outputs": [
    {
     "data": {
      "image/png": "[encoded data removed]",
      "text/plain": [
       "Plot with title “Coat”"
      ]
     },
     "metadata": {},
     "output_type": "display_data"
    }
   ],
   "source": [
    "options(repr.plot.width=5, repr.plot.height=5) \n",
    "par(mfcol=c(5,5))\n",
    "par(mar=c(0, 0, 1.5, 0), xaxs='i', yaxs='i')\n",
    "for (i in 1:25) { \n",
    "  img <- train_images[i, , ]\n",
    "  img <- t(apply(img, 2, rev)) \n",
    "  image(1:28, 1:28, img, col = gray((0:255)/255), xaxt = 'n', yaxt = 'n',\n",
    "        main = paste(class_names[train_labels[i] + 1]))\n",
    "}"
   ]
  },
  {
   "cell_type": "markdown",
   "metadata": {
    "slideshow": {
     "slide_type": "subslide"
    }
   },
   "source": [
    "For our CNN, we need to add one channel at the end of our images"
   ]
  },
  {
   "cell_type": "code",
   "execution_count": 42,
   "metadata": {},
   "outputs": [],
   "source": [
    "x_train <- train_images %>%\n",
    "    array_reshape(c(60000, 28, 28, 1))\n",
    "x_test <- test_images %>%\n",
    "    array_reshape(c(10000, 28, 28, 1))"
   ]
  },
  {
   "cell_type": "code",
   "execution_count": 43,
   "metadata": {},
   "outputs": [
    {
     "data": {
      "text/html": [
       "<ol class=list-inline>\n",
       "\t<li>60000</li>\n",
       "\t<li>28</li>\n",
       "\t<li>28</li>\n",
       "</ol>\n"
      ],
      "text/latex": [
       "\\begin{enumerate*}\n",
       "\\item 60000\n",
       "\\item 28\n",
       "\\item 28\n",
       "\\end{enumerate*}\n"
      ],
      "text/markdown": [
       "1. 60000\n",
       "2. 28\n",
       "3. 28\n",
       "\n",
       "\n"
      ],
      "text/plain": [
       "[1] 60000    28    28"
      ]
     },
     "metadata": {},
     "output_type": "display_data"
    },
    {
     "data": {
      "text/html": [
       "<ol class=list-inline>\n",
       "\t<li>60000</li>\n",
       "\t<li>28</li>\n",
       "\t<li>28</li>\n",
       "\t<li>1</li>\n",
       "</ol>\n"
      ],
      "text/latex": [
       "\\begin{enumerate*}\n",
       "\\item 60000\n",
       "\\item 28\n",
       "\\item 28\n",
       "\\item 1\n",
       "\\end{enumerate*}\n"
      ],
      "text/markdown": [
       "1. 60000\n",
       "2. 28\n",
       "3. 28\n",
       "4. 1\n",
       "\n",
       "\n"
      ],
      "text/plain": [
       "[1] 60000    28    28     1"
      ]
     },
     "metadata": {},
     "output_type": "display_data"
    }
   ],
   "source": [
    "dim(train_images)\n",
    "dim(x_train)"
   ]
  },
  {
   "cell_type": "markdown",
   "metadata": {
    "slideshow": {
     "slide_type": "subslide"
    }
   },
   "source": [
    "### Build the Model \n",
    "\n",
    "Building the neural network in Keras requires configuring the layers of the model, then compiling the model.\n",
    "\n"
   ]
  },
  {
   "cell_type": "markdown",
   "metadata": {
    "slideshow": {
     "slide_type": "subslide"
    }
   },
   "source": [
    "__Setup the layers__\n",
    "\n",
    "The basic building block of a neural network is the layer. Layers extract representations from the data fed into them. And, hopefully, these representations are more meaningful for the problem at hand.\n",
    "\n",
    "Most of deep learning consists of chaining together simple layers. Most layers, like `layer_dense` and `conv_layers`, have parameters that are learned during training."
   ]
  },
  {
   "cell_type": "code",
   "execution_count": 22,
   "metadata": {},
   "outputs": [],
   "source": [
    "model <- keras_model_sequential()\n",
    "model %>%\n",
    "    layer_conv_2d(filters = 32, kernel_size = c(3,3), activation = 'relu', input_shape = c(28, 28, 1)) %>%\n",
    "    layer_max_pooling_2d(pool_size = c(2,2)) %>%\n",
    "    layer_flatten() %>%\n",
    "    layer_dense(units = 128, activation = 'relu') %>%\n",
    "    layer_dropout(rate = 0.5) %>%\n",
    "    layer_dense(units = 10, activation = 'softmax')"
   ]
  },
  {
   "cell_type": "code",
   "execution_count": 23,
   "metadata": {},
   "outputs": [
    {
     "name": "stdout",
     "output_type": "stream",
     "text": [
      "________________________________________________________________________________\n",
      "Layer (type)                        Output Shape                    Param #     \n",
      "================================================================================\n",
      "conv2d_2 (Conv2D)                   (None, 26, 26, 32)              320         \n",
      "________________________________________________________________________________\n",
      "conv2d_3 (Conv2D)                   (None, 24, 24, 64)              18496       \n",
      "________________________________________________________________________________\n",
      "max_pooling2d_2 (MaxPooling2D)      (None, 12, 12, 64)              0           \n",
      "________________________________________________________________________________\n",
      "flatten_2 (Flatten)                 (None, 9216)                    0           \n",
      "________________________________________________________________________________\n",
      "dense_4 (Dense)                     (None, 128)                     1179776     \n",
      "________________________________________________________________________________\n",
      "dropout_2 (Dropout)                 (None, 128)                     0           \n",
      "________________________________________________________________________________\n",
      "dense_5 (Dense)                     (None, 10)                      1290        \n",
      "================================================================================\n",
      "Total params: 1,199,882\n",
      "Trainable params: 1,199,882\n",
      "Non-trainable params: 0\n",
      "________________________________________________________________________________\n"
     ]
    }
   ],
   "source": [
    "summary(model)"
   ]
  },
  {
   "cell_type": "markdown",
   "metadata": {
    "slideshow": {
     "slide_type": "subslide"
    }
   },
   "source": [
    "__Compile the model__\n",
    "\n",
    "Before the model is ready for training, it needs a few more settings. These are added during the model's compile step:\n",
    "\n",
    "- __Loss function__ - This measures how accurate the model is during training. We want to minimize this function to \"steer\" the model in the right direction.\n",
    "- __Optimizer__ - This is how the model is updated based on the data it sees and its loss function.\n",
    "- __Metrics__ - Used to monitor the training and testing steps. The following example uses accuracy, the fraction of the images that are correctly classified."
   ]
  },
  {
   "cell_type": "code",
   "execution_count": 25,
   "metadata": {},
   "outputs": [],
   "source": [
    "model %>% compile(\n",
    "    optimizer = 'adam', \n",
    "    loss = 'sparse_categorical_crossentropy',\n",
    "    metrics = c('accuracy')\n",
    ")"
   ]
  },
  {
   "cell_type": "markdown",
   "metadata": {
    "slideshow": {
     "slide_type": "subslide"
    }
   },
   "source": [
    "### Train the Model"
   ]
  },
  {
   "cell_type": "markdown",
   "metadata": {},
   "source": [
    "Training the neural network model requires the following steps:\n",
    "\n",
    " - Feed the training data to the model — in this example, the `train_images` and `train_labels` arrays.\n",
    " - The model learns to associate images and labels.\n",
    " - We ask the model to make predictions about a test set — in this example, the test_images array. We verify that the predictions match the labels from the test_labels array.\n",
    "\n",
    "To start training, call the `fit` method — the model is \"fit\" to the training data:"
   ]
  },
  {
   "cell_type": "code",
   "execution_count": 26,
   "metadata": {},
   "outputs": [],
   "source": [
    "history <- model %>% fit(x_train, train_labels, epochs = 10)"
   ]
  },
  {
   "cell_type": "markdown",
   "metadata": {
    "slideshow": {
     "slide_type": "subslide"
    }
   },
   "source": [
    "Plot training history"
   ]
  },
  {
   "cell_type": "code",
   "execution_count": 28,
   "metadata": {},
   "outputs": [
    {
     "data": {
      "image/png": "[encoded data removed]",
      "text/plain": [
       "plot without title"
      ]
     },
     "metadata": {},
     "output_type": "display_data"
    }
   ],
   "source": [
    "plot(history)"
   ]
  },
  {
   "cell_type": "markdown",
   "metadata": {
    "slideshow": {
     "slide_type": "subslide"
    }
   },
   "source": [
    "### Evaluate the Model"
   ]
  },
  {
   "cell_type": "markdown",
   "metadata": {},
   "source": [
    "Next, compare how the model performs on the test data set"
   ]
  },
  {
   "cell_type": "code",
   "execution_count": 31,
   "metadata": {},
   "outputs": [
    {
     "name": "stdout",
     "output_type": "stream",
     "text": [
      "Test loss: 14.50629 \n",
      "Test accuracy: 0.1 \n"
     ]
    }
   ],
   "source": [
    "score <- model %>% evaluate(x_test, test_labels)\n",
    "cat('Test loss:', score$loss, \"\\n\")\n",
    "cat('Test accuracy:', score$acc, \"\\n\")"
   ]
  },
  {
   "cell_type": "markdown",
   "metadata": {},
   "source": [
    "It turns out, the accuracy on the test dataset is a little less than the accuracy on the training dataset. This gap between training accuracy and test accuracy is an example of overfitting. Overfitting is when a machine learning model performs worse on new data than on their training data."
   ]
  },
  {
   "cell_type": "markdown",
   "metadata": {
    "slideshow": {
     "slide_type": "subslide"
    }
   },
   "source": [
    "### Make Predictions\n",
    "\n",
    "With the model trained, we can use it to make predictions about some images."
   ]
  },
  {
   "cell_type": "code",
   "execution_count": 32,
   "metadata": {},
   "outputs": [],
   "source": [
    "predictions <- model %>% predict(x_test)"
   ]
  },
  {
   "cell_type": "markdown",
   "metadata": {
    "slideshow": {
     "slide_type": "subslide"
    }
   },
   "source": [
    "Here, the model has predicted the label for each image in the testing set. Let's take a look at the first prediction:"
   ]
  },
  {
   "cell_type": "code",
   "execution_count": 33,
   "metadata": {},
   "outputs": [
    {
     "data": {
      "text/html": [
       "<ol class=list-inline>\n",
       "\t<li>0</li>\n",
       "\t<li>0</li>\n",
       "\t<li>0</li>\n",
       "\t<li>0</li>\n",
       "\t<li>0</li>\n",
       "\t<li>1</li>\n",
       "\t<li>0</li>\n",
       "\t<li>0</li>\n",
       "\t<li>0</li>\n",
       "\t<li>0</li>\n",
       "</ol>\n"
      ],
      "text/latex": [
       "\\begin{enumerate*}\n",
       "\\item 0\n",
       "\\item 0\n",
       "\\item 0\n",
       "\\item 0\n",
       "\\item 0\n",
       "\\item 1\n",
       "\\item 0\n",
       "\\item 0\n",
       "\\item 0\n",
       "\\item 0\n",
       "\\end{enumerate*}\n"
      ],
      "text/markdown": [
       "1. 0\n",
       "2. 0\n",
       "3. 0\n",
       "4. 0\n",
       "5. 0\n",
       "6. 1\n",
       "7. 0\n",
       "8. 0\n",
       "9. 0\n",
       "10. 0\n",
       "\n",
       "\n"
      ],
      "text/plain": [
       " [1] 0 0 0 0 0 1 0 0 0 0"
      ]
     },
     "metadata": {},
     "output_type": "display_data"
    }
   ],
   "source": [
    "predictions[1, ]"
   ]
  },
  {
   "cell_type": "markdown",
   "metadata": {},
   "source": [
    "A prediction is an array of 10 numbers. These describe the \"confidence\" of the model that the image corresponds to each of the 10 different articles of clothing. We can see which label has the highest confidence value:"
   ]
  },
  {
   "cell_type": "code",
   "execution_count": 34,
   "metadata": {},
   "outputs": [
    {
     "data": {
      "text/html": [
       "6"
      ],
      "text/latex": [
       "6"
      ],
      "text/markdown": [
       "6"
      ],
      "text/plain": [
       "[1] 6"
      ]
     },
     "metadata": {},
     "output_type": "display_data"
    }
   ],
   "source": [
    "which.max(predictions[1, ])"
   ]
  },
  {
   "cell_type": "markdown",
   "metadata": {
    "slideshow": {
     "slide_type": "subslide"
    }
   },
   "source": [
    "Alternatively, we can also directly get the class prediction:"
   ]
  },
  {
   "cell_type": "code",
   "execution_count": 35,
   "metadata": {},
   "outputs": [
    {
     "data": {
      "text/html": [
       "<ol class=list-inline>\n",
       "\t<li>5</li>\n",
       "\t<li>5</li>\n",
       "\t<li>5</li>\n",
       "\t<li>5</li>\n",
       "\t<li>5</li>\n",
       "\t<li>5</li>\n",
       "\t<li>5</li>\n",
       "\t<li>5</li>\n",
       "\t<li>5</li>\n",
       "\t<li>5</li>\n",
       "\t<li>5</li>\n",
       "\t<li>5</li>\n",
       "\t<li>5</li>\n",
       "\t<li>5</li>\n",
       "\t<li>5</li>\n",
       "\t<li>5</li>\n",
       "\t<li>5</li>\n",
       "\t<li>5</li>\n",
       "\t<li>5</li>\n",
       "\t<li>5</li>\n",
       "</ol>\n"
      ],
      "text/latex": [
       "\\begin{enumerate*}\n",
       "\\item 5\n",
       "\\item 5\n",
       "\\item 5\n",
       "\\item 5\n",
       "\\item 5\n",
       "\\item 5\n",
       "\\item 5\n",
       "\\item 5\n",
       "\\item 5\n",
       "\\item 5\n",
       "\\item 5\n",
       "\\item 5\n",
       "\\item 5\n",
       "\\item 5\n",
       "\\item 5\n",
       "\\item 5\n",
       "\\item 5\n",
       "\\item 5\n",
       "\\item 5\n",
       "\\item 5\n",
       "\\end{enumerate*}\n"
      ],
      "text/markdown": [
       "1. 5\n",
       "2. 5\n",
       "3. 5\n",
       "4. 5\n",
       "5. 5\n",
       "6. 5\n",
       "7. 5\n",
       "8. 5\n",
       "9. 5\n",
       "10. 5\n",
       "11. 5\n",
       "12. 5\n",
       "13. 5\n",
       "14. 5\n",
       "15. 5\n",
       "16. 5\n",
       "17. 5\n",
       "18. 5\n",
       "19. 5\n",
       "20. 5\n",
       "\n",
       "\n"
      ],
      "text/plain": [
       " [1] 5 5 5 5 5 5 5 5 5 5 5 5 5 5 5 5 5 5 5 5"
      ]
     },
     "metadata": {},
     "output_type": "display_data"
    }
   ],
   "source": [
    "class_pred <- model %>% predict_classes(x_test)\n",
    "class_pred[1:20]"
   ]
  },
  {
   "cell_type": "markdown",
   "metadata": {},
   "source": [
    "As the labels are 0-based, this actually means a predicted label of 9 (to be found in class_names[9]). So the model is most confident that this image is an ankle boot.\n",
    "And we can check the test label to see this is correct:"
   ]
  },
  {
   "cell_type": "code",
   "execution_count": 36,
   "metadata": {},
   "outputs": [
    {
     "data": {
      "text/html": [
       "9"
      ],
      "text/latex": [
       "9"
      ],
      "text/markdown": [
       "9"
      ],
      "text/plain": [
       "[1] 9"
      ]
     },
     "metadata": {},
     "output_type": "display_data"
    }
   ],
   "source": [
    "test_labels[1]"
   ]
  },
  {
   "cell_type": "markdown",
   "metadata": {
    "slideshow": {
     "slide_type": "subslide"
    }
   },
   "source": [
    "Let's plot several images with their predictions. Correct prediction labels are green and incorrect prediction labels are red."
   ]
  },
  {
   "cell_type": "code",
   "execution_count": 37,
   "metadata": {},
   "outputs": [
    {
     "data": {
      "image/png": "[encoded data removed]",
      "text/plain": [
       "Plot with title “Sandal (Trouser)”"
      ]
     },
     "metadata": {},
     "output_type": "display_data"
    }
   ],
   "source": [
    "options(repr.plot.width=7, repr.plot.height=7) \n",
    "par(mfcol=c(5,5))\n",
    "par(mar=c(0, 0, 1.5, 0), xaxs='i', yaxs='i')\n",
    "for (i in 1:25) { \n",
    "  img <- test_images[i, , ]\n",
    "  img <- t(apply(img, 2, rev)) \n",
    "  # subtract 1 as labels go from 0 to 9\n",
    "  predicted_label <- which.max(predictions[i, ]) - 1\n",
    "  true_label <- test_labels[i]\n",
    "  if (predicted_label == true_label) {\n",
    "    color <- '#008800' \n",
    "  } else {\n",
    "    color <- '#bb0000'\n",
    "  }\n",
    "  image(1:28, 1:28, img, col = gray((0:255)/255), xaxt = 'n', yaxt = 'n',\n",
    "        main = paste0(class_names[predicted_label + 1], \" (\",\n",
    "                      class_names[true_label + 1], \")\"),\n",
    "        col.main = color)\n",
    "}"
   ]
  },
  {
   "cell_type": "markdown",
   "metadata": {
    "slideshow": {
     "slide_type": "slide"
    }
   },
   "source": [
    "## Exam Questions"
   ]
  },
  {
   "cell_type": "markdown",
   "metadata": {
    "slideshow": {
     "slide_type": "subslide"
    }
   },
   "source": [
    "### Exam AIS WS 2018/2019\n",
    "\n",
    "__Question 6: Artificial Neural Networks__\n",
    "\n",
    "(a) You are given a 5x5 input image and a 3x3 kernel (filter)\n",
    "\n",
    "<img src='images/08/conv.png' style='width: 50%'>"
   ]
  },
  {
   "cell_type": "markdown",
   "metadata": {
    "slideshow": {
     "slide_type": "subslide"
    }
   },
   "source": [
    "i. (2.5 points) What are the output dimensions of the convolution with ***zero*** padding? Draw the empty grid and calculate the upper right and lower left result. "
   ]
  },
  {
   "cell_type": "markdown",
   "metadata": {},
   "source": [
    "> draw 5x5 matrix\n",
    "- uppter right: $1*1+1*6=7$\n",
    "- lower left: $1*8=8$"
   ]
  },
  {
   "cell_type": "markdown",
   "metadata": {
    "slideshow": {
     "slide_type": "subslide"
    }
   },
   "source": [
    "(ii.) (2.5 points) What are the output dimensions of the convolution with ***no*** padding? Draw the **empty** grid and calculate the upper right and lower left result. "
   ]
  },
  {
   "cell_type": "markdown",
   "metadata": {},
   "source": [
    "> draw 3x3 matrix\n",
    "- uppter right: $1*1+1*9+1*7=17$\n",
    "- lower left: $1*3+1*3+1*5=11$"
   ]
  },
  {
   "cell_type": "markdown",
   "metadata": {
    "slideshow": {
     "slide_type": "subslide"
    }
   },
   "source": [
    "(b) (2 points) __Generative Adversial Networks__ \n",
    "The word “adversarial” in the acronym for GANs suggest a two-player game. What are the two players, and what are their respective goals?"
   ]
  },
  {
   "cell_type": "markdown",
   "metadata": {},
   "source": [
    "> The two players are the “generator” and the “discriminator.” The generator creates a stream of synthetic images. The discriminator processes a stream of randomly interleaved real and synthetic images produced by the generator and attempts to classify them. The discriminator is trained to maximize the log probability of the correct class label. The generator by contrast attempts to minimize this log probability, i.e. it tries to defeat (fool) the discriminator. Thus the design is adversarial and game-like."
   ]
  }
 ],
 "metadata": {
  "kernelspec": {
   "display_name": "R",
   "language": "R",
   "name": "ir"
  },
  "language_info": {
   "codemirror_mode": "r",
   "file_extension": ".r",
   "mimetype": "text/x-r-source",
   "name": "R",
   "pygments_lexer": "r",
   "version": "3.6.0"
  },
  "rise": {
   "enable_chalkboard": false,
   "overlay": "<div class='logo'><img src='images/uniwue4c.png'></div>",
   "scroll": true
  },
  "toc": {
   "base_numbering": 1,
   "nav_menu": {},
   "number_sections": true,
   "sideBar": true,
   "skip_h1_title": true,
   "title_cell": "Agenda",
   "title_sidebar": "Contents",
   "toc_cell": true,
   "toc_position": {},
   "toc_section_display": true,
   "toc_window_display": false
  }
 },
 "nbformat": 4,
 "nbformat_minor": 2
}
