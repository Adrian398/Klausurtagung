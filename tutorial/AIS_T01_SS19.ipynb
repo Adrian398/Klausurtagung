{
 "cells": [
  {
   "cell_type": "markdown",
   "metadata": {
    "slideshow": {
     "slide_type": "slide"
    }
   },
   "source": [
    "# AIS 01 Tutorial - Introduction"
   ]
  },
  {
   "cell_type": "markdown",
   "metadata": {
    "slideshow": {
     "slide_type": "subslide"
    }
   },
   "source": [
    "## Course organizsation\n",
    "\n",
    "-  __Course times__\n",
    "    - Lecture: Mon\t12:15 - 13:45\t\tHS Alte IHK\n",
    "    - Tutorial: Wed 14:15 - 15:45\t\tCIP II\n",
    "    \n",
    "    \n",
    " -  __Tutorial__\n",
    "    -  Work on weekly assignments and programming examples\n",
    "    -  Worksheet submissions are mandatory\n",
    "    \n",
    "    \n",
    " -  __WueCampus (Access Code: AIS19)__\n",
    "    - Lecture slides\n",
    "    - Exercises\n",
    "    - Forum"
   ]
  },
  {
   "cell_type": "markdown",
   "metadata": {
    "slideshow": {
     "slide_type": "subslide"
    }
   },
   "source": [
    "## Learning Objective\n",
    "\n",
    "- __Computational thinking__: Apply information technology, computational thinking, and utilize programming languages and software for data analysis\n",
    "- __Data Management__: Data entry and annotation, data preparation and manipulation\n",
    "- __Statistical techniques__: General statistical analysis techniques and their use for data inspection, exploration, and analysis\n",
    "- __Machine Learning__: Effectively use approaches to perform Predictive Analytics\n"
   ]
  },
  {
   "cell_type": "markdown",
   "metadata": {
    "slideshow": {
     "slide_type": "slide"
    }
   },
   "source": [
    "## Learning Environment"
   ]
  },
  {
   "cell_type": "markdown",
   "metadata": {
    "slideshow": {
     "slide_type": "subslide"
    }
   },
   "source": [
    "### Jupyter Notebooks\n",
    "..."
   ]
  },
  {
   "cell_type": "markdown",
   "metadata": {
    "slideshow": {
     "slide_type": "subslide"
    }
   },
   "source": [
    "## We will be using R\n",
    "\n",
    "R is not the only language that can be used for data analysis. Why R rather than another? Here is a list:\n",
    "- interactive language\n",
    "- data structures & functions\n",
    "- graphics\n",
    "- packages & community!\n",
    "\n",
    "<img src=\"https://upload.wikimedia.org/wikipedia/commons/thumb/1/1b/R_logo.svg/724px-R_logo.svg.png\" style=\"width:300px; float:center\">\n",
    "\n",
    "http://www.burns-stat.com/documents/tutorials/why-use-the-r-language/\n",
    "\n"
   ]
  },
  {
   "cell_type": "markdown",
   "metadata": {
    "slideshow": {
     "slide_type": "subslide"
    }
   },
   "source": [
    "### Tidyverse\n",
    "\n",
    "The tidyverse is an opinionated collection of R packages designed for data science. All packages share an underlying design philosophy, grammar, and data structures. \n",
    "\n",
    "<img src=\"https://www.tidyverse.org/images/hex-tidyverse.png\" style=\"width:300px\">"
   ]
  },
  {
   "cell_type": "markdown",
   "metadata": {
    "slideshow": {
     "slide_type": "subslide"
    }
   },
   "source": [
    "#### Install and load packages\n",
    "\n",
    "```R\n",
    "# install\n",
    "install.packages('tidyverse')\n",
    "# load\n",
    "library(tidyverse)\n",
    "```\n",
    "\n",
    "Tidyverse is already pre-installed, so we just need to load it:"
   ]
  },
  {
   "cell_type": "code",
   "execution_count": 1,
   "metadata": {},
   "outputs": [
    {
     "name": "stderr",
     "output_type": "stream",
     "text": [
      "Registered S3 methods overwritten by 'ggplot2':\n",
      "  method         from \n",
      "  [.quosures     rlang\n",
      "  c.quosures     rlang\n",
      "  print.quosures rlang\n",
      "Registered S3 method overwritten by 'rvest':\n",
      "  method            from\n",
      "  read_xml.response xml2\n",
      "── \u001b[1mAttaching packages\u001b[22m ─────────────────────────────────────── tidyverse 1.2.1 ──\n",
      "\u001b[32m✔\u001b[39m \u001b[34mggplot2\u001b[39m 3.1.1       \u001b[32m✔\u001b[39m \u001b[34mpurrr  \u001b[39m 0.3.2  \n",
      "\u001b[32m✔\u001b[39m \u001b[34mtibble \u001b[39m 2.1.1       \u001b[32m✔\u001b[39m \u001b[34mdplyr  \u001b[39m 0.8.0.\u001b[31m1\u001b[39m\n",
      "\u001b[32m✔\u001b[39m \u001b[34mtidyr  \u001b[39m 0.8.3       \u001b[32m✔\u001b[39m \u001b[34mstringr\u001b[39m 1.4.0  \n",
      "\u001b[32m✔\u001b[39m \u001b[34mreadr  \u001b[39m 1.3.1       \u001b[32m✔\u001b[39m \u001b[34mforcats\u001b[39m 0.4.0  \n",
      "── \u001b[1mConflicts\u001b[22m ────────────────────────────────────────── tidyverse_conflicts() ──\n",
      "\u001b[31m✖\u001b[39m \u001b[34mdplyr\u001b[39m::\u001b[32mfilter()\u001b[39m masks \u001b[34mstats\u001b[39m::filter()\n",
      "\u001b[31m✖\u001b[39m \u001b[34mdplyr\u001b[39m::\u001b[32mlag()\u001b[39m    masks \u001b[34mstats\u001b[39m::lag()\n"
     ]
    }
   ],
   "source": [
    "library(tidyverse)"
   ]
  },
  {
   "cell_type": "markdown",
   "metadata": {},
   "source": [
    "## Basic functions"
   ]
  },
  {
   "cell_type": "markdown",
   "metadata": {
    "slideshow": {
     "slide_type": "subslide"
    }
   },
   "source": [
    "### Loading packages"
   ]
  },
  {
   "cell_type": "markdown",
   "metadata": {},
   "source": [
    "### Getting to know your data\n",
    "\n",
    "Student Performance Data Set from https://rstudio-pubs-static.s3.amazonaws.com/108835_65a73467d96f4c79a5f808f5b8833922.html"
   ]
  },
  {
   "cell_type": "code",
   "execution_count": null,
   "metadata": {},
   "outputs": [],
   "source": [
    "#### math_student_data_url <- \"https://git.io/fjcqH\"\n",
    "math_student_data <- read.table(file = math_student_data_url, header = TRUE, sep = \";\");\n",
    "por_student_data_url <- \"https://git.io/fjcq5\";\n",
    "por_student_data <- read.table(file = por_student_data_url, header = TRUE, sep = \";\");"
   ]
  },
  {
   "cell_type": "code",
   "execution_count": null,
   "metadata": {},
   "outputs": [],
   "source": [
    "math_student_data %>%\n",
    "    group"
   ]
  },
  {
   "cell_type": "code",
   "execution_count": null,
   "metadata": {},
   "outputs": [],
   "source": []
  },
  {
   "cell_type": "markdown",
   "metadata": {
    "slideshow": {
     "slide_type": "slide"
    }
   },
   "source": [
    "## Exam Questions"
   ]
  },
  {
   "cell_type": "markdown",
   "metadata": {
    "slideshow": {
     "slide_type": "subslide"
    }
   },
   "source": [
    "### Exam AIS WS 2018/19: Data Engineering & Integration (5 points)\n",
    "\n",
    "(a) __Analytic Pipelines__: Consider the following diamonds data set:"
   ]
  },
  {
   "cell_type": "code",
   "execution_count": 11,
   "metadata": {},
   "outputs": [],
   "source": [
    "# This code was not included in the exam, values may differ\n",
    "set.seed(5)\n",
    "ggplot2::diamonds %>% \n",
    "    sample_n(10) %>% \n",
    "    arrange(cut) -> diamonds"
   ]
  },
  {
   "cell_type": "code",
   "execution_count": 12,
   "metadata": {},
   "outputs": [
    {
     "data": {
      "text/html": [
       "<table>\n",
       "<caption>A tibble: 10 × 10</caption>\n",
       "<thead>\n",
       "\t<tr><th scope=col>carat</th><th scope=col>cut</th><th scope=col>color</th><th scope=col>clarity</th><th scope=col>depth</th><th scope=col>table</th><th scope=col>price</th><th scope=col>x</th><th scope=col>y</th><th scope=col>z</th></tr>\n",
       "\t<tr><th scope=col>&lt;dbl&gt;</th><th scope=col>&lt;ord&gt;</th><th scope=col>&lt;ord&gt;</th><th scope=col>&lt;ord&gt;</th><th scope=col>&lt;dbl&gt;</th><th scope=col>&lt;dbl&gt;</th><th scope=col>&lt;int&gt;</th><th scope=col>&lt;dbl&gt;</th><th scope=col>&lt;dbl&gt;</th><th scope=col>&lt;dbl&gt;</th></tr>\n",
       "</thead>\n",
       "<tbody>\n",
       "\t<tr><td>0.43</td><td>Good     </td><td>F</td><td>SI1 </td><td>63.6</td><td>53</td><td> 948</td><td>4.83</td><td>4.79</td><td>3.06</td></tr>\n",
       "\t<tr><td>0.71</td><td>Good     </td><td>I</td><td>VS2 </td><td>64.0</td><td>59</td><td>1840</td><td>5.61</td><td>5.55</td><td>3.57</td></tr>\n",
       "\t<tr><td>0.56</td><td>Very Good</td><td>H</td><td>VVS2</td><td>59.8</td><td>57</td><td>1723</td><td>5.39</td><td>5.48</td><td>3.25</td></tr>\n",
       "\t<tr><td>1.13</td><td>Very Good</td><td>I</td><td>SI2 </td><td>59.9</td><td>57</td><td>4195</td><td>6.76</td><td>6.80</td><td>4.06</td></tr>\n",
       "\t<tr><td>1.46</td><td>Premium  </td><td>H</td><td>SI2 </td><td>61.4</td><td>59</td><td>7604</td><td>7.30</td><td>7.26</td><td>4.47</td></tr>\n",
       "\t<tr><td>1.29</td><td>Premium  </td><td>J</td><td>VS1 </td><td>61.7</td><td>59</td><td>5463</td><td>6.93</td><td>6.97</td><td>4.29</td></tr>\n",
       "\t<tr><td>1.09</td><td>Premium  </td><td>H</td><td>VS1 </td><td>60.2</td><td>61</td><td>5951</td><td>6.70</td><td>6.66</td><td>4.02</td></tr>\n",
       "\t<tr><td>0.53</td><td>Ideal    </td><td>F</td><td>VS1 </td><td>61.7</td><td>56</td><td>1630</td><td>5.20</td><td>5.22</td><td>3.21</td></tr>\n",
       "\t<tr><td>0.70</td><td>Ideal    </td><td>G</td><td>VS2 </td><td>61.8</td><td>54</td><td>2593</td><td>5.71</td><td>5.74</td><td>3.54</td></tr>\n",
       "\t<tr><td>0.32</td><td>Ideal    </td><td>F</td><td>VVS2</td><td>62.0</td><td>55</td><td> 786</td><td>4.39</td><td>4.41</td><td>2.73</td></tr>\n",
       "</tbody>\n",
       "</table>\n"
      ],
      "text/latex": [
       "A tibble: 10 × 10\n",
       "\\begin{tabular}{r|llllllllll}\n",
       " carat & cut & color & clarity & depth & table & price & x & y & z\\\\\n",
       " <dbl> & <ord> & <ord> & <ord> & <dbl> & <dbl> & <int> & <dbl> & <dbl> & <dbl>\\\\\n",
       "\\hline\n",
       "\t 0.43 & Good      & F & SI1  & 63.6 & 53 &  948 & 4.83 & 4.79 & 3.06\\\\\n",
       "\t 0.71 & Good      & I & VS2  & 64.0 & 59 & 1840 & 5.61 & 5.55 & 3.57\\\\\n",
       "\t 0.56 & Very Good & H & VVS2 & 59.8 & 57 & 1723 & 5.39 & 5.48 & 3.25\\\\\n",
       "\t 1.13 & Very Good & I & SI2  & 59.9 & 57 & 4195 & 6.76 & 6.80 & 4.06\\\\\n",
       "\t 1.46 & Premium   & H & SI2  & 61.4 & 59 & 7604 & 7.30 & 7.26 & 4.47\\\\\n",
       "\t 1.29 & Premium   & J & VS1  & 61.7 & 59 & 5463 & 6.93 & 6.97 & 4.29\\\\\n",
       "\t 1.09 & Premium   & H & VS1  & 60.2 & 61 & 5951 & 6.70 & 6.66 & 4.02\\\\\n",
       "\t 0.53 & Ideal     & F & VS1  & 61.7 & 56 & 1630 & 5.20 & 5.22 & 3.21\\\\\n",
       "\t 0.70 & Ideal     & G & VS2  & 61.8 & 54 & 2593 & 5.71 & 5.74 & 3.54\\\\\n",
       "\t 0.32 & Ideal     & F & VVS2 & 62.0 & 55 &  786 & 4.39 & 4.41 & 2.73\\\\\n",
       "\\end{tabular}\n"
      ],
      "text/markdown": [
       "\n",
       "A tibble: 10 × 10\n",
       "\n",
       "| carat &lt;dbl&gt; | cut &lt;ord&gt; | color &lt;ord&gt; | clarity &lt;ord&gt; | depth &lt;dbl&gt; | table &lt;dbl&gt; | price &lt;int&gt; | x &lt;dbl&gt; | y &lt;dbl&gt; | z &lt;dbl&gt; |\n",
       "|---|---|---|---|---|---|---|---|---|---|\n",
       "| 0.43 | Good      | F | SI1  | 63.6 | 53 |  948 | 4.83 | 4.79 | 3.06 |\n",
       "| 0.71 | Good      | I | VS2  | 64.0 | 59 | 1840 | 5.61 | 5.55 | 3.57 |\n",
       "| 0.56 | Very Good | H | VVS2 | 59.8 | 57 | 1723 | 5.39 | 5.48 | 3.25 |\n",
       "| 1.13 | Very Good | I | SI2  | 59.9 | 57 | 4195 | 6.76 | 6.80 | 4.06 |\n",
       "| 1.46 | Premium   | H | SI2  | 61.4 | 59 | 7604 | 7.30 | 7.26 | 4.47 |\n",
       "| 1.29 | Premium   | J | VS1  | 61.7 | 59 | 5463 | 6.93 | 6.97 | 4.29 |\n",
       "| 1.09 | Premium   | H | VS1  | 60.2 | 61 | 5951 | 6.70 | 6.66 | 4.02 |\n",
       "| 0.53 | Ideal     | F | VS1  | 61.7 | 56 | 1630 | 5.20 | 5.22 | 3.21 |\n",
       "| 0.70 | Ideal     | G | VS2  | 61.8 | 54 | 2593 | 5.71 | 5.74 | 3.54 |\n",
       "| 0.32 | Ideal     | F | VVS2 | 62.0 | 55 |  786 | 4.39 | 4.41 | 2.73 |\n",
       "\n"
      ],
      "text/plain": [
       "   carat cut       color clarity depth table price x    y    z   \n",
       "1  0.43  Good      F     SI1     63.6  53     948  4.83 4.79 3.06\n",
       "2  0.71  Good      I     VS2     64.0  59    1840  5.61 5.55 3.57\n",
       "3  0.56  Very Good H     VVS2    59.8  57    1723  5.39 5.48 3.25\n",
       "4  1.13  Very Good I     SI2     59.9  57    4195  6.76 6.80 4.06\n",
       "5  1.46  Premium   H     SI2     61.4  59    7604  7.30 7.26 4.47\n",
       "6  1.29  Premium   J     VS1     61.7  59    5463  6.93 6.97 4.29\n",
       "7  1.09  Premium   H     VS1     60.2  61    5951  6.70 6.66 4.02\n",
       "8  0.53  Ideal     F     VS1     61.7  56    1630  5.20 5.22 3.21\n",
       "9  0.70  Ideal     G     VS2     61.8  54    2593  5.71 5.74 3.54\n",
       "10 0.32  Ideal     F     VVS2    62.0  55     786  4.39 4.41 2.73"
      ]
     },
     "metadata": {},
     "output_type": "display_data"
    }
   ],
   "source": [
    "diamonds"
   ]
  },
  {
   "cell_type": "markdown",
   "metadata": {
    "slideshow": {
     "slide_type": "subslide"
    }
   },
   "source": [
    "i. (1 points) You are executing the code below. How many rows does the resulting data frame contain? Briefly explain your answer.\n",
    "\n",
    "```R\n",
    "diamonds  %>%\n",
    "    group_by(cut) %>%\n",
    "    summarize(median(depth))\n",
    "```\n",
    "\n",
    "__Solution__:"
   ]
  },
  {
   "cell_type": "code",
   "execution_count": 7,
   "metadata": {
    "scrolled": true
   },
   "outputs": [
    {
     "data": {
      "text/html": [
       "<table>\n",
       "<caption>A tibble: 4 × 2</caption>\n",
       "<thead>\n",
       "\t<tr><th scope=col>cut</th><th scope=col>median(depth)</th></tr>\n",
       "\t<tr><th scope=col>&lt;ord&gt;</th><th scope=col>&lt;dbl&gt;</th></tr>\n",
       "</thead>\n",
       "<tbody>\n",
       "\t<tr><td>Good     </td><td>63.80</td></tr>\n",
       "\t<tr><td>Very Good</td><td>59.85</td></tr>\n",
       "\t<tr><td>Premium  </td><td>61.40</td></tr>\n",
       "\t<tr><td>Ideal    </td><td>61.80</td></tr>\n",
       "</tbody>\n",
       "</table>\n"
      ],
      "text/latex": [
       "A tibble: 4 × 2\n",
       "\\begin{tabular}{r|ll}\n",
       " cut & median(depth)\\\\\n",
       " <ord> & <dbl>\\\\\n",
       "\\hline\n",
       "\t Good      & 63.80\\\\\n",
       "\t Very Good & 59.85\\\\\n",
       "\t Premium   & 61.40\\\\\n",
       "\t Ideal     & 61.80\\\\\n",
       "\\end{tabular}\n"
      ],
      "text/markdown": [
       "\n",
       "A tibble: 4 × 2\n",
       "\n",
       "| cut &lt;ord&gt; | median(depth) &lt;dbl&gt; |\n",
       "|---|---|\n",
       "| Good      | 63.80 |\n",
       "| Very Good | 59.85 |\n",
       "| Premium   | 61.40 |\n",
       "| Ideal     | 61.80 |\n",
       "\n"
      ],
      "text/plain": [
       "  cut       median(depth)\n",
       "1 Good      63.80        \n",
       "2 Very Good 59.85        \n",
       "3 Premium   61.40        \n",
       "4 Ideal     61.80        "
      ]
     },
     "metadata": {},
     "output_type": "display_data"
    }
   ],
   "source": [
    "diamonds %>% \n",
    "    group_by(cut) %>%\n",
    "    summarize(median(depth))"
   ]
  },
  {
   "cell_type": "markdown",
   "metadata": {
    "slideshow": {
     "slide_type": "subslide"
    }
   },
   "source": [
    "ii. (2 points) You are executing the code below. What are the column names of the resulting data frame?\n",
    "\n",
    "```R\n",
    "diamonds %>%\n",
    "    group_by(clarity , color) %>%\n",
    "    filter(price > 1000) %>%\n",
    "    mutate(volume = x * y * z) %>%\n",
    "    summarise(x = mean(carat),y = mean(price)) %>%\n",
    "    mutate(z = x * y)\n",
    "```\n",
    "\n",
    "__Solution__:"
   ]
  },
  {
   "cell_type": "code",
   "execution_count": 3,
   "metadata": {},
   "outputs": [
    {
     "data": {
      "text/html": [
       "<ol class=list-inline>\n",
       "\t<li>'clarity'</li>\n",
       "\t<li>'color'</li>\n",
       "\t<li>'x'</li>\n",
       "\t<li>'y'</li>\n",
       "\t<li>'z'</li>\n",
       "</ol>\n"
      ],
      "text/latex": [
       "\\begin{enumerate*}\n",
       "\\item 'clarity'\n",
       "\\item 'color'\n",
       "\\item 'x'\n",
       "\\item 'y'\n",
       "\\item 'z'\n",
       "\\end{enumerate*}\n"
      ],
      "text/markdown": [
       "1. 'clarity'\n",
       "2. 'color'\n",
       "3. 'x'\n",
       "4. 'y'\n",
       "5. 'z'\n",
       "\n",
       "\n"
      ],
      "text/plain": [
       "[1] \"clarity\" \"color\"   \"x\"       \"y\"       \"z\"      "
      ]
     },
     "metadata": {},
     "output_type": "display_data"
    }
   ],
   "source": [
    "diamonds %>%\n",
    "    group_by(clarity , color) %>%\n",
    "    filter(price > 1000) %>%\n",
    "    mutate(volume = x * y * z) %>%\n",
    "    summarise(x = mean(carat),y = mean(price)) %>%\n",
    "    mutate(z = x * y) %>%\n",
    "    colnames()"
   ]
  },
  {
   "cell_type": "markdown",
   "metadata": {
    "slideshow": {
     "slide_type": "subslide"
    }
   },
   "source": [
    "iii. (2 points) Explain in pseudo code (e.g., dplyr pipelines) how to obtain the following transformed table from the given data set.\n",
    "\n",
    "<table>\n",
    "<thead>\n",
    "\t<tr><th scope=col>color</th><th scope=col>max_price</th><th scope=col>min_price</th></tr>\n",
    "</thead>\n",
    "<tbody>\n",
    "\t<tr><td>F</td><td>1630</td><td> 786</td></tr>\n",
    "\t<tr><td>G</td><td>2593</td><td>2593</td></tr>\n",
    "\t<tr><td>H</td><td>7604</td><td>1723</td></tr>\n",
    "\t<tr><td>I</td><td>4195</td><td>1840</td></tr>\n",
    "\t<tr><td>J</td><td>5463</td><td>5463</td></tr>\n",
    "</tbody>\n",
    "</table>"
   ]
  },
  {
   "cell_type": "code",
   "execution_count": 19,
   "metadata": {},
   "outputs": [
    {
     "data": {
      "text/html": [
       "<table>\n",
       "<caption>A tibble: 5 × 3</caption>\n",
       "<thead>\n",
       "\t<tr><th scope=col>color</th><th scope=col>max_price</th><th scope=col>min_price</th></tr>\n",
       "\t<tr><th scope=col>&lt;ord&gt;</th><th scope=col>&lt;dbl&gt;</th><th scope=col>&lt;dbl&gt;</th></tr>\n",
       "</thead>\n",
       "<tbody>\n",
       "\t<tr><td>F</td><td>1630</td><td> 786</td></tr>\n",
       "\t<tr><td>G</td><td>2593</td><td>2593</td></tr>\n",
       "\t<tr><td>H</td><td>7604</td><td>1723</td></tr>\n",
       "\t<tr><td>I</td><td>4195</td><td>1840</td></tr>\n",
       "\t<tr><td>J</td><td>5463</td><td>5463</td></tr>\n",
       "</tbody>\n",
       "</table>\n"
      ],
      "text/latex": [
       "A tibble: 5 × 3\n",
       "\\begin{tabular}{r|lll}\n",
       " color & max\\_price & min\\_price\\\\\n",
       " <ord> & <dbl> & <dbl>\\\\\n",
       "\\hline\n",
       "\t F & 1630 &  786\\\\\n",
       "\t G & 2593 & 2593\\\\\n",
       "\t H & 7604 & 1723\\\\\n",
       "\t I & 4195 & 1840\\\\\n",
       "\t J & 5463 & 5463\\\\\n",
       "\\end{tabular}\n"
      ],
      "text/markdown": [
       "\n",
       "A tibble: 5 × 3\n",
       "\n",
       "| color &lt;ord&gt; | max_price &lt;dbl&gt; | min_price &lt;dbl&gt; |\n",
       "|---|---|---|\n",
       "| F | 1630 |  786 |\n",
       "| G | 2593 | 2593 |\n",
       "| H | 7604 | 1723 |\n",
       "| I | 4195 | 1840 |\n",
       "| J | 5463 | 5463 |\n",
       "\n"
      ],
      "text/plain": [
       "  color max_price min_price\n",
       "1 F     1630       786     \n",
       "2 G     2593      2593     \n",
       "3 H     7604      1723     \n",
       "4 I     4195      1840     \n",
       "5 J     5463      5463     "
      ]
     },
     "metadata": {},
     "output_type": "display_data"
    }
   ],
   "source": [
    "options(repr.tibble.width = 100)\n",
    "diamonds %>% \n",
    "        group_by(color) %>% \n",
    "        summarise(max_price = max(price),\n",
    "                  min_price = min(price))"
   ]
  }
 ],
 "metadata": {
  "celltoolbar": "Slideshow",
  "kernelspec": {
   "display_name": "R",
   "language": "R",
   "name": "ir"
  },
  "language_info": {
   "codemirror_mode": "r",
   "file_extension": ".r",
   "mimetype": "text/x-r-source",
   "name": "R",
   "pygments_lexer": "r",
   "version": "3.6.0"
  },
  "rise": {
   "enable_chalkboard": true,
   "overlay": "<div class='logo'><img src='images/uniwue4c.png'></div>",
   "scroll": true
  }
 },
 "nbformat": 4,
 "nbformat_minor": 2
}
