{
 "cells": [
  {
   "cell_type": "markdown",
   "metadata": {
    "slideshow": {
     "slide_type": "slide"
    }
   },
   "source": [
    "*Analytical Information Systems*\n",
    "\n",
    "# Tutorial 1 - Introduction\n",
    "\n",
    "Lehrstuhl für Wirtschaftsinformatik und Informationsmanagement<br>\n",
    "Prof. Christoph M. Flath<br>\n",
    "\n",
    "SS 2019"
   ]
  },
  {
   "cell_type": "markdown",
   "metadata": {
    "slideshow": {
     "slide_type": "subslide"
    },
    "toc": true
   },
   "source": [
    "<h1>Agenda<span class=\"tocSkip\"></span></h1>\n",
    "<div class=\"toc\"><ul class=\"toc-item\"><li><span><a href=\"#Course-Overview\" data-toc-modified-id=\"Course-Overview-1\"><span class=\"toc-item-num\">1&nbsp;&nbsp;</span>Course Overview</a></span><ul class=\"toc-item\"><li><span><a href=\"#Course-Organizsation\" data-toc-modified-id=\"Course-Organizsation-1.1\"><span class=\"toc-item-num\">1.1&nbsp;&nbsp;</span>Course Organizsation</a></span></li><li><span><a href=\"#Learning-Objective\" data-toc-modified-id=\"Learning-Objective-1.2\"><span class=\"toc-item-num\">1.2&nbsp;&nbsp;</span>Learning Objective</a></span></li><li><span><a href=\"#Teching-Environment-(Tutorial)\" data-toc-modified-id=\"Teching-Environment-(Tutorial)-1.3\"><span class=\"toc-item-num\">1.3&nbsp;&nbsp;</span>Teching Environment (Tutorial)</a></span></li><li><span><a href=\"#Programming-language\" data-toc-modified-id=\"Programming-language-1.4\"><span class=\"toc-item-num\">1.4&nbsp;&nbsp;</span>Programming language</a></span></li></ul></li><li><span><a href=\"#Introduction-to-R-and-Tidyverse\" data-toc-modified-id=\"Introduction-to-R-and-Tidyverse-2\"><span class=\"toc-item-num\">2&nbsp;&nbsp;</span>Introduction to R and Tidyverse</a></span><ul class=\"toc-item\"><li><span><a href=\"#Getting-to-know-your-data\" data-toc-modified-id=\"Getting-to-know-your-data-2.1\"><span class=\"toc-item-num\">2.1&nbsp;&nbsp;</span>Getting to know your data</a></span></li></ul></li><li><span><a href=\"#Exam-Questions\" data-toc-modified-id=\"Exam-Questions-3\"><span class=\"toc-item-num\">3&nbsp;&nbsp;</span>Exam Questions</a></span><ul class=\"toc-item\"><li><span><a href=\"#Exam-AIS-WS-2018/19\" data-toc-modified-id=\"Exam-AIS-WS-2018/19-3.1\"><span class=\"toc-item-num\">3.1&nbsp;&nbsp;</span>Exam AIS WS 2018/19</a></span></li></ul></li></ul></div>"
   ]
  },
  {
   "cell_type": "markdown",
   "metadata": {
    "slideshow": {
     "slide_type": "slide"
    }
   },
   "source": [
    "## Course Overview"
   ]
  },
  {
   "cell_type": "markdown",
   "metadata": {
    "slideshow": {
     "slide_type": "subslide"
    }
   },
   "source": [
    "### Course Organizsation\n",
    "\n",
    "-  __Course times__\n",
    "    - Lecture: Mon\t12:15 - 13:45\t\tHS Alte IHK\n",
    "    - Tutorial: Wed 14:15 - 15:45\t\tCIP II\n",
    "    \n",
    "    \n",
    "-  __WueCampus (Access Code: AIS19)__\n",
    "    - Lecture slides\n",
    "    - Exercises\n",
    "    - Forum\n",
    "    \n",
    "- __Assessment__\n",
    "    - Exam\n",
    "    - Self-assessment through practice questions in Wuecampus"
   ]
  },
  {
   "cell_type": "markdown",
   "metadata": {
    "slideshow": {
     "slide_type": "subslide"
    }
   },
   "source": [
    "### Learning Objective\n",
    "\n",
    "- __Computational thinking__: Apply information technology, computational thinking, and utilize programming languages and software for data analysis\n",
    "- __Data Management__: Data entry and annotation, data preparation and manipulation\n",
    "- __Statistical techniques__: General statistical analysis techniques and their use for data inspection, exploration, and analysis\n",
    "- __Machine Learning__: Effectively use approaches to perform Predictive Analytics\n"
   ]
  },
  {
   "cell_type": "markdown",
   "metadata": {
    "slideshow": {
     "slide_type": "subslide"
    }
   },
   "source": [
    "### Teching Environment (Tutorial)"
   ]
  },
  {
   "cell_type": "markdown",
   "metadata": {
    "slideshow": {
     "slide_type": "subslide"
    }
   },
   "source": [
    "#### Jupyter Ecosystem\n",
    "\n",
    "<img src=\"images/01/jupyter_nature.png\" style=\"width:40%; float:right\">\n",
    "\n",
    "Project Jupyter exists to develop open-source software, open-standards, and services for interactive computing across dozens of programming languages (https://jupyter.org/).\n",
    "\n",
    "Perkel, J. M. (2018). __Why Jupyter is data scientists' computational notebook of choice__. Nature, 563(7729), 145.\n",
    "https://www.nature.com/articles/d41586-018-07196-1\n",
    "\n",
    "\n",
    "\n",
    "\n",
    "\n",
    "\n",
    "\n"
   ]
  },
  {
   "cell_type": "markdown",
   "metadata": {
    "slideshow": {
     "slide_type": "subslide"
    }
   },
   "source": [
    "#### The Jupyter Notebook\n",
    "<img src=\"https://upload.wikimedia.org/wikipedia/commons/thumb/3/38/Jupyter_logo.svg/250px-Jupyter_logo.svg.png\" style=\"width:20%; float:right\">\n",
    "\n",
    "- open-source web application \n",
    "- create and share documents that contain\n",
    "    - live code and narrative text\n",
    "    - data cleaning and transformation\n",
    "    - numerical simulation\n",
    "    - statistical modeling \n",
    "    - data visualization\n",
    "    - machine learning\n",
    "    - and much more "
   ]
  },
  {
   "cell_type": "markdown",
   "metadata": {
    "slideshow": {
     "slide_type": "subslide"
    }
   },
   "source": [
    "#### Binder (computing environments)\n",
    "<img src=\"https://mybinder.readthedocs.io/en/latest/_static/logo.png\" style=\"width:20%; float:right\">\n",
    "\n",
    "- allows to create custom computing environments \n",
    "- that can be shared and used by many remote users\n",
    "\n",
    "It is powered by BinderHub, which is an open-source tool that deploys the Binder service in the cloud (https://mybinder.org/).\n"
   ]
  },
  {
   "cell_type": "markdown",
   "metadata": {
    "slideshow": {
     "slide_type": "subslide"
    }
   },
   "source": [
    "### Programming language"
   ]
  },
  {
   "cell_type": "markdown",
   "metadata": {
    "slideshow": {
     "slide_type": "subslide"
    }
   },
   "source": [
    "#### We will be using R\n",
    "<img src=\"https://upload.wikimedia.org/wikipedia/commons/thumb/1/1b/R_logo.svg/724px-R_logo.svg.png\" style=\"width:20%; float:right\">\n",
    "\n",
    "R is not the only language that can be used for data analysis. Why R rather than another? Here is a list:\n",
    "- interactive language\n",
    "- data structures & functions\n",
    "- graphics\n",
    "- packages & community!\n",
    "\n",
    "http://www.burns-stat.com/documents/tutorials/why-use-the-r-language/\n",
    "\n"
   ]
  },
  {
   "cell_type": "markdown",
   "metadata": {
    "slideshow": {
     "slide_type": "subslide"
    }
   },
   "source": [
    "#### Tidyverse\n",
    "\n",
    "The tidyverse is an opinionated collection of R packages designed for data science. All packages share an underlying design philosophy, grammar, and data structures (https://www.tidyverse.org).\n",
    "\n",
    "<img src=\"images/01/ecosystem.png\" style=\"width:65%\">\n"
   ]
  },
  {
   "cell_type": "markdown",
   "metadata": {
    "slideshow": {
     "slide_type": "slide"
    }
   },
   "source": [
    "## Introduction to R and Tidyverse"
   ]
  },
  {
   "cell_type": "markdown",
   "metadata": {
    "slideshow": {
     "slide_type": "subslide"
    }
   },
   "source": [
    "#### Install and load packages\n",
    "\n",
    "Example\n",
    "\n",
    "```R\n",
    "# install\n",
    "install.packages('tidyverse')\n",
    "# load\n",
    "library(tidyverse)\n",
    "```\n",
    "\n",
    "Tidyverse is already pre-installed, so we just need to load it:"
   ]
  },
  {
   "cell_type": "code",
   "execution_count": null,
   "metadata": {},
   "outputs": [],
   "source": [
    "library(tidyverse)"
   ]
  },
  {
   "cell_type": "markdown",
   "metadata": {},
   "source": [
    "### Getting to know your data\n",
    "\n",
    "Student Performance Data Set from https://rstudio-pubs-static.s3.amazonaws.com/108835_65a73467d96f4c79a5f808f5b8833922.html"
   ]
  },
  {
   "cell_type": "code",
   "execution_count": null,
   "metadata": {},
   "outputs": [],
   "source": [
    "#### math_student_data_url <- \"https://git.io/fjcqH\"\n",
    "math_student_data <- read.table(file = math_student_data_url, header = TRUE, sep = \";\");\n",
    "por_student_data_url <- \"https://git.io/fjcq5\";\n",
    "por_student_data <- read.table(file = por_student_data_url, header = TRUE, sep = \";\");"
   ]
  },
  {
   "cell_type": "code",
   "execution_count": null,
   "metadata": {},
   "outputs": [],
   "source": [
    "math_student_data %>%\n",
    "    group"
   ]
  },
  {
   "cell_type": "code",
   "execution_count": null,
   "metadata": {},
   "outputs": [],
   "source": []
  },
  {
   "cell_type": "markdown",
   "metadata": {
    "slideshow": {
     "slide_type": "slide"
    }
   },
   "source": [
    "## Exam Questions"
   ]
  },
  {
   "cell_type": "markdown",
   "metadata": {
    "slideshow": {
     "slide_type": "subslide"
    }
   },
   "source": [
    "### Exam AIS WS 2018/19\n",
    "##### Data Engineering & Integration (5 points)\n",
    "\n",
    "(a) __Analytic Pipelines__: Consider the following diamonds data set:"
   ]
  },
  {
   "cell_type": "code",
   "execution_count": null,
   "metadata": {
    "slideshow": {
     "slide_type": "skip"
    }
   },
   "outputs": [],
   "source": [
    "# This code was not included in the exam, values may differ\n",
    "set.seed(5)\n",
    "ggplot2::diamonds %>% \n",
    "    sample_n(10) %>% \n",
    "    arrange(cut) -> diamonds"
   ]
  },
  {
   "cell_type": "code",
   "execution_count": null,
   "metadata": {},
   "outputs": [],
   "source": [
    "diamonds"
   ]
  },
  {
   "cell_type": "markdown",
   "metadata": {
    "slideshow": {
     "slide_type": "subslide"
    }
   },
   "source": [
    "i. (1 points) You are executing the code below. How many rows does the resulting data frame contain? Briefly explain your answer.\n",
    "\n",
    "```R\n",
    "diamonds  %>%\n",
    "    group_by(cut) %>%\n",
    "    summarize(median(depth))\n",
    "```\n",
    "\n",
    "__Solution__:"
   ]
  },
  {
   "cell_type": "code",
   "execution_count": null,
   "metadata": {
    "scrolled": true
   },
   "outputs": [],
   "source": [
    "diamonds %>% \n",
    "    group_by(cut) %>%\n",
    "    summarize(median(depth))"
   ]
  },
  {
   "cell_type": "markdown",
   "metadata": {
    "slideshow": {
     "slide_type": "subslide"
    }
   },
   "source": [
    "ii. (2 points) You are executing the code below. What are the column names of the resulting data frame?\n",
    "\n",
    "```R\n",
    "diamonds %>%\n",
    "    group_by(clarity , color) %>%\n",
    "    filter(price > 1000) %>%\n",
    "    mutate(volume = x * y * z) %>%\n",
    "    summarise(x = mean(carat),y = mean(price)) %>%\n",
    "    mutate(z = x * y)\n",
    "```\n",
    "\n",
    "__Solution__:"
   ]
  },
  {
   "cell_type": "code",
   "execution_count": null,
   "metadata": {},
   "outputs": [],
   "source": [
    "diamonds %>%\n",
    "    group_by(clarity , color) %>%\n",
    "    filter(price > 1000) %>%\n",
    "    mutate(volume = x * y * z) %>%\n",
    "    summarise(x = mean(carat),y = mean(price)) %>%\n",
    "    mutate(z = x * y) %>%\n",
    "    colnames()"
   ]
  },
  {
   "cell_type": "markdown",
   "metadata": {
    "slideshow": {
     "slide_type": "subslide"
    }
   },
   "source": [
    "iii. (2 points) Explain in pseudo code (e.g., dplyr pipelines) how to obtain the following transformed table from the given data set.\n",
    "\n",
    "<table>\n",
    "<thead>\n",
    "\t<tr><th scope=col>color</th><th scope=col>max_price</th><th scope=col>min_price</th></tr>\n",
    "</thead>\n",
    "<tbody>\n",
    "\t<tr><td>F</td><td>1630</td><td> 786</td></tr>\n",
    "\t<tr><td>G</td><td>2593</td><td>2593</td></tr>\n",
    "\t<tr><td>H</td><td>7604</td><td>1723</td></tr>\n",
    "\t<tr><td>I</td><td>4195</td><td>1840</td></tr>\n",
    "\t<tr><td>J</td><td>5463</td><td>5463</td></tr>\n",
    "</tbody>\n",
    "</table>"
   ]
  },
  {
   "cell_type": "code",
   "execution_count": null,
   "metadata": {},
   "outputs": [],
   "source": [
    "options(repr.tibble.width = 100)\n",
    "diamonds %>% \n",
    "        group_by(color) %>% \n",
    "        summarise(max_price = max(price),\n",
    "                  min_price = min(price))"
   ]
  }
 ],
 "metadata": {
  "kernelspec": {
   "display_name": "R",
   "language": "R",
   "name": "ir"
  },
  "language_info": {
   "codemirror_mode": "r",
   "file_extension": ".r",
   "mimetype": "text/x-r-source",
   "name": "R",
   "pygments_lexer": "r",
   "version": "3.6.0"
  },
  "rise": {
   "enable_chalkboard": false,
   "overlay": "<div class='logo'><img src='images/uniwue4c.png'></div>",
   "scroll": true
  },
  "toc": {
   "base_numbering": 1,
   "nav_menu": {},
   "number_sections": true,
   "sideBar": true,
   "skip_h1_title": true,
   "title_cell": "Agenda",
   "title_sidebar": "Contents",
   "toc_cell": true,
   "toc_position": {},
   "toc_section_display": true,
   "toc_window_display": false
  }
 },
 "nbformat": 4,
 "nbformat_minor": 2
}
